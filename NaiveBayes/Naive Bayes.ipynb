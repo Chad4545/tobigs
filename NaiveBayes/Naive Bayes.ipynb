{
 "cells": [
  {
   "cell_type": "markdown",
   "metadata": {},
   "source": [
    "# Tobigs_11th_week02_Naive_Bayes\n",
    "\n",
    "#  다음의 나이브베이즈 문제를 풀어보세요\n"
   ]
  },
  {
   "cell_type": "code",
   "execution_count": null,
   "metadata": {},
   "outputs": [],
   "source": [
    "import pandas as pd"
   ]
  },
  {
   "cell_type": "code",
   "execution_count": null,
   "metadata": {},
   "outputs": [],
   "source": [
    "words=[['fun','couple','love','love'],\n",
    "       ['fast','furious','shoot'],\n",
    "       ['couple','fly','fast','fun','fun'],\n",
    "       ['furious','shoot','shoot','fun'],\n",
    "       ['fly','fast','shoot','love']]\n",
    "data = pd.DataFrame({'Num':[1,2,3,4,5],'Words':words,'Genre':['Comedy','Action','Comedy','Action','Action']})\n",
    "data"
   ]
  },
  {
   "cell_type": "code",
   "execution_count": null,
   "metadata": {},
   "outputs": [],
   "source": [
    "cols = ['Num','Words','Genre']\n",
    "data= data[cols]\n",
    "data"
   ]
  },
  {
   "cell_type": "markdown",
   "metadata": {},
   "source": [
    "# Question\n",
    "\n",
    "- 1.1 입력문서가 {fast, furious, fun}만을 주요단어로 가질 때, 이 문서는 얼마의 확률로 어떤문서로 분류되는가?\n",
    "\n",
    "- 1.2 어떠한 문제점이 있고, 이를 해결하기 위해 어떻게 할 것인가?"
   ]
  },
  {
   "cell_type": "markdown",
   "metadata": {},
   "source": [
    "## 우리가 풀려는 문제는 word W 가 주어졌을때 범주 C, A  로 분류하는것 \n",
    "\n",
    "\n",
    "\n",
    "#### 간단히 생각해서, Word 가 주어졌을때 Comedy일  확률 VS Action일 확률\n",
    "#### 베이즈 정리를 활용하여 다음과 같이 정리\n",
    "\n",
    "## $$ P(Comedy|W) = {P(Comedy \\cap W)\\over P(W)} =  \\frac{{P(Comedy\\cap W) \\over P(Comedy)}P(Comedy)}{P(W)} =\n",
    "\\frac{P(W|Comedy)P(Comedy)} {P(W)}$$\n"
   ]
  },
  {
   "cell_type": "markdown",
   "metadata": {},
   "source": [
    "- 위 식에서 P(Comdey)는 사전확률(Prior)이다. 범주 Comedy, Action는 어떤 문장 갯수를 전체 문장 개수로 나눈 비율을 뜻하기 때문이다.\n",
    "\n",
    "- P(W|Comedy)는 likelihood이다. \n",
    "\n",
    "- P(Comedy|W)는 Posterior이다.\n",
    "\n",
    "- Word W 가 주어졌을때, 해당 문장이 범주 Comedy일 확률, 즉 우리가 알고 싶은 값"
   ]
  },
  {
   "cell_type": "code",
   "execution_count": null,
   "metadata": {},
   "outputs": [],
   "source": []
  },
  {
   "cell_type": "markdown",
   "metadata": {},
   "source": [
    "## 베이즈 모델은 아래 (1), (2) 를 비교해 큰 쪽으로 범주를 할당 \n",
    "\n",
    "## $$ P(Comedy|W) = {P(W|Comedy)P(Comedy)\\over P(W)} \\cdots (1) $$\n",
    "\n",
    "## $$ P(Action|W) = { P(W|Action)P(Action)\\over P(W)} \\cdots (2) $$"
   ]
  },
  {
   "cell_type": "code",
   "execution_count": null,
   "metadata": {},
   "outputs": [],
   "source": []
  },
  {
   "cell_type": "markdown",
   "metadata": {},
   "source": [
    "## $${(1),(2) 대소비교이므로, 분모의 P(W) 소거 } $$\n",
    "\n",
    "## $$ P(Comedy|W) \\approx { P(W|Comedy)P(Comedy)} \\cdots (1) $$\n",
    "\n",
    "## $$ P(Action|W) \\approx { P(W|Action)P(Action)} \\cdots (2) $$\n",
    "\n"
   ]
  },
  {
   "cell_type": "markdown",
   "metadata": {},
   "source": []
  },
  {
   "cell_type": "markdown",
   "metadata": {},
   "source": [
    "## 여기서 W가 fast, furious, fun으로 구성되어 있음. 식을 다시 써보자면 \n",
    "\n",
    "## $$ P(Comedy \\mid W) = P(Comdey \\mid fast, furious, fun) \\approx { P(fast, furious, fun \\mid Comedy)P(Comedy)} \\cdots (1) $$\n",
    "\n",
    "## $$ P(Action \\mid W) = P(Action \\mid fast, furious, fun) \\approx { P(fast, furious, fun \\mid Action)P(Action)} \\cdots (2) $$"
   ]
  },
  {
   "cell_type": "code",
   "execution_count": null,
   "metadata": {},
   "outputs": [],
   "source": []
  },
  {
   "cell_type": "markdown",
   "metadata": {},
   "source": [
    "## Naive bayes 는 각 단어가 Independent임을 가정\n",
    "## 모델 이름에 Naive라는 말이 붙은 이유 "
   ]
  },
  {
   "cell_type": "code",
   "execution_count": null,
   "metadata": {},
   "outputs": [],
   "source": []
  },
  {
   "cell_type": "markdown",
   "metadata": {},
   "source": [
    "### Independent 라서 다음과 같이 표현가능\n",
    "## $${ P(fast, furious, fun) = P(fast)P(furious)P(fun) }$$"
   ]
  },
  {
   "cell_type": "code",
   "execution_count": null,
   "metadata": {},
   "outputs": [],
   "source": []
  },
  {
   "cell_type": "markdown",
   "metadata": {},
   "source": [
    "## 또한 Conditional Independent는 다음과 같이 표현 가능\n",
    "\n",
    "## $${ P(fast, furious, fun \\mid Comedy) = }$$\n",
    "## $${ P(fast\\mid Comedy)P(furious\\mid Comedy) P(fun\\mid Comedy) }$$"
   ]
  },
  {
   "cell_type": "code",
   "execution_count": null,
   "metadata": {},
   "outputs": [],
   "source": [
    "data"
   ]
  },
  {
   "cell_type": "code",
   "execution_count": null,
   "metadata": {},
   "outputs": [],
   "source": []
  },
  {
   "cell_type": "markdown",
   "metadata": {},
   "source": [
    "## $${ P(fast\\mid Comedy)} $$ \n",
    "\n",
    "- 위 확률은 사실 Comedy 중에서 fast가 등장할 확률이기 때문에 단어의 출현빈도수로 계산이 가능하다\n",
    "\n",
    "- Comedy에서 총 단어의 개수는 9번 등장하고, 그 중에서 각 단어별로 comedy에서 나타난 횟수는 다음과 같다"
   ]
  },
  {
   "cell_type": "code",
   "execution_count": null,
   "metadata": {},
   "outputs": [],
   "source": []
  },
  {
   "cell_type": "markdown",
   "metadata": {},
   "source": [
    "- 여기서 word_count를 계산\n",
    "\n",
    "- {fast,Comedy} = 1 (Comedy중 fast가 같이 나온 횟수)\n",
    "\n",
    "- {furious,Comedy} = 0\n",
    "\n",
    "- {fun,Comedy} = 3 \n",
    "\n",
    "- {fast,Action} = 2 \n",
    "\n",
    "- {furious,Action} = 2\n",
    "\n",
    "- {fun,Action} = 1 "
   ]
  },
  {
   "cell_type": "code",
   "execution_count": null,
   "metadata": {},
   "outputs": [],
   "source": []
  },
  {
   "cell_type": "markdown",
   "metadata": {},
   "source": [
    "- 따라서 \n",
    "\n",
    "## $${ P(fast\\mid Comedy)P(furious\\mid Comedy) P(fun\\mid Comedy) }$$\n",
    "\n",
    "- 계산은 (1/9)*(0/9)*(3/9)"
   ]
  },
  {
   "cell_type": "code",
   "execution_count": null,
   "metadata": {},
   "outputs": [],
   "source": []
  },
  {
   "cell_type": "markdown",
   "metadata": {},
   "source": [
    "## 실제 우리가 구하려는 식은\n",
    "\n",
    "## $$ P(Comedy \\mid W) = P(Comdey \\mid fast, furious, fun) \\approx { P(fast, furious, fun \\mid Comedy)P(Comedy)} \\cdots (1) $$\n",
    "\n",
    "\n",
    "## 여기서 \n",
    "\n",
    "## $$ P(Comedy) $$\n",
    "\n",
    "## 위 확률값은 전체 영화 5편 중에서 2 편이 comedy이기 때문에,\n",
    "\n",
    "## 2/5가 된다.\n",
    "\n",
    "\n",
    "## 이를 종합해서, 식 (1)에 대입하면 \n"
   ]
  },
  {
   "cell_type": "code",
   "execution_count": null,
   "metadata": {},
   "outputs": [],
   "source": [
    "# P(Comedy|W) = P(fast|Comedy)P(furious|Comedy)P(fun|Comedy)P(Comedy)\n",
    "P(Comedy|W) = 1/9 * 0/9 * 3/9 * 2/5"
   ]
  },
  {
   "cell_type": "code",
   "execution_count": null,
   "metadata": {},
   "outputs": [],
   "source": [
    "# P(Action|W) = P(fast|Action)P(furious|Action)P(fun|Action)P(Action)\n",
    "P(Action|W) = 1/11 * 2/11 * 1/11 * 3/5"
   ]
  },
  {
   "cell_type": "markdown",
   "metadata": {},
   "source": [
    "### 결과 “P(action|worlds) = 0.0018” > “P(comedy|word) = 0” 이기 때문에, 해당 문서는 액션 영화로 분류가 된다.\n",
    "\n",
    "\n",
    "## 하지만, P(Comedy|W) 경우 그 확률값이 0이 되는데\n",
    "\n",
    "## 학습 데이터에 없는 단어가 나올때 이러한 문제점이 발생하는데\n",
    "\n",
    "## 이를 해결하는 방법으로는 Laplace Smoothing과 Log를 이용한 언더 플로우 방지가  있다"
   ]
  },
  {
   "cell_type": "code",
   "execution_count": null,
   "metadata": {},
   "outputs": [],
   "source": []
  }
 ],
 "metadata": {
  "kernelspec": {
   "display_name": "Python [conda env:anaconda3]",
   "language": "python",
   "name": "conda-env-anaconda3-py"
  },
  "language_info": {
   "codemirror_mode": {
    "name": "ipython",
    "version": 3
   },
   "file_extension": ".py",
   "mimetype": "text/x-python",
   "name": "python",
   "nbconvert_exporter": "python",
   "pygments_lexer": "ipython3",
   "version": "3.6.4"
  }
 },
 "nbformat": 4,
 "nbformat_minor": 2
}
