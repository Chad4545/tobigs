{
 "cells": [
  {
   "cell_type": "code",
   "execution_count": 4,
   "metadata": {},
   "outputs": [],
   "source": [
    "import pandas as pd \n",
    "import numpy as np"
   ]
  },
  {
   "cell_type": "markdown",
   "metadata": {},
   "source": [
    "# DT 문제 1번"
   ]
  },
  {
   "cell_type": "markdown",
   "metadata": {},
   "source": [
    "#### ※함수에 들어가 있는 변수나 flow는 본인이 바꾸셔도 가능하며 결과만 똑같이 나오면 됩니다!\n",
    "#### ※hard코딩(이 데이터셋에만 적용되는 코딩방법) 말고 전체 데이터에 적용 가능하게 함수를 짜주셔야 합니다."
   ]
  },
  {
   "cell_type": "markdown",
   "metadata": {},
   "source": [
    "# Data Loading"
   ]
  },
  {
   "cell_type": "code",
   "execution_count": 5,
   "metadata": {},
   "outputs": [
    {
     "data": {
      "text/html": [
       "<div>\n",
       "<style scoped>\n",
       "    .dataframe tbody tr th:only-of-type {\n",
       "        vertical-align: middle;\n",
       "    }\n",
       "\n",
       "    .dataframe tbody tr th {\n",
       "        vertical-align: top;\n",
       "    }\n",
       "\n",
       "    .dataframe thead th {\n",
       "        text-align: right;\n",
       "    }\n",
       "</style>\n",
       "<table border=\"1\" class=\"dataframe\">\n",
       "  <thead>\n",
       "    <tr style=\"text-align: right;\">\n",
       "      <th></th>\n",
       "      <th>age</th>\n",
       "      <th>income</th>\n",
       "      <th>student</th>\n",
       "      <th>credit_rating</th>\n",
       "      <th>class_buys_computer</th>\n",
       "    </tr>\n",
       "  </thead>\n",
       "  <tbody>\n",
       "    <tr>\n",
       "      <th>0</th>\n",
       "      <td>youth</td>\n",
       "      <td>high</td>\n",
       "      <td>no</td>\n",
       "      <td>fair</td>\n",
       "      <td>no</td>\n",
       "    </tr>\n",
       "    <tr>\n",
       "      <th>1</th>\n",
       "      <td>youth</td>\n",
       "      <td>high</td>\n",
       "      <td>no</td>\n",
       "      <td>excellent</td>\n",
       "      <td>no</td>\n",
       "    </tr>\n",
       "    <tr>\n",
       "      <th>2</th>\n",
       "      <td>middle_aged</td>\n",
       "      <td>high</td>\n",
       "      <td>no</td>\n",
       "      <td>fair</td>\n",
       "      <td>yes</td>\n",
       "    </tr>\n",
       "    <tr>\n",
       "      <th>3</th>\n",
       "      <td>senior</td>\n",
       "      <td>medium</td>\n",
       "      <td>no</td>\n",
       "      <td>fair</td>\n",
       "      <td>yes</td>\n",
       "    </tr>\n",
       "    <tr>\n",
       "      <th>4</th>\n",
       "      <td>senior</td>\n",
       "      <td>low</td>\n",
       "      <td>yes</td>\n",
       "      <td>fair</td>\n",
       "      <td>yes</td>\n",
       "    </tr>\n",
       "    <tr>\n",
       "      <th>5</th>\n",
       "      <td>senior</td>\n",
       "      <td>low</td>\n",
       "      <td>yes</td>\n",
       "      <td>excellent</td>\n",
       "      <td>no</td>\n",
       "    </tr>\n",
       "    <tr>\n",
       "      <th>6</th>\n",
       "      <td>middle_aged</td>\n",
       "      <td>low</td>\n",
       "      <td>yes</td>\n",
       "      <td>excellent</td>\n",
       "      <td>yes</td>\n",
       "    </tr>\n",
       "    <tr>\n",
       "      <th>7</th>\n",
       "      <td>youth</td>\n",
       "      <td>medium</td>\n",
       "      <td>no</td>\n",
       "      <td>fair</td>\n",
       "      <td>no</td>\n",
       "    </tr>\n",
       "    <tr>\n",
       "      <th>8</th>\n",
       "      <td>youth</td>\n",
       "      <td>low</td>\n",
       "      <td>yes</td>\n",
       "      <td>fair</td>\n",
       "      <td>yes</td>\n",
       "    </tr>\n",
       "    <tr>\n",
       "      <th>9</th>\n",
       "      <td>senior</td>\n",
       "      <td>medium</td>\n",
       "      <td>yes</td>\n",
       "      <td>fair</td>\n",
       "      <td>yes</td>\n",
       "    </tr>\n",
       "    <tr>\n",
       "      <th>10</th>\n",
       "      <td>youth</td>\n",
       "      <td>medium</td>\n",
       "      <td>yes</td>\n",
       "      <td>excellent</td>\n",
       "      <td>yes</td>\n",
       "    </tr>\n",
       "    <tr>\n",
       "      <th>11</th>\n",
       "      <td>middle_aged</td>\n",
       "      <td>medium</td>\n",
       "      <td>no</td>\n",
       "      <td>excellent</td>\n",
       "      <td>yes</td>\n",
       "    </tr>\n",
       "    <tr>\n",
       "      <th>12</th>\n",
       "      <td>middle_aged</td>\n",
       "      <td>high</td>\n",
       "      <td>yes</td>\n",
       "      <td>fair</td>\n",
       "      <td>yes</td>\n",
       "    </tr>\n",
       "    <tr>\n",
       "      <th>13</th>\n",
       "      <td>senior</td>\n",
       "      <td>medium</td>\n",
       "      <td>no</td>\n",
       "      <td>excellent</td>\n",
       "      <td>no</td>\n",
       "    </tr>\n",
       "  </tbody>\n",
       "</table>\n",
       "</div>"
      ],
      "text/plain": [
       "            age  income student credit_rating class_buys_computer\n",
       "0         youth    high      no          fair                  no\n",
       "1         youth    high      no     excellent                  no\n",
       "2   middle_aged    high      no          fair                 yes\n",
       "3        senior  medium      no          fair                 yes\n",
       "4        senior     low     yes          fair                 yes\n",
       "5        senior     low     yes     excellent                  no\n",
       "6   middle_aged     low     yes     excellent                 yes\n",
       "7         youth  medium      no          fair                  no\n",
       "8         youth     low     yes          fair                 yes\n",
       "9        senior  medium     yes          fair                 yes\n",
       "10        youth  medium     yes     excellent                 yes\n",
       "11  middle_aged  medium      no     excellent                 yes\n",
       "12  middle_aged    high     yes          fair                 yes\n",
       "13       senior  medium      no     excellent                  no"
      ]
     },
     "execution_count": 5,
     "metadata": {},
     "output_type": "execute_result"
    }
   ],
   "source": [
    "pd_data = pd.read_csv('https://raw.githubusercontent.com/AugustLONG/ML01/master/01decisiontree/AllElectronics.csv')\n",
    "pd_data.drop(\"RID\",axis=1, inplace = True) #RID는 그냥 순서라서 삭제\n",
    "pd_data"
   ]
  },
  {
   "cell_type": "markdown",
   "metadata": {},
   "source": [
    "# 1. Gini 계수에 대한 함수 만들기."
   ]
  },
  {
   "cell_type": "markdown",
   "metadata": {},
   "source": [
    "- Input은 Dataframe과 label이름으로 만들어주세요!\n",
    "- 해당 결과는 아래와 같이 나와야 합니다!"
   ]
  },
  {
   "cell_type": "code",
   "execution_count": 18,
   "metadata": {},
   "outputs": [],
   "source": [
    "def get_gini(df, label):\n",
    "    \n",
    "    # label에 따른 분포 정보\n",
    "    pair = df[label].value_counts()\n",
    "    print(pair)\n",
    "    feature_value = pair.values\n",
    "    print(feature_value)\n",
    "    # 분모\n",
    "    under = feature_value.sum()\n",
    "    print(under)\n",
    "    \n",
    "    \n",
    "    gini = 1\n",
    "    for i in feature_value:\n",
    "        gini -=(i/under)*(i/under) \n",
    "    return gini"
   ]
  },
  {
   "cell_type": "code",
   "execution_count": 21,
   "metadata": {},
   "outputs": [
    {
     "name": "stdout",
     "output_type": "stream",
     "text": [
      "youth          5\n",
      "senior         5\n",
      "middle_aged    4\n",
      "Name: age, dtype: int64\n",
      "[5 5 4]\n",
      "14\n"
     ]
    },
    {
     "data": {
      "text/plain": [
       "0.663265306122449"
      ]
     },
     "execution_count": 21,
     "metadata": {},
     "output_type": "execute_result"
    }
   ],
   "source": [
    "get_gini(pd_data, 'age')"
   ]
  },
  {
   "cell_type": "markdown",
   "metadata": {},
   "source": [
    "- 저 위에 부분 집합 중 우리가 원하는 집합(이진 분류)만 골라 내야하겠죠?\n",
    "- 그 함수를 get_binary_split로 완성해주세요!\n",
    "- 완성된 내용은 다음과 같이 나와야 합니다."
   ]
  },
  {
   "cell_type": "markdown",
   "metadata": {},
   "source": [
    "# 3. 다음은 모든 이진분류의 경우의 Gini index를 구하는 함수 만들기\n",
    "- 위에서 완성한 함수를 사용하여 만들어주세요!\n",
    "- DataFrame의 index를 사용하여 만들면 굉장히 편합니다..! 예시를 아래에서 보여드릴게요.\n",
    "- 결과는 아래 아래 아래 줄과 같아야 합니다."
   ]
  },
  {
   "cell_type": "code",
   "execution_count": 10,
   "metadata": {},
   "outputs": [],
   "source": [
    "def get_attribute_gini_index(df, attribute, label):\n",
    "    \n",
    "    #라벨 정보 \n",
    "    label_class = df[label].value_counts()\n",
    "    label_class = label_class.index\n",
    "    \n",
    "    # feature에 대한 정보 - youth,middle,old\n",
    "    feature_class = df[attribute].value_counts()\n",
    "    feature_class_vlaues = feature_class.values\n",
    "    feature_classes = feature_class.index\n",
    "    \n",
    "    under = feature_class_vlaues.sum()\n",
    "    sub_gini=[]\n",
    "    \n",
    "    for idx, cls in enumerate(feature_classes):\n",
    "        data_A = df[df[attribute]==cls].index\n",
    "        gini_A = get_gini(df.loc[data_A],label)\n",
    "        \n",
    "        data_B = df[df[attribute]!=cls].index\n",
    "        gini_B = get_gini(df.loc[data_B],label)\n",
    "        \n",
    "        gini_val = ((feature_class_vlaues[idx]/under) * gini_A) + (((under-feature_class_vlaues[idx])/under) * gini_B)\n",
    "        \n",
    "        sub_gini.append(gini_val)\n",
    "    \n",
    "    \n",
    "    \n",
    "    result = dict(zip(feature_classes,sub_gini))\n",
    "    return result"
   ]
  },
  {
   "cell_type": "code",
   "execution_count": 27,
   "metadata": {},
   "outputs": [
    {
     "data": {
      "text/plain": [
       "Int64Index([0, 1, 7, 8, 10], dtype='int64')"
      ]
     },
     "execution_count": 27,
     "metadata": {},
     "output_type": "execute_result"
    }
   ],
   "source": [
    "KK = pd_data[pd_data['age']=='youth'].index\n",
    "KK"
   ]
  },
  {
   "cell_type": "code",
   "execution_count": 26,
   "metadata": {},
   "outputs": [
    {
     "data": {
      "text/plain": [
       "Int64Index([3, 4, 5, 9, 13], dtype='int64')"
      ]
     },
     "execution_count": 26,
     "metadata": {},
     "output_type": "execute_result"
    }
   ],
   "source": [
    "xx = pd_data[pd_data['age']=='senior'].index\n",
    "xx"
   ]
  },
  {
   "cell_type": "code",
   "execution_count": 30,
   "metadata": {},
   "outputs": [
    {
     "data": {
      "text/html": [
       "<div>\n",
       "<style scoped>\n",
       "    .dataframe tbody tr th:only-of-type {\n",
       "        vertical-align: middle;\n",
       "    }\n",
       "\n",
       "    .dataframe tbody tr th {\n",
       "        vertical-align: top;\n",
       "    }\n",
       "\n",
       "    .dataframe thead th {\n",
       "        text-align: right;\n",
       "    }\n",
       "</style>\n",
       "<table border=\"1\" class=\"dataframe\">\n",
       "  <thead>\n",
       "    <tr style=\"text-align: right;\">\n",
       "      <th></th>\n",
       "      <th>age</th>\n",
       "      <th>income</th>\n",
       "      <th>student</th>\n",
       "      <th>credit_rating</th>\n",
       "      <th>class_buys_computer</th>\n",
       "    </tr>\n",
       "  </thead>\n",
       "  <tbody>\n",
       "    <tr>\n",
       "      <th>0</th>\n",
       "      <td>youth</td>\n",
       "      <td>high</td>\n",
       "      <td>no</td>\n",
       "      <td>fair</td>\n",
       "      <td>no</td>\n",
       "    </tr>\n",
       "    <tr>\n",
       "      <th>1</th>\n",
       "      <td>youth</td>\n",
       "      <td>high</td>\n",
       "      <td>no</td>\n",
       "      <td>excellent</td>\n",
       "      <td>no</td>\n",
       "    </tr>\n",
       "    <tr>\n",
       "      <th>3</th>\n",
       "      <td>senior</td>\n",
       "      <td>medium</td>\n",
       "      <td>no</td>\n",
       "      <td>fair</td>\n",
       "      <td>yes</td>\n",
       "    </tr>\n",
       "    <tr>\n",
       "      <th>4</th>\n",
       "      <td>senior</td>\n",
       "      <td>low</td>\n",
       "      <td>yes</td>\n",
       "      <td>fair</td>\n",
       "      <td>yes</td>\n",
       "    </tr>\n",
       "    <tr>\n",
       "      <th>5</th>\n",
       "      <td>senior</td>\n",
       "      <td>low</td>\n",
       "      <td>yes</td>\n",
       "      <td>excellent</td>\n",
       "      <td>no</td>\n",
       "    </tr>\n",
       "    <tr>\n",
       "      <th>7</th>\n",
       "      <td>youth</td>\n",
       "      <td>medium</td>\n",
       "      <td>no</td>\n",
       "      <td>fair</td>\n",
       "      <td>no</td>\n",
       "    </tr>\n",
       "    <tr>\n",
       "      <th>8</th>\n",
       "      <td>youth</td>\n",
       "      <td>low</td>\n",
       "      <td>yes</td>\n",
       "      <td>fair</td>\n",
       "      <td>yes</td>\n",
       "    </tr>\n",
       "    <tr>\n",
       "      <th>9</th>\n",
       "      <td>senior</td>\n",
       "      <td>medium</td>\n",
       "      <td>yes</td>\n",
       "      <td>fair</td>\n",
       "      <td>yes</td>\n",
       "    </tr>\n",
       "    <tr>\n",
       "      <th>10</th>\n",
       "      <td>youth</td>\n",
       "      <td>medium</td>\n",
       "      <td>yes</td>\n",
       "      <td>excellent</td>\n",
       "      <td>yes</td>\n",
       "    </tr>\n",
       "    <tr>\n",
       "      <th>13</th>\n",
       "      <td>senior</td>\n",
       "      <td>medium</td>\n",
       "      <td>no</td>\n",
       "      <td>excellent</td>\n",
       "      <td>no</td>\n",
       "    </tr>\n",
       "  </tbody>\n",
       "</table>\n",
       "</div>"
      ],
      "text/plain": [
       "       age  income student credit_rating class_buys_computer\n",
       "0    youth    high      no          fair                  no\n",
       "1    youth    high      no     excellent                  no\n",
       "3   senior  medium      no          fair                 yes\n",
       "4   senior     low     yes          fair                 yes\n",
       "5   senior     low     yes     excellent                  no\n",
       "7    youth  medium      no          fair                  no\n",
       "8    youth     low     yes          fair                 yes\n",
       "9   senior  medium     yes          fair                 yes\n",
       "10   youth  medium     yes     excellent                 yes\n",
       "13  senior  medium      no     excellent                  no"
      ]
     },
     "execution_count": 30,
     "metadata": {},
     "output_type": "execute_result"
    }
   ],
   "source": [
    "pd_data.loc[KK.union(xx)]"
   ]
  },
  {
   "cell_type": "code",
   "execution_count": 11,
   "metadata": {},
   "outputs": [
    {
     "name": "stdout",
     "output_type": "stream",
     "text": [
      "no     3\n",
      "yes    2\n",
      "Name: class_buys_computer, dtype: int64\n",
      "[3 2]\n",
      "yes    7\n",
      "no     2\n",
      "Name: class_buys_computer, dtype: int64\n",
      "[7 2]\n",
      "yes    3\n",
      "no     2\n",
      "Name: class_buys_computer, dtype: int64\n",
      "[3 2]\n",
      "yes    6\n",
      "no     3\n",
      "Name: class_buys_computer, dtype: int64\n",
      "[6 3]\n",
      "yes    4\n",
      "Name: class_buys_computer, dtype: int64\n",
      "[4]\n",
      "no     5\n",
      "yes    5\n",
      "Name: class_buys_computer, dtype: int64\n",
      "[5 5]\n"
     ]
    },
    {
     "data": {
      "text/plain": [
       "{'middle_aged': 0.35714285714285715,\n",
       " 'senior': 0.4571428571428572,\n",
       " 'youth': 0.3936507936507937}"
      ]
     },
     "execution_count": 11,
     "metadata": {},
     "output_type": "execute_result"
    }
   ],
   "source": [
    "get_attribute_gini_index(pd_data, \"age\", \"class_buys_computer\")"
   ]
  },
  {
   "cell_type": "markdown",
   "metadata": {},
   "source": [
    "- 여기서 가장 작은값으로 분류를 해야겠죠?"
   ]
  },
  {
   "cell_type": "code",
   "execution_count": 83,
   "metadata": {},
   "outputs": [
    {
     "data": {
      "text/plain": [
       "('middle_aged', 0.35714285714285715)"
      ]
     },
     "execution_count": 83,
     "metadata": {},
     "output_type": "execute_result"
    }
   ],
   "source": [
    "min(get_attribute_gini_index(pd_data, \"age\", \"class_buys_computer\").items())"
   ]
  },
  {
   "cell_type": "markdown",
   "metadata": {},
   "source": [
    "# 다음의 문제를 위에서 작성한 함수를 통해 구한 값으로 보여주세요!\n",
    "## 문제1) income 의 이진분류를 얻는 함수 get_binary_split(pd_data, \"income\")을 통해 보여주세요."
   ]
  },
  {
   "cell_type": "code",
   "execution_count": null,
   "metadata": {},
   "outputs": [],
   "source": [
    "'''그거 안썻음...'''"
   ]
  },
  {
   "cell_type": "markdown",
   "metadata": {},
   "source": [
    "## 문제2) 가장 Gini계수가 높은 Feature 즉 분류를 하는데 가장 중요한 변수를 선정하시고 get_attribute_gini_index함수를 통해 Gini index를 제시해주세요."
   ]
  },
  {
   "cell_type": "code",
   "execution_count": 98,
   "metadata": {},
   "outputs": [
    {
     "name": "stdout",
     "output_type": "stream",
     "text": [
      "age  :  ('middle_aged', 0.35714285714285715)\n",
      "income  :  ('high', 0.4428571428571429)\n",
      "student  :  ('no', 0.3673469387755103)\n",
      "credit_rating  :  ('excellent', 0.42857142857142855)\n"
     ]
    },
    {
     "data": {
      "text/plain": [
       "'age의 gini index = 0.3571로 가장 작다'"
      ]
     },
     "execution_count": 98,
     "metadata": {},
     "output_type": "execute_result"
    }
   ],
   "source": [
    "for attr in pd_data.columns[:-1]:\n",
    "    print(attr,' : ',min(get_attribute_gini_index(pd_data, attr, \"class_buys_computer\").items()))\n",
    "    \n",
    "'''age의 gini index = 0.3571로 가장 작다'''    "
   ]
  },
  {
   "cell_type": "markdown",
   "metadata": {},
   "source": [
    "## 문제3) 2에서 구한 Feature로 DataFrame을 분류 해주시고 나눠진 2개의 클래스에서 각각 다음으로 중요한 Feature를 선정해주시고 Gini index를 제시해주세요."
   ]
  },
  {
   "cell_type": "code",
   "execution_count": 95,
   "metadata": {},
   "outputs": [],
   "source": [
    "'''먼저 age - middle vs youth,senior'''\n",
    "data_2_left=pd_data[pd_data['age']=='middle_aged']\n",
    "data_2_right=pd_data[pd_data['age']!='middle_aged']"
   ]
  },
  {
   "cell_type": "code",
   "execution_count": 96,
   "metadata": {},
   "outputs": [
    {
     "data": {
      "text/html": [
       "<div>\n",
       "<style scoped>\n",
       "    .dataframe tbody tr th:only-of-type {\n",
       "        vertical-align: middle;\n",
       "    }\n",
       "\n",
       "    .dataframe tbody tr th {\n",
       "        vertical-align: top;\n",
       "    }\n",
       "\n",
       "    .dataframe thead th {\n",
       "        text-align: right;\n",
       "    }\n",
       "</style>\n",
       "<table border=\"1\" class=\"dataframe\">\n",
       "  <thead>\n",
       "    <tr style=\"text-align: right;\">\n",
       "      <th></th>\n",
       "      <th>age</th>\n",
       "      <th>income</th>\n",
       "      <th>student</th>\n",
       "      <th>credit_rating</th>\n",
       "      <th>class_buys_computer</th>\n",
       "    </tr>\n",
       "  </thead>\n",
       "  <tbody>\n",
       "    <tr>\n",
       "      <th>2</th>\n",
       "      <td>middle_aged</td>\n",
       "      <td>high</td>\n",
       "      <td>no</td>\n",
       "      <td>fair</td>\n",
       "      <td>yes</td>\n",
       "    </tr>\n",
       "    <tr>\n",
       "      <th>6</th>\n",
       "      <td>middle_aged</td>\n",
       "      <td>low</td>\n",
       "      <td>yes</td>\n",
       "      <td>excellent</td>\n",
       "      <td>yes</td>\n",
       "    </tr>\n",
       "    <tr>\n",
       "      <th>11</th>\n",
       "      <td>middle_aged</td>\n",
       "      <td>medium</td>\n",
       "      <td>no</td>\n",
       "      <td>excellent</td>\n",
       "      <td>yes</td>\n",
       "    </tr>\n",
       "    <tr>\n",
       "      <th>12</th>\n",
       "      <td>middle_aged</td>\n",
       "      <td>high</td>\n",
       "      <td>yes</td>\n",
       "      <td>fair</td>\n",
       "      <td>yes</td>\n",
       "    </tr>\n",
       "  </tbody>\n",
       "</table>\n",
       "</div>"
      ],
      "text/plain": [
       "            age  income student credit_rating class_buys_computer\n",
       "2   middle_aged    high      no          fair                 yes\n",
       "6   middle_aged     low     yes     excellent                 yes\n",
       "11  middle_aged  medium      no     excellent                 yes\n",
       "12  middle_aged    high     yes          fair                 yes"
      ]
     },
     "execution_count": 96,
     "metadata": {},
     "output_type": "execute_result"
    }
   ],
   "source": [
    "data_2_left"
   ]
  },
  {
   "cell_type": "code",
   "execution_count": 97,
   "metadata": {},
   "outputs": [
    {
     "data": {
      "text/html": [
       "<div>\n",
       "<style scoped>\n",
       "    .dataframe tbody tr th:only-of-type {\n",
       "        vertical-align: middle;\n",
       "    }\n",
       "\n",
       "    .dataframe tbody tr th {\n",
       "        vertical-align: top;\n",
       "    }\n",
       "\n",
       "    .dataframe thead th {\n",
       "        text-align: right;\n",
       "    }\n",
       "</style>\n",
       "<table border=\"1\" class=\"dataframe\">\n",
       "  <thead>\n",
       "    <tr style=\"text-align: right;\">\n",
       "      <th></th>\n",
       "      <th>age</th>\n",
       "      <th>income</th>\n",
       "      <th>student</th>\n",
       "      <th>credit_rating</th>\n",
       "      <th>class_buys_computer</th>\n",
       "    </tr>\n",
       "  </thead>\n",
       "  <tbody>\n",
       "    <tr>\n",
       "      <th>0</th>\n",
       "      <td>youth</td>\n",
       "      <td>high</td>\n",
       "      <td>no</td>\n",
       "      <td>fair</td>\n",
       "      <td>no</td>\n",
       "    </tr>\n",
       "    <tr>\n",
       "      <th>1</th>\n",
       "      <td>youth</td>\n",
       "      <td>high</td>\n",
       "      <td>no</td>\n",
       "      <td>excellent</td>\n",
       "      <td>no</td>\n",
       "    </tr>\n",
       "    <tr>\n",
       "      <th>3</th>\n",
       "      <td>senior</td>\n",
       "      <td>medium</td>\n",
       "      <td>no</td>\n",
       "      <td>fair</td>\n",
       "      <td>yes</td>\n",
       "    </tr>\n",
       "    <tr>\n",
       "      <th>4</th>\n",
       "      <td>senior</td>\n",
       "      <td>low</td>\n",
       "      <td>yes</td>\n",
       "      <td>fair</td>\n",
       "      <td>yes</td>\n",
       "    </tr>\n",
       "    <tr>\n",
       "      <th>5</th>\n",
       "      <td>senior</td>\n",
       "      <td>low</td>\n",
       "      <td>yes</td>\n",
       "      <td>excellent</td>\n",
       "      <td>no</td>\n",
       "    </tr>\n",
       "    <tr>\n",
       "      <th>7</th>\n",
       "      <td>youth</td>\n",
       "      <td>medium</td>\n",
       "      <td>no</td>\n",
       "      <td>fair</td>\n",
       "      <td>no</td>\n",
       "    </tr>\n",
       "    <tr>\n",
       "      <th>8</th>\n",
       "      <td>youth</td>\n",
       "      <td>low</td>\n",
       "      <td>yes</td>\n",
       "      <td>fair</td>\n",
       "      <td>yes</td>\n",
       "    </tr>\n",
       "    <tr>\n",
       "      <th>9</th>\n",
       "      <td>senior</td>\n",
       "      <td>medium</td>\n",
       "      <td>yes</td>\n",
       "      <td>fair</td>\n",
       "      <td>yes</td>\n",
       "    </tr>\n",
       "    <tr>\n",
       "      <th>10</th>\n",
       "      <td>youth</td>\n",
       "      <td>medium</td>\n",
       "      <td>yes</td>\n",
       "      <td>excellent</td>\n",
       "      <td>yes</td>\n",
       "    </tr>\n",
       "    <tr>\n",
       "      <th>13</th>\n",
       "      <td>senior</td>\n",
       "      <td>medium</td>\n",
       "      <td>no</td>\n",
       "      <td>excellent</td>\n",
       "      <td>no</td>\n",
       "    </tr>\n",
       "  </tbody>\n",
       "</table>\n",
       "</div>"
      ],
      "text/plain": [
       "       age  income student credit_rating class_buys_computer\n",
       "0    youth    high      no          fair                  no\n",
       "1    youth    high      no     excellent                  no\n",
       "3   senior  medium      no          fair                 yes\n",
       "4   senior     low     yes          fair                 yes\n",
       "5   senior     low     yes     excellent                  no\n",
       "7    youth  medium      no          fair                  no\n",
       "8    youth     low     yes          fair                 yes\n",
       "9   senior  medium     yes          fair                 yes\n",
       "10   youth  medium     yes     excellent                 yes\n",
       "13  senior  medium      no     excellent                  no"
      ]
     },
     "execution_count": 97,
     "metadata": {},
     "output_type": "execute_result"
    }
   ],
   "source": [
    "data_2_right"
   ]
  },
  {
   "cell_type": "code",
   "execution_count": 104,
   "metadata": {},
   "outputs": [
    {
     "name": "stdout",
     "output_type": "stream",
     "text": [
      "age  :  ('senior', 0.48)\n",
      "income  :  ('high', 0.375)\n",
      "student  :  ('no', 0.31999999999999984)\n",
      "credit_rating  :  ('excellent', 0.4166666666666667)\n"
     ]
    },
    {
     "data": {
      "text/plain": [
       "'student의 gini index = 0.3199로 가장 작다'"
      ]
     },
     "execution_count": 104,
     "metadata": {},
     "output_type": "execute_result"
    }
   ],
   "source": [
    "'''그 다음 split point가 되는 피쳐를 찾자 '''\n",
    "for attr in data_2_right.columns[:-1]:\n",
    "    print(attr,' : ',min(get_attribute_gini_index(data_2_right, attr, \"class_buys_computer\").items()))\n",
    "    \n",
    "'''student의 gini index = 0.3199로 가장 작다'''"
   ]
  },
  {
   "cell_type": "code",
   "execution_count": null,
   "metadata": {},
   "outputs": [],
   "source": []
  }
 ],
 "metadata": {
  "kernelspec": {
   "display_name": "Python [default]",
   "language": "python",
   "name": "python3"
  },
  "language_info": {
   "codemirror_mode": {
    "name": "ipython",
    "version": 3
   },
   "file_extension": ".py",
   "mimetype": "text/x-python",
   "name": "python",
   "nbconvert_exporter": "python",
   "pygments_lexer": "ipython3",
   "version": "3.6.4"
  }
 },
 "nbformat": 4,
 "nbformat_minor": 2
}
