{
 "cells": [
  {
   "cell_type": "markdown",
   "metadata": {},
   "source": [
    "### Matrix 정리\n",
    "$ X == (N,D) $  \n",
    "$ W_1 == (D,H) $  \n",
    "$ b_1 == (H,) $  \n",
    "$ H == (N,H) $  \n",
    "$ A == (N,H) $  \n",
    "$ W_2 == (H,C) $  \n",
    "$ b_2 == (C,) $  \n",
    "$ S == (N,C) $  \n",
    "$ P == (N,C) $  "
   ]
  },
  {
   "cell_type": "markdown",
   "metadata": {},
   "source": [
    "### Matrix 미분 정리  \n",
    "$ H = XW + b\\qquad  (N, H) = (N, D) \\times (D, H) + (H,) $  \n",
    "\n",
    "\n",
    "$ L = f(H) $  \n",
    "\n",
    "\n",
    "$ {\\partial L \\over \\partial W} = X^T {\\partial L \\over \\partial H} = {\\partial H \\over \\partial W} \\times {\\partial L \\over \\partial H}$  \n",
    "\n",
    "\n",
    "$ {\\partial L \\over \\partial X} = {\\partial L \\over \\partial H} W^T = {\\partial L \\over \\partial H} \\times {\\partial H \\over \\partial X}$  \n",
    "\n",
    "\n",
    "$ {\\partial L \\over \\partial b} = 1*{\\partial L \\over \\partial H}  $  "
   ]
  },
  {
   "cell_type": "markdown",
   "metadata": {},
   "source": [
    "### 2 Layers Chain Rule 정리\n",
    "$ H = XW_1 + b_1$  \n",
    "\n",
    "$ A = ReLU(H) $  \n",
    "\n",
    "$ S = AW_2 + b_2 $  \n",
    "\n",
    "$ P = Softmax(S) $    \n",
    "\n",
    "$ L = -LogLikelihood(P) $  "
   ]
  },
  {
   "cell_type": "markdown",
   "metadata": {},
   "source": [
    "$ {\\partial L \\over \\partial S} = P - T $ : T는 Label  \n",
    "\n",
    "$ {\\partial L \\over \\partial W_2} = {\\partial S \\over \\partial W_2}{\\partial L \\over \\partial S} = A^T (P-T) $  \n",
    "\n",
    "$ {\\partial L \\over \\partial b_2} = 1 * {\\partial L \\over \\partial S} = P-T $  \n",
    "\n",
    "$ {\\partial L \\over \\partial A} = {\\partial L \\over \\partial S}{\\partial S \\over \\partial A} = (P-T)W_2^T $  \n",
    "\n",
    "$ {\\partial L \\over \\partial H} = (A>0) * {\\partial L \\over \\partial A} $  \n",
    "\n",
    "$ {\\partial L \\over \\partial W_1} = {\\partial H \\over \\partial W_1}{\\partial L \\over \\partial H} = X^T {\\partial L \\over \\partial H}  $  \n",
    "\n",
    "$ {\\partial L \\over \\partial b_1} = 1 * {\\partial L \\over \\partial H} = {\\partial L \\over \\partial H} $  "
   ]
  },
  {
   "cell_type": "markdown",
   "metadata": {},
   "source": [
    "### Softmax - Cross Entropy Error미분  \n",
    "<img src=\"img/fig a-5.png\">"
   ]
  },
  {
   "cell_type": "markdown",
   "metadata": {},
   "source": [
    "### 데이터 Load  \n",
    "cifar-10 데이터를 불러옵니다.  \n",
    "프레임워크 내 자체적으로 데이터를 로드할 수 있지만, \n",
    "이렇게도 데이터 로드가 가능합니다!  \n",
    "32  32  3 차원의 데이터를 3072 차원으로 바뀌는 것 까지 드릴게요."
   ]
  },
  {
   "cell_type": "code",
   "execution_count": 1,
   "metadata": {},
   "outputs": [],
   "source": [
    "from load_cifar_10 import *\n",
    "import numpy as np\n",
    "from Model import TwoLayerNet"
   ]
  },
  {
   "cell_type": "code",
   "execution_count": 2,
   "metadata": {},
   "outputs": [],
   "source": [
    "cifar_10_dir = 'cifar-10-batches-py'\n",
    "\n",
    "train_data, train_filenames, train_labels, test_data, test_filenames, test_labels, label_names = \\\n",
    "load_cifar_10_data(cifar_10_dir)\n",
    "\n",
    "def Processing_data(train, test):\n",
    "    #change dtype\n",
    "    train = np.array(train, dtype=np.float64)\n",
    "    test = np.array(test, dtype=np.float64)\n",
    "    \n",
    "    #Reshaping\n",
    "    train = np.reshape(train, (train.shape[0], -1))\n",
    "    test = np.reshape(test, (test.shape[0], -1))\n",
    "    \n",
    "    #Normalizing\n",
    "    mean_image = np.mean(train, axis = 0)\n",
    "    #print(train.dtype)\n",
    "    train -= mean_image\n",
    "    test -= mean_image\n",
    "    \n",
    "    return train, test"
   ]
  },
  {
   "cell_type": "code",
   "execution_count": 3,
   "metadata": {},
   "outputs": [],
   "source": [
    "train_data, test_data = Processing_data(train_data, test_data)"
   ]
  },
  {
   "cell_type": "code",
   "execution_count": 4,
   "metadata": {},
   "outputs": [
    {
     "name": "stdout",
     "output_type": "stream",
     "text": [
      "(50000, 3072)\n",
      "(50000,)\n",
      "(10000, 3072)\n",
      "(10000,)\n"
     ]
    }
   ],
   "source": [
    "print(train_data.shape)\n",
    "print(train_labels.shape)\n",
    "print(test_data.shape)\n",
    "print(test_labels.shape)"
   ]
  },
  {
   "cell_type": "markdown",
   "metadata": {},
   "source": [
    "너무 많으니까 5000개, 1000개만 사용합시다!"
   ]
  },
  {
   "cell_type": "code",
   "execution_count": 5,
   "metadata": {},
   "outputs": [],
   "source": [
    "train_data = train_data[:5000]\n",
    "train_labels = train_labels[:5000]\n",
    "test_data = test_data[:1000]\n",
    "test_labels = test_labels[:1000]"
   ]
  },
  {
   "cell_type": "markdown",
   "metadata": {},
   "source": [
    "### 데이터 확인  \n",
    "실제 데이터가 어떻게 생겼는지는 한번 확인해보세요!"
   ]
  },
  {
   "cell_type": "code",
   "execution_count": 6,
   "metadata": {},
   "outputs": [
    {
     "data": {
      "text/plain": [
       "((5000, 3072), (5000,))"
      ]
     },
     "execution_count": 6,
     "metadata": {},
     "output_type": "execute_result"
    }
   ],
   "source": [
    "train_data.shape, train_labels.shape"
   ]
  },
  {
   "cell_type": "markdown",
   "metadata": {},
   "source": [
    "### 하이퍼파라미터 설정  \n",
    "하이퍼파라미터를 설정하겠습니다.  \n",
    "hidden_size, epoch_size, batch_size, learning_rate 등은 전부 하이퍼 파라미터이니 바꿔서 해보세요."
   ]
  },
  {
   "cell_type": "code",
   "execution_count": 7,
   "metadata": {},
   "outputs": [],
   "source": [
    "input_size = 32 * 32 * 3\n",
    "hidden_size = 50\n",
    "output_size = 10\n",
    "epoch_size = 1000\n",
    "batch_size = 100\n",
    "learning_rate = 0.002\n",
    "N = train_data.shape[0]"
   ]
  },
  {
   "cell_type": "markdown",
   "metadata": {},
   "source": [
    "### 모델 만들기  \n",
    "input_size, hidden_size, output_size는 데이터에 맞게 잘 설정해주세요."
   ]
  },
  {
   "cell_type": "code",
   "execution_count": 8,
   "metadata": {},
   "outputs": [],
   "source": [
    "nn = TwoLayerNet(input_size=input_size, hidden_size=hidden_size, output_size=output_size)"
   ]
  },
  {
   "cell_type": "code",
   "execution_count": 9,
   "metadata": {},
   "outputs": [
    {
     "name": "stdout",
     "output_type": "stream",
     "text": [
      "0 accuracy : 0.091\n",
      "0 loss     : 2.3025758128693035\n",
      "10 accuracy : 0.181\n",
      "10 loss     : 2.302407182890155\n",
      "20 accuracy : 0.197\n",
      "20 loss     : 2.3018904906488986\n",
      "30 accuracy : 0.194\n",
      "30 loss     : 2.2997848157301606\n",
      "40 accuracy : 0.182\n",
      "40 loss     : 2.291551537344615\n",
      "50 accuracy : 0.179\n",
      "50 loss     : 2.2656778377192417\n",
      "60 accuracy : 0.202\n",
      "60 loss     : 2.2234153537394454\n",
      "70 accuracy : 0.217\n",
      "70 loss     : 2.179448364624426\n",
      "80 accuracy : 0.227\n",
      "80 loss     : 2.135036144212913\n",
      "90 accuracy : 0.247\n",
      "90 loss     : 2.097352573786885\n",
      "100 accuracy : 0.257\n",
      "100 loss     : 2.0698488853284975\n",
      "110 accuracy : 0.257\n",
      "110 loss     : 2.0477725538458147\n",
      "120 accuracy : 0.258\n",
      "120 loss     : 2.0295140744971722\n",
      "130 accuracy : 0.27\n",
      "130 loss     : 2.012557263247997\n",
      "140 accuracy : 0.275\n",
      "140 loss     : 1.995637289950131\n",
      "150 accuracy : 0.273\n",
      "150 loss     : 1.9791712821877618\n",
      "160 accuracy : 0.28\n",
      "160 loss     : 1.9626432960793718\n",
      "170 accuracy : 0.282\n",
      "170 loss     : 1.9470914701129984\n",
      "180 accuracy : 0.294\n",
      "180 loss     : 1.9325051587555864\n",
      "190 accuracy : 0.291\n",
      "190 loss     : 1.919051149315183\n",
      "200 accuracy : 0.304\n",
      "200 loss     : 1.9061600245384482\n",
      "210 accuracy : 0.31\n",
      "210 loss     : 1.8925809326004333\n",
      "220 accuracy : 0.322\n",
      "220 loss     : 1.8797600384948843\n",
      "230 accuracy : 0.324\n",
      "230 loss     : 1.8675198596543514\n",
      "240 accuracy : 0.325\n",
      "240 loss     : 1.8561194236567689\n",
      "250 accuracy : 0.329\n",
      "250 loss     : 1.8445533147302882\n",
      "260 accuracy : 0.334\n",
      "260 loss     : 1.8330053595637816\n",
      "270 accuracy : 0.34\n",
      "270 loss     : 1.8242131322019968\n",
      "280 accuracy : 0.347\n",
      "280 loss     : 1.8138236736976918\n",
      "290 accuracy : 0.346\n",
      "290 loss     : 1.8046415678066365\n",
      "300 accuracy : 0.347\n",
      "300 loss     : 1.7963944041594277\n",
      "310 accuracy : 0.353\n",
      "310 loss     : 1.790454533345862\n",
      "320 accuracy : 0.357\n",
      "320 loss     : 1.7828545561988085\n",
      "330 accuracy : 0.359\n",
      "330 loss     : 1.775318003061979\n",
      "340 accuracy : 0.357\n",
      "340 loss     : 1.7701195882798864\n",
      "350 accuracy : 0.362\n",
      "350 loss     : 1.7628887094291052\n",
      "360 accuracy : 0.368\n",
      "360 loss     : 1.7568988383460415\n",
      "370 accuracy : 0.368\n",
      "370 loss     : 1.7511123818754064\n",
      "380 accuracy : 0.367\n",
      "380 loss     : 1.7458672200878407\n",
      "390 accuracy : 0.369\n",
      "390 loss     : 1.740179550522063\n",
      "400 accuracy : 0.367\n",
      "400 loss     : 1.7357199313165652\n",
      "410 accuracy : 0.366\n",
      "410 loss     : 1.7322810216118412\n",
      "420 accuracy : 0.371\n",
      "420 loss     : 1.727016027496897\n",
      "430 accuracy : 0.374\n",
      "430 loss     : 1.7226058106331599\n",
      "440 accuracy : 0.375\n",
      "440 loss     : 1.7189871222488418\n",
      "450 accuracy : 0.374\n",
      "450 loss     : 1.716393152451899\n",
      "460 accuracy : 0.373\n",
      "460 loss     : 1.7118686514204544\n",
      "470 accuracy : 0.377\n",
      "470 loss     : 1.70831773531717\n",
      "480 accuracy : 0.379\n",
      "480 loss     : 1.7051850235539237\n",
      "490 accuracy : 0.374\n",
      "490 loss     : 1.7023192400523313\n",
      "500 accuracy : 0.385\n",
      "500 loss     : 1.6976241788895072\n",
      "510 accuracy : 0.388\n",
      "510 loss     : 1.6947592816358963\n",
      "520 accuracy : 0.385\n",
      "520 loss     : 1.6927127887330666\n",
      "530 accuracy : 0.388\n",
      "530 loss     : 1.6881392520247278\n",
      "540 accuracy : 0.394\n",
      "540 loss     : 1.6873955770095876\n",
      "550 accuracy : 0.394\n",
      "550 loss     : 1.6838557973134538\n",
      "560 accuracy : 0.4\n",
      "560 loss     : 1.680529386536788\n",
      "570 accuracy : 0.395\n",
      "570 loss     : 1.679568061816427\n",
      "580 accuracy : 0.396\n",
      "580 loss     : 1.6760174860271733\n",
      "590 accuracy : 0.404\n",
      "590 loss     : 1.6730338772367832\n",
      "600 accuracy : 0.404\n",
      "600 loss     : 1.6715036670043906\n",
      "610 accuracy : 0.402\n",
      "610 loss     : 1.6700589124845713\n",
      "620 accuracy : 0.404\n",
      "620 loss     : 1.6688706732338379\n",
      "630 accuracy : 0.404\n",
      "630 loss     : 1.6666113422395386\n",
      "640 accuracy : 0.403\n",
      "640 loss     : 1.6656334221930598\n",
      "650 accuracy : 0.405\n",
      "650 loss     : 1.6641803453851258\n",
      "660 accuracy : 0.41\n",
      "660 loss     : 1.6618034171984117\n",
      "670 accuracy : 0.408\n",
      "670 loss     : 1.6609009252724802\n",
      "680 accuracy : 0.408\n",
      "680 loss     : 1.6579607700312011\n",
      "690 accuracy : 0.408\n",
      "690 loss     : 1.6568626821064532\n",
      "700 accuracy : 0.405\n",
      "700 loss     : 1.6551384180102302\n",
      "710 accuracy : 0.402\n",
      "710 loss     : 1.65456450469547\n",
      "720 accuracy : 0.401\n",
      "720 loss     : 1.6525260807275497\n",
      "730 accuracy : 0.406\n",
      "730 loss     : 1.6526721376174327\n",
      "740 accuracy : 0.407\n",
      "740 loss     : 1.6527850239521895\n",
      "750 accuracy : 0.409\n",
      "750 loss     : 1.6507891945705162\n",
      "760 accuracy : 0.416\n",
      "760 loss     : 1.6503544578357379\n",
      "770 accuracy : 0.41\n",
      "770 loss     : 1.6484490201500466\n",
      "780 accuracy : 0.407\n",
      "780 loss     : 1.6475680799173602\n",
      "790 accuracy : 0.412\n",
      "790 loss     : 1.6491506305334893\n",
      "800 accuracy : 0.41\n",
      "800 loss     : 1.6469234995639963\n",
      "810 accuracy : 0.412\n",
      "810 loss     : 1.6465947600970576\n",
      "820 accuracy : 0.409\n",
      "820 loss     : 1.6454900666401864\n",
      "830 accuracy : 0.416\n",
      "830 loss     : 1.6451320563654583\n",
      "840 accuracy : 0.41\n",
      "840 loss     : 1.6463962985983775\n",
      "850 accuracy : 0.413\n",
      "850 loss     : 1.6464811958814258\n",
      "860 accuracy : 0.412\n",
      "860 loss     : 1.6468733339145654\n",
      "870 accuracy : 0.409\n",
      "870 loss     : 1.6476651430753333\n",
      "880 accuracy : 0.412\n",
      "880 loss     : 1.6480262828769747\n",
      "890 accuracy : 0.409\n",
      "890 loss     : 1.6452330638198813\n",
      "900 accuracy : 0.41\n",
      "900 loss     : 1.646772789211154\n",
      "910 accuracy : 0.406\n",
      "910 loss     : 1.6481971871776675\n",
      "920 accuracy : 0.407\n",
      "920 loss     : 1.6486573136575453\n",
      "930 accuracy : 0.411\n",
      "930 loss     : 1.6507483567422423\n",
      "940 accuracy : 0.407\n",
      "940 loss     : 1.6507457111379695\n",
      "950 accuracy : 0.409\n",
      "950 loss     : 1.651807890505025\n",
      "960 accuracy : 0.412\n",
      "960 loss     : 1.6551816162420674\n",
      "970 accuracy : 0.408\n",
      "970 loss     : 1.6562950834656103\n",
      "980 accuracy : 0.409\n",
      "980 loss     : 1.6566313176750136\n",
      "990 accuracy : 0.414\n",
      "990 loss     : 1.6596932290976132\n"
     ]
    }
   ],
   "source": [
    "history = {'acc': [],'loss': []} #기록해서 그림 그리자!\n",
    "\n",
    "#코드를 보며 epoch, batch에 대해서 이해해봅시다.\n",
    "for i in range(epoch_size):\n",
    "    for j in range(N//batch_size):\n",
    "        batch_mask = np.random.choice(N, batch_size) #이번 배치에서 쓸 데이터들 인덱스 추출\n",
    "        x_batch = train_data[batch_mask]\n",
    "        t_batch = train_labels[batch_mask]\n",
    "        \n",
    "        nn.backward(x_batch, t_batch) # 가중치 갱신\n",
    "    \n",
    "    #accuracy와 loss를 기록해둡시다.\n",
    "    history[\"acc\"].append(nn.accuracy(test_data, test_labels))\n",
    "    history[\"loss\"].append(nn.forward(test_data, test_labels))\n",
    "    \n",
    "    if i % 10 == 0:\n",
    "        print(i, \"accuracy :\", nn.accuracy(test_data, test_labels))\n",
    "        print(i, \"loss     :\", nn.forward(test_data, test_labels))"
   ]
  },
  {
   "cell_type": "markdown",
   "metadata": {},
   "source": [
    "### 그림 그리기"
   ]
  },
  {
   "cell_type": "code",
   "execution_count": 10,
   "metadata": {},
   "outputs": [
    {
     "data": {
      "image/png": "[encoded data removed]",
      "text/plain": [
       "<matplotlib.figure.Figure at 0x1113d4240>"
      ]
     },
     "metadata": {},
     "output_type": "display_data"
    }
   ],
   "source": [
    "fig = plt.figure()\n",
    "ax_acc = fig.add_subplot(111)\n",
    "\n",
    "ax_acc.plot(range(epoch_size), history['acc'], label='정확도(%)', color='darkred')\n",
    "#plt.text(3, 14.7, \"<----------------정확도(%)\", verticalalignment='top', horizontalalignment='right')\n",
    "plt.xlabel('epochs')\n",
    "plt.ylabel('Accuracy(%)')\n",
    "ax_acc.grid(linestyle='--', color='lavender')\n",
    "ax_loss = ax_acc.twinx()\n",
    "ax_loss.plot(range(epoch_size), history['loss'], label='오차', color='darkblue')\n",
    "#plt.text(3, 2.2, \"<----------------오차\", verticalalignment='top', horizontalalignment='left')\n",
    "plt.ylabel('Error')\n",
    "ax_loss.yaxis.tick_right()\n",
    "ax_loss.grid(linestyle='--', color='lavender')\n",
    "\n",
    "# 그래프 표시\n",
    "plt.show()"
   ]
  },
  {
   "cell_type": "code",
   "execution_count": null,
   "metadata": {},
   "outputs": [],
   "source": []
  }
 ],
 "metadata": {
  "kernelspec": {
   "display_name": "Python [default]",
   "language": "python",
   "name": "python3"
  },
  "language_info": {
   "codemirror_mode": {
    "name": "ipython",
    "version": 3
   },
   "file_extension": ".py",
   "mimetype": "text/x-python",
   "name": "python",
   "nbconvert_exporter": "python",
   "pygments_lexer": "ipython3",
   "version": "3.6.4"
  }
 },
 "nbformat": 4,
 "nbformat_minor": 2
}
