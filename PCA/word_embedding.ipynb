{
 "cells": [
  {
   "cell_type": "code",
   "execution_count": 58,
   "metadata": {},
   "outputs": [],
   "source": [
    "import numpy as np\n",
    "import pandas as pd\n",
    "import numpy.linalg as lin\n",
    "import matplotlib.pyplot as plt\n"
   ]
  },
  {
   "cell_type": "code",
   "execution_count": 59,
   "metadata": {},
   "outputs": [],
   "source": [
    "from sklearn.decomposition import PCA\n",
    "from sklearn.manifold import TSNE\n",
    "from sklearn.cluster import KMeans\n",
    "from sklearn.preprocessing import StandardScaler\n",
    "from sklearn.pipeline import make_pipeline\n",
    "\n",
    "import time"
   ]
  },
  {
   "cell_type": "code",
   "execution_count": 60,
   "metadata": {},
   "outputs": [
    {
     "data": {
      "text/html": [
       "<div>\n",
       "<style scoped>\n",
       "    .dataframe tbody tr th:only-of-type {\n",
       "        vertical-align: middle;\n",
       "    }\n",
       "\n",
       "    .dataframe tbody tr th {\n",
       "        vertical-align: top;\n",
       "    }\n",
       "\n",
       "    .dataframe thead th {\n",
       "        text-align: right;\n",
       "    }\n",
       "</style>\n",
       "<table border=\"1\" class=\"dataframe\">\n",
       "  <thead>\n",
       "    <tr style=\"text-align: right;\">\n",
       "      <th></th>\n",
       "      <th>0</th>\n",
       "      <th>1</th>\n",
       "      <th>2</th>\n",
       "      <th>3</th>\n",
       "      <th>4</th>\n",
       "      <th>5</th>\n",
       "      <th>6</th>\n",
       "      <th>7</th>\n",
       "      <th>8</th>\n",
       "      <th>9</th>\n",
       "      <th>...</th>\n",
       "      <th>91</th>\n",
       "      <th>92</th>\n",
       "      <th>93</th>\n",
       "      <th>94</th>\n",
       "      <th>95</th>\n",
       "      <th>96</th>\n",
       "      <th>97</th>\n",
       "      <th>98</th>\n",
       "      <th>99</th>\n",
       "      <th>100</th>\n",
       "    </tr>\n",
       "  </thead>\n",
       "  <tbody>\n",
       "    <tr>\n",
       "      <th>0</th>\n",
       "      <td>the</td>\n",
       "      <td>-0.038194</td>\n",
       "      <td>-0.244870</td>\n",
       "      <td>0.728120</td>\n",
       "      <td>-0.399610</td>\n",
       "      <td>0.083172</td>\n",
       "      <td>0.043953</td>\n",
       "      <td>-0.39141</td>\n",
       "      <td>0.334400</td>\n",
       "      <td>-0.57545</td>\n",
       "      <td>...</td>\n",
       "      <td>0.016215</td>\n",
       "      <td>-0.017099</td>\n",
       "      <td>-0.38984</td>\n",
       "      <td>0.87424</td>\n",
       "      <td>-0.72569</td>\n",
       "      <td>-0.51058</td>\n",
       "      <td>-0.520280</td>\n",
       "      <td>-0.145900</td>\n",
       "      <td>0.82780</td>\n",
       "      <td>0.27062</td>\n",
       "    </tr>\n",
       "    <tr>\n",
       "      <th>1</th>\n",
       "      <td>of</td>\n",
       "      <td>-0.152900</td>\n",
       "      <td>-0.242790</td>\n",
       "      <td>0.898370</td>\n",
       "      <td>0.169960</td>\n",
       "      <td>0.535160</td>\n",
       "      <td>0.487840</td>\n",
       "      <td>-0.58826</td>\n",
       "      <td>-0.179820</td>\n",
       "      <td>-1.35810</td>\n",
       "      <td>...</td>\n",
       "      <td>0.187120</td>\n",
       "      <td>-0.018488</td>\n",
       "      <td>-0.26757</td>\n",
       "      <td>0.72700</td>\n",
       "      <td>-0.59363</td>\n",
       "      <td>-0.34839</td>\n",
       "      <td>-0.560940</td>\n",
       "      <td>-0.591000</td>\n",
       "      <td>1.00390</td>\n",
       "      <td>0.20664</td>\n",
       "    </tr>\n",
       "    <tr>\n",
       "      <th>2</th>\n",
       "      <td>to</td>\n",
       "      <td>-0.189700</td>\n",
       "      <td>0.050024</td>\n",
       "      <td>0.190840</td>\n",
       "      <td>-0.049184</td>\n",
       "      <td>-0.089737</td>\n",
       "      <td>0.210060</td>\n",
       "      <td>-0.54952</td>\n",
       "      <td>0.098377</td>\n",
       "      <td>-0.20135</td>\n",
       "      <td>...</td>\n",
       "      <td>-0.131340</td>\n",
       "      <td>0.058617</td>\n",
       "      <td>-0.31869</td>\n",
       "      <td>-0.61419</td>\n",
       "      <td>-0.62393</td>\n",
       "      <td>-0.41548</td>\n",
       "      <td>-0.038175</td>\n",
       "      <td>-0.398040</td>\n",
       "      <td>0.47647</td>\n",
       "      <td>-0.15983</td>\n",
       "    </tr>\n",
       "    <tr>\n",
       "      <th>3</th>\n",
       "      <td>and</td>\n",
       "      <td>-0.071953</td>\n",
       "      <td>0.231270</td>\n",
       "      <td>0.023731</td>\n",
       "      <td>-0.506380</td>\n",
       "      <td>0.339230</td>\n",
       "      <td>0.195900</td>\n",
       "      <td>-0.32943</td>\n",
       "      <td>0.183640</td>\n",
       "      <td>-0.18057</td>\n",
       "      <td>...</td>\n",
       "      <td>0.014487</td>\n",
       "      <td>-0.625900</td>\n",
       "      <td>-0.32367</td>\n",
       "      <td>0.41862</td>\n",
       "      <td>-1.08070</td>\n",
       "      <td>0.46742</td>\n",
       "      <td>-0.499310</td>\n",
       "      <td>-0.718950</td>\n",
       "      <td>0.86894</td>\n",
       "      <td>0.19539</td>\n",
       "    </tr>\n",
       "    <tr>\n",
       "      <th>4</th>\n",
       "      <td>in</td>\n",
       "      <td>0.085703</td>\n",
       "      <td>-0.222010</td>\n",
       "      <td>0.165690</td>\n",
       "      <td>0.133730</td>\n",
       "      <td>0.382390</td>\n",
       "      <td>0.354010</td>\n",
       "      <td>0.01287</td>\n",
       "      <td>0.224610</td>\n",
       "      <td>-0.43817</td>\n",
       "      <td>...</td>\n",
       "      <td>0.402150</td>\n",
       "      <td>-0.127460</td>\n",
       "      <td>-0.20228</td>\n",
       "      <td>0.87368</td>\n",
       "      <td>-0.54500</td>\n",
       "      <td>0.79205</td>\n",
       "      <td>-0.206950</td>\n",
       "      <td>-0.074273</td>\n",
       "      <td>0.75808</td>\n",
       "      <td>-0.34243</td>\n",
       "    </tr>\n",
       "  </tbody>\n",
       "</table>\n",
       "<p>5 rows × 101 columns</p>\n",
       "</div>"
      ],
      "text/plain": [
       "     0         1         2         3         4         5         6        7  \\\n",
       "0  the -0.038194 -0.244870  0.728120 -0.399610  0.083172  0.043953 -0.39141   \n",
       "1   of -0.152900 -0.242790  0.898370  0.169960  0.535160  0.487840 -0.58826   \n",
       "2   to -0.189700  0.050024  0.190840 -0.049184 -0.089737  0.210060 -0.54952   \n",
       "3  and -0.071953  0.231270  0.023731 -0.506380  0.339230  0.195900 -0.32943   \n",
       "4   in  0.085703 -0.222010  0.165690  0.133730  0.382390  0.354010  0.01287   \n",
       "\n",
       "          8        9   ...           91        92       93       94       95  \\\n",
       "0  0.334400 -0.57545   ...     0.016215 -0.017099 -0.38984  0.87424 -0.72569   \n",
       "1 -0.179820 -1.35810   ...     0.187120 -0.018488 -0.26757  0.72700 -0.59363   \n",
       "2  0.098377 -0.20135   ...    -0.131340  0.058617 -0.31869 -0.61419 -0.62393   \n",
       "3  0.183640 -0.18057   ...     0.014487 -0.625900 -0.32367  0.41862 -1.08070   \n",
       "4  0.224610 -0.43817   ...     0.402150 -0.127460 -0.20228  0.87368 -0.54500   \n",
       "\n",
       "        96        97        98       99      100  \n",
       "0 -0.51058 -0.520280 -0.145900  0.82780  0.27062  \n",
       "1 -0.34839 -0.560940 -0.591000  1.00390  0.20664  \n",
       "2 -0.41548 -0.038175 -0.398040  0.47647 -0.15983  \n",
       "3  0.46742 -0.499310 -0.718950  0.86894  0.19539  \n",
       "4  0.79205 -0.206950 -0.074273  0.75808 -0.34243  \n",
       "\n",
       "[5 rows x 101 columns]"
      ]
     },
     "execution_count": 60,
     "metadata": {},
     "output_type": "execute_result"
    }
   ],
   "source": [
    "data = pd.read_csv('word_embedding.csv')\n",
    "data.head()"
   ]
  },
  {
   "cell_type": "code",
   "execution_count": 61,
   "metadata": {},
   "outputs": [
    {
     "data": {
      "text/plain": [
       "array(['the', 'of', 'to', 'and', 'in', 'a', 'for', 'that', 'on', 'is'],\n",
       "      dtype=object)"
      ]
     },
     "execution_count": 61,
     "metadata": {},
     "output_type": "execute_result"
    }
   ],
   "source": [
    "# 라벨\n",
    "labels =  data['0'].values\n",
    "labels = labels[:10]\n",
    "labels"
   ]
  },
  {
   "cell_type": "code",
   "execution_count": 71,
   "metadata": {},
   "outputs": [
    {
     "data": {
      "text/plain": [
       "(10,)"
      ]
     },
     "execution_count": 71,
     "metadata": {},
     "output_type": "execute_result"
    }
   ],
   "source": [
    "labels.shape"
   ]
  },
  {
   "cell_type": "code",
   "execution_count": 86,
   "metadata": {},
   "outputs": [
    {
     "data": {
      "text/plain": [
       "array([0, 1, 2, 3, 4, 5, 6, 7, 8, 9], dtype=int16)"
      ]
     },
     "execution_count": 86,
     "metadata": {},
     "output_type": "execute_result"
    }
   ],
   "source": [
    "labels = np.arange(0,10,dtype='int16')\n",
    "labels"
   ]
  },
  {
   "cell_type": "code",
   "execution_count": 62,
   "metadata": {},
   "outputs": [],
   "source": [
    "# 라벨 제외 word 차원값들 \n",
    "del data['0']\n",
    "data = data.values\n",
    "data = data[:10,:]"
   ]
  },
  {
   "cell_type": "code",
   "execution_count": 63,
   "metadata": {},
   "outputs": [
    {
     "data": {
      "text/plain": [
       "(10, 100)"
      ]
     },
     "execution_count": 63,
     "metadata": {},
     "output_type": "execute_result"
    }
   ],
   "source": [
    "data.shape"
   ]
  },
  {
   "cell_type": "markdown",
   "metadata": {},
   "source": [
    "### kmeans로 군집화 시각화"
   ]
  },
  {
   "cell_type": "code",
   "execution_count": 87,
   "metadata": {},
   "outputs": [],
   "source": [
    "kmeans = KMeans(n_clusters=10)\n",
    "kmeans.fit(data)\n",
    "y_kmeans = kmeans.predict(data)"
   ]
  },
  {
   "cell_type": "code",
   "execution_count": 88,
   "metadata": {},
   "outputs": [
    {
     "data": {
      "image/png": "[encoded data removed]",
      "text/plain": [
       "<matplotlib.figure.Figure at 0x1a330c1c18>"
      ]
     },
     "metadata": {},
     "output_type": "display_data"
    }
   ],
   "source": [
    "plt.scatter(data[:, 0], data[:, 1], c=y_kmeans, s=20, cmap='viridis')\n",
    "\n",
    "centers = kmeans.cluster_centers_\n",
    "\n",
    "plt.scatter(centers[:, 0], centers[:, 1], c=labels, s=3000, alpha=0.5);\n"
   ]
  },
  {
   "cell_type": "markdown",
   "metadata": {},
   "source": [
    "## PCA & t-sne"
   ]
  },
  {
   "cell_type": "code",
   "execution_count": 89,
   "metadata": {},
   "outputs": [
    {
     "data": {
      "image/png": "[encoded data removed]",
      "text/plain": [
       "<matplotlib.figure.Figure at 0x1a332304e0>"
      ]
     },
     "metadata": {},
     "output_type": "display_data"
    }
   ],
   "source": [
    "# 정규화\n",
    "scaler = StandardScaler()\n",
    "\n",
    "# pca , 디폴트 components는 n(전체 feature 수)\n",
    "pca = PCA(10)\n",
    "\n",
    "# pipeline\n",
    "pipeline = make_pipeline(scaler,pca)\n",
    "\n",
    "# Fit the pipeline to 'samples'\n",
    "pipeline.fit(data)\n",
    "\n",
    "features = range(pca.n_components_)\n",
    "plt.bar(features, pca.explained_variance_)\n",
    "plt.xlabel('PCA feature')\n",
    "plt.ylabel('variance')\n",
    "plt.xticks(features)\n",
    "plt.show()"
   ]
  },
  {
   "cell_type": "code",
   "execution_count": 93,
   "metadata": {},
   "outputs": [
    {
     "data": {
      "image/png": "[encoded data removed]",
      "text/plain": [
       "<matplotlib.figure.Figure at 0x1a3366aa20>"
      ]
     },
     "metadata": {},
     "output_type": "display_data"
    }
   ],
   "source": [
    "# 2차원\n",
    "from sklearn.decomposition import PCA\n",
    "\n",
    "model = PCA(n_components=2)\n",
    "pca_features = model.fit_transform(data)\n",
    "\n",
    "xf = pca_features[:,0]\n",
    "yf = pca_features[:,1]\n",
    "plt.scatter(xf,yf,c=labels);\n",
    "plt.show();"
   ]
  },
  {
   "cell_type": "code",
   "execution_count": 94,
   "metadata": {},
   "outputs": [
    {
     "data": {
      "image/png": "[encoded data removed]",
      "text/plain": [
       "<matplotlib.figure.Figure at 0x1a3455c1d0>"
      ]
     },
     "metadata": {},
     "output_type": "display_data"
    }
   ],
   "source": [
    "# 1차원\n",
    "from sklearn.decomposition import PCA\n",
    "import matplotlib.pyplot as plt\n",
    "\n",
    "model = PCA(n_components=1)\n",
    "pca_features = model.fit_transform(data)\n",
    "\n",
    "xf = pca_features[:,0]\n",
    "yf = len(xf)*[0]\n",
    "plt.scatter(xf,yf,c=labels);\n",
    "plt.show();"
   ]
  },
  {
   "cell_type": "code",
   "execution_count": 95,
   "metadata": {},
   "outputs": [
    {
     "data": {
      "image/png": "[encoded data removed]",
      "text/plain": [
       "<matplotlib.figure.Figure at 0x1a33338588>"
      ]
     },
     "metadata": {},
     "output_type": "display_data"
    }
   ],
   "source": [
    "model = TSNE(learning_rate=100)\n",
    "transformed = model.fit_transform(data)\n",
    "\n",
    "xs = transformed[:,0]\n",
    "ys = transformed[:,1]\n",
    "plt.scatter(xs,ys,c=labels)\n",
    "\n",
    "plt.show()"
   ]
  },
  {
   "cell_type": "code",
   "execution_count": null,
   "metadata": {},
   "outputs": [],
   "source": []
  }
 ],
 "metadata": {
  "kernelspec": {
   "display_name": "Python [conda env:anaconda3]",
   "language": "python",
   "name": "conda-env-anaconda3-py"
  },
  "language_info": {
   "codemirror_mode": {
    "name": "ipython",
    "version": 3
   },
   "file_extension": ".py",
   "mimetype": "text/x-python",
   "name": "python",
   "nbconvert_exporter": "python",
   "pygments_lexer": "ipython3",
   "version": "3.6.4"
  }
 },
 "nbformat": 4,
 "nbformat_minor": 2
}
