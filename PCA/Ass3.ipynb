{
 "cells": [
  {
   "cell_type": "markdown",
   "metadata": {},
   "source": [
    "## 축소전 데이터와 PCA 이후 데이터 Training 시간 비교"
   ]
  },
  {
   "cell_type": "code",
   "execution_count": 1,
   "metadata": {},
   "outputs": [],
   "source": [
    "import pandas as pd\n",
    "import numpy as np\n",
    "\n",
    "from sklearn.preprocessing import StandardScaler\n",
    "from sklearn.model_selection import train_test_split\n",
    "from sklearn.metrics import accuracy_score\n",
    "\n",
    "from sklearn.decomposition import PCA\n",
    "from sklearn.neighbors import KNeighborsClassifier\n",
    "from sklearn.ensemble import RandomForestClassifier\n",
    "\n",
    "import matplotlib.pyplot as plt\n",
    "import time\n",
    "import warnings\n",
    "warnings.filterwarnings('ignore')\n"
   ]
  },
  {
   "cell_type": "code",
   "execution_count": 2,
   "metadata": {},
   "outputs": [],
   "source": [
    "data = pd.read_csv('train.csv')"
   ]
  },
  {
   "cell_type": "code",
   "execution_count": 3,
   "metadata": {},
   "outputs": [
    {
     "data": {
      "text/plain": [
       "(42000, 785)"
      ]
     },
     "execution_count": 3,
     "metadata": {},
     "output_type": "execute_result"
    }
   ],
   "source": [
    "data.shape"
   ]
  },
  {
   "cell_type": "code",
   "execution_count": 4,
   "metadata": {},
   "outputs": [],
   "source": [
    "label = data.iloc[:,0]\n",
    "X = data.iloc[:,1:]\n",
    "#X = StandardScaler().fit_transform(X)"
   ]
  },
  {
   "cell_type": "code",
   "execution_count": 5,
   "metadata": {},
   "outputs": [
    {
     "data": {
      "text/plain": [
       "(42000, 785)"
      ]
     },
     "execution_count": 5,
     "metadata": {},
     "output_type": "execute_result"
    }
   ],
   "source": [
    "data.shape"
   ]
  },
  {
   "cell_type": "code",
   "execution_count": 6,
   "metadata": {},
   "outputs": [],
   "source": [
    "X_tr, X_test, y_tr, y_test = train_test_split(X, label, test_size = 0.2, random_state = 4)"
   ]
  },
  {
   "cell_type": "code",
   "execution_count": 7,
   "metadata": {},
   "outputs": [
    {
     "data": {
      "text/plain": [
       "((33600, 784), (33600,))"
      ]
     },
     "execution_count": 7,
     "metadata": {},
     "output_type": "execute_result"
    }
   ],
   "source": [
    "X_tr.shape, y_tr.shape"
   ]
  },
  {
   "cell_type": "code",
   "execution_count": 8,
   "metadata": {},
   "outputs": [
    {
     "data": {
      "text/plain": [
       "((8400, 784), (8400,))"
      ]
     },
     "execution_count": 8,
     "metadata": {},
     "output_type": "execute_result"
    }
   ],
   "source": [
    "X_test.shape, y_test.shape"
   ]
  },
  {
   "cell_type": "markdown",
   "metadata": {},
   "source": [
    "### 1) 축소 전 데이터 KNN"
   ]
  },
  {
   "cell_type": "code",
   "execution_count": 9,
   "metadata": {},
   "outputs": [
    {
     "name": "stdout",
     "output_type": "stream",
     "text": [
      "knn done! Time elapsed: 7.6910271644592285 seconds\n"
     ]
    }
   ],
   "source": [
    "knn = KNeighborsClassifier(n_neighbors=5)\n",
    "# Train \n",
    "time_start = time.time()\n",
    "knn.fit(X_tr,y_tr)\n",
    "print('knn done! Time elapsed: {} seconds'.format(time.time()-time_start))"
   ]
  },
  {
   "cell_type": "code",
   "execution_count": 10,
   "metadata": {},
   "outputs": [
    {
     "name": "stdout",
     "output_type": "stream",
     "text": [
      "knn done! Time elapsed: 420.91319704055786 seconds\n",
      "Accuracy: 0.965\n"
     ]
    }
   ],
   "source": [
    "time_start = time.time()\n",
    "y_pred = knn.predict(X_test)\n",
    "print('knn done! Time elapsed: {} seconds'.format(time.time()-time_start))\n",
    "# test accuracy\n",
    "print(\"Accuracy:\",accuracy_score(y_test, y_pred))\n"
   ]
  },
  {
   "cell_type": "markdown",
   "metadata": {},
   "source": [
    "### 2) 축소 전 데이터 Randomforest"
   ]
  },
  {
   "cell_type": "code",
   "execution_count": 11,
   "metadata": {},
   "outputs": [
    {
     "name": "stdout",
     "output_type": "stream",
     "text": [
      "randomforest done! Time elapsed: 239.9919981956482 seconds\n"
     ]
    }
   ],
   "source": [
    "#Create a Randomforest\n",
    "rf = RandomForestClassifier(n_estimators = 1000, random_state = 42)\n",
    "\n",
    "time_start = time.time()\n",
    "#Train\n",
    "rf.fit(X_tr, y_tr)\n",
    "print('randomforest done! Time elapsed: {} seconds'.format(time.time()-time_start))"
   ]
  },
  {
   "cell_type": "code",
   "execution_count": 12,
   "metadata": {},
   "outputs": [
    {
     "name": "stdout",
     "output_type": "stream",
     "text": [
      "randomforest done! Time elapsed: 3.943236827850342 seconds\n",
      "Accuracy: 0.9647619047619047\n"
     ]
    }
   ],
   "source": [
    "#Predict the response for test dataset\n",
    "\n",
    "time_start = time.time()\n",
    "y_pred = rf.predict(X_test)\n",
    "print('randomforest done! Time elapsed: {} seconds'.format(time.time()-time_start))\n",
    "# test accuracy\n",
    "print(\"Accuracy:\",accuracy_score(y_test, y_pred))\n"
   ]
  },
  {
   "cell_type": "code",
   "execution_count": null,
   "metadata": {},
   "outputs": [],
   "source": []
  },
  {
   "cell_type": "markdown",
   "metadata": {},
   "source": [
    "### PCA 로 차원축소"
   ]
  },
  {
   "cell_type": "code",
   "execution_count": 16,
   "metadata": {},
   "outputs": [],
   "source": [
    "pca = PCA(2)\n",
    "\n",
    "# 트레인으로 일단 차원축소하고 Train 데이터 기준으로 test 데이터도 차원축소해줌\n",
    "# train set의 mean과 std로 test set을 정규화해주는 것과 같은 이치\n",
    "pca.fit(X_tr)\n",
    "\n",
    "X_train_pca = pca.transform(X_tr)\n",
    "X_test_pca = pca.transform(X_test)"
   ]
  },
  {
   "cell_type": "markdown",
   "metadata": {},
   "source": [
    "### 1) 축소 후 데이터 KNN"
   ]
  },
  {
   "cell_type": "code",
   "execution_count": 17,
   "metadata": {},
   "outputs": [
    {
     "name": "stdout",
     "output_type": "stream",
     "text": [
      "knn done! Time elapsed: 0.023234128952026367 seconds\n"
     ]
    }
   ],
   "source": [
    "knn = KNeighborsClassifier(n_neighbors=5)\n",
    "# Train \n",
    "time_start = time.time()\n",
    "knn.fit(X_train_pca,y_tr)\n",
    "print('knn done! Time elapsed: {} seconds'.format(time.time()-time_start))"
   ]
  },
  {
   "cell_type": "code",
   "execution_count": 18,
   "metadata": {},
   "outputs": [
    {
     "name": "stdout",
     "output_type": "stream",
     "text": [
      "knn done! Time elapsed: 0.03829002380371094 seconds\n",
      "Accuracy: 0.41\n"
     ]
    }
   ],
   "source": [
    "time_start = time.time()\n",
    "y_pred = knn.predict(X_test_pca)\n",
    "print('knn done! Time elapsed: {} seconds'.format(time.time()-time_start))\n",
    "# test accuracy\n",
    "print(\"Accuracy:\",accuracy_score(y_test, y_pred))\n"
   ]
  },
  {
   "cell_type": "markdown",
   "metadata": {},
   "source": [
    "### 2) 축소 후 데이터 SVM"
   ]
  },
  {
   "cell_type": "code",
   "execution_count": 19,
   "metadata": {},
   "outputs": [
    {
     "name": "stdout",
     "output_type": "stream",
     "text": [
      "randomforest done! Time elapsed: 65.084153175354 seconds\n"
     ]
    }
   ],
   "source": [
    "#Create a svm Classifier\n",
    "rf = RandomForestClassifier(n_estimators=1000, random_state=22)\n",
    "\n",
    "time_start = time.time()\n",
    "#Train\n",
    "rf.fit(X_train_pca, y_tr)\n",
    "print('randomforest done! Time elapsed: {} seconds'.format(time.time()-time_start))"
   ]
  },
  {
   "cell_type": "code",
   "execution_count": 20,
   "metadata": {},
   "outputs": [
    {
     "name": "stdout",
     "output_type": "stream",
     "text": [
      "randomforest done! Time elapsed: 8.280842065811157 seconds\n",
      "Accuracy: 0.4064285714285714\n"
     ]
    }
   ],
   "source": [
    "#Predict the response for test dataset\n",
    "\n",
    "time_start = time.time()\n",
    "y_pred = rf.predict(X_test_pca)\n",
    "print('randomforest done! Time elapsed: {} seconds'.format(time.time()-time_start))\n",
    "# test accuracy\n",
    "print(\"Accuracy:\",accuracy_score(y_test, y_pred))\n"
   ]
  },
  {
   "cell_type": "markdown",
   "metadata": {},
   "source": []
  },
  {
   "cell_type": "code",
   "execution_count": null,
   "metadata": {},
   "outputs": [],
   "source": []
  },
  {
   "cell_type": "markdown",
   "metadata": {},
   "source": [
    "## 성능이 떨어졌으므로, RandomSearch나 GridSearch로 최적의 k(차원값)을 찾아야함"
   ]
  },
  {
   "cell_type": "code",
   "execution_count": null,
   "metadata": {},
   "outputs": [],
   "source": []
  }
 ],
 "metadata": {
  "kernelspec": {
   "display_name": "Python [conda env:anaconda3]",
   "language": "python",
   "name": "conda-env-anaconda3-py"
  },
  "language_info": {
   "codemirror_mode": {
    "name": "ipython",
    "version": 3
   },
   "file_extension": ".py",
   "mimetype": "text/x-python",
   "name": "python",
   "nbconvert_exporter": "python",
   "pygments_lexer": "ipython3",
   "version": "3.6.4"
  }
 },
 "nbformat": 4,
 "nbformat_minor": 2
}
