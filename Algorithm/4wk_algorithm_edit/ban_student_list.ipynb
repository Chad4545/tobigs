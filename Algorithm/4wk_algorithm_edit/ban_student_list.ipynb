{
 "cells": [
  {
   "cell_type": "markdown",
   "metadata": {},
   "source": [
    "- student.txt 파일의 한 줄에는 학생 한 명의 이름, 반, 학생번호가 저장되어 있다. \n",
    "\n",
    "- Student class와 Ban class을 구현하고 파일을 한 줄씩 읽어들이면서 Student instance와 Ban instance를 생성한 뒤 \n",
    "\n",
    "- 반별, 번호순으로 오름차순 정렬된 ‘이중 리스트‘ 형태의 자료 구조를 완성하고 완성한 자료구조에서 결과를 출력하는 프로그램을 작성한다. \n",
    "\n",
    "- class는 각 각의 python file에서 따로 작성하고 다른 python file에서 이들을 import해서 최종결과를 확인한다. \n",
    "\n",
    "- class 작성시 __str__, __lt__, __eq__에 대해 알아보고 pass부분을 완성하여 결과를 도출한다"
   ]
  },
  {
   "cell_type": "code",
   "execution_count": 22,
   "metadata": {},
   "outputs": [
    {
     "data": {
      "text/html": [
       "<div>\n",
       "<style scoped>\n",
       "    .dataframe tbody tr th:only-of-type {\n",
       "        vertical-align: middle;\n",
       "    }\n",
       "\n",
       "    .dataframe tbody tr th {\n",
       "        vertical-align: top;\n",
       "    }\n",
       "\n",
       "    .dataframe thead th {\n",
       "        text-align: right;\n",
       "    }\n",
       "</style>\n",
       "<table border=\"1\" class=\"dataframe\">\n",
       "  <thead>\n",
       "    <tr style=\"text-align: right;\">\n",
       "      <th></th>\n",
       "      <th>name</th>\n",
       "      <th>class</th>\n",
       "      <th>no</th>\n",
       "    </tr>\n",
       "  </thead>\n",
       "  <tbody>\n",
       "    <tr>\n",
       "      <th>0</th>\n",
       "      <td>홍길동</td>\n",
       "      <td>4</td>\n",
       "      <td>1</td>\n",
       "    </tr>\n",
       "    <tr>\n",
       "      <th>1</th>\n",
       "      <td>김정은</td>\n",
       "      <td>5</td>\n",
       "      <td>3</td>\n",
       "    </tr>\n",
       "    <tr>\n",
       "      <th>2</th>\n",
       "      <td>박영희</td>\n",
       "      <td>3</td>\n",
       "      <td>4</td>\n",
       "    </tr>\n",
       "    <tr>\n",
       "      <th>3</th>\n",
       "      <td>이정수</td>\n",
       "      <td>4</td>\n",
       "      <td>3</td>\n",
       "    </tr>\n",
       "    <tr>\n",
       "      <th>4</th>\n",
       "      <td>박미영</td>\n",
       "      <td>2</td>\n",
       "      <td>3</td>\n",
       "    </tr>\n",
       "  </tbody>\n",
       "</table>\n",
       "</div>"
      ],
      "text/plain": [
       "  name  class  no\n",
       "0  홍길동      4   1\n",
       "1  김정은      5   3\n",
       "2  박영희      3   4\n",
       "3  이정수      4   3\n",
       "4  박미영      2   3"
      ]
     },
     "execution_count": 22,
     "metadata": {},
     "output_type": "execute_result"
    }
   ],
   "source": [
    "import pandas as pd\n",
    "\n",
    "#dataset=pd.read_csv(\"student.txt\",delimiter=\" \")\n",
    "#dataset=pd.read_csv(\"student.txt\",delimiter=\" \",header=None)\n",
    "dataset=pd.read_csv(\"student.txt\",delimiter=\" \",names=['name','class','no'])\n",
    "dataset.head()"
   ]
  },
  {
   "cell_type": "code",
   "execution_count": 49,
   "metadata": {},
   "outputs": [
    {
     "data": {
      "text/plain": [
       "0     홍길동\n",
       "1     김정은\n",
       "2     박영희\n",
       "3     이정수\n",
       "4     박미영\n",
       "5     장영철\n",
       "6     임정훈\n",
       "7     조형식\n",
       "8     조윤희\n",
       "9     이윤경\n",
       "10    김종현\n",
       "11    박현희\n",
       "12    정은호\n",
       "13    박윤경\n",
       "14    강선우\n",
       "15    오세형\n",
       "16    박현우\n",
       "17    정재영\n",
       "18    주영은\n",
       "19    이은지\n",
       "20    이미영\n",
       "21    김영준\n",
       "22    박세진\n",
       "23    정준우\n",
       "24    백경준\n",
       "25    김준영\n",
       "26    김영은\n",
       "27    조영민\n",
       "28    장영진\n",
       "29    정소영\n",
       "30    이미경\n",
       "31    박영빈\n",
       "32    이정훈\n",
       "33    조희수\n",
       "34    이지연\n",
       "Name: name, dtype: object"
      ]
     },
     "execution_count": 49,
     "metadata": {},
     "output_type": "execute_result"
    }
   ],
   "source": [
    "dataset.iloc[:,0]"
   ]
  },
  {
   "cell_type": "code",
   "execution_count": 51,
   "metadata": {},
   "outputs": [],
   "source": [
    "import pandas as pd \n",
    "\n",
    "class Student:\n",
    "    ''' no = 학생번호\n",
    "        name = 학생이름 '''\n",
    "    no = None\n",
    "    name= None\n",
    "    \n",
    "    def __init__(self, no=None, name=None):\n",
    "        if no is not None:\n",
    "            self.no = no\n",
    "        if name is not None:    \n",
    "            self.name = name\n",
    "    \n",
    "    def SortByNo(self, data=None):\n",
    "        if data is None:\n",
    "            print('Input is Nothing!')\n",
    "        \n",
    "        self.no = data.iloc[:,2]\n",
    "        self.name = data.iloc[:,0]\n",
    "        \n",
    "     \n",
    "    \n",
    "        \n",
    "        \n",
    "    def __str__(self):\n",
    "        return '번호: {}, 이름: {}'.format(self.no,self.name)\n",
    "    \n",
    "    def __lt__(self, other):\n",
    "        return len(self) < len(other)\n",
    "\n"
   ]
  },
  {
   "cell_type": "code",
   "execution_count": 52,
   "metadata": {},
   "outputs": [
    {
     "data": {
      "text/plain": [
       "0     홍길동\n",
       "1     김정은\n",
       "2     박영희\n",
       "3     이정수\n",
       "4     박미영\n",
       "5     장영철\n",
       "6     임정훈\n",
       "7     조형식\n",
       "8     조윤희\n",
       "9     이윤경\n",
       "10    김종현\n",
       "11    박현희\n",
       "12    정은호\n",
       "13    박윤경\n",
       "14    강선우\n",
       "15    오세형\n",
       "16    박현우\n",
       "17    정재영\n",
       "18    주영은\n",
       "19    이은지\n",
       "20    이미영\n",
       "21    김영준\n",
       "22    박세진\n",
       "23    정준우\n",
       "24    백경준\n",
       "25    김준영\n",
       "26    김영은\n",
       "27    조영민\n",
       "28    장영진\n",
       "29    정소영\n",
       "30    이미경\n",
       "31    박영빈\n",
       "32    이정훈\n",
       "33    조희수\n",
       "34    이지연\n",
       "Name: name, dtype: object"
      ]
     },
     "execution_count": 52,
     "metadata": {},
     "output_type": "execute_result"
    }
   ],
   "source": [
    "first = Student(dataset.iloc[:,2],dataset.iloc[:,0])\n",
    "first.name"
   ]
  },
  {
   "cell_type": "code",
   "execution_count": 26,
   "metadata": {},
   "outputs": [
    {
     "name": "stdout",
     "output_type": "stream",
     "text": [
      "번호: None, 이름: None\n"
     ]
    }
   ],
   "source": [
    "\n",
    "    def fit(self,X_train=None):\n",
    "        if X_train is None:\n",
    "            print('Input is nothing!')\n",
    "            return\n",
    "        if self.k is None:\n",
    "            self.k = X_train.shape[1]\n",
    "            \n",
    "        #############################################\n",
    "        # TO DO                                     #\n",
    "        # 인풋 데이터의 공분산행렬을 이용해                 #\n",
    "        # components와 explain_values 완성           # \n",
    "        #############################################\n",
    "        cov_mat = np.cov(X_train.T)\n",
    "        eigen_values = lin.eig(cov_mat)[0]\n",
    "        eigen_vectors = lin.eig(cov_mat)[1].T\n",
    "        \n",
    "        self.explain_values  = eigen_values[:self.k]  # k,\n",
    "        self.components = eigen_vectors[:self.k,:]    # k,n\n",
    "        \n",
    "        \n",
    "        #############################################\n",
    "        # END CODE                                  #\n",
    "        #############################################\n",
    "        \n",
    "        return self.explain_values, self.components\n",
    "    \n",
    "    def transform(self,X=None):\n",
    "        if X is None:\n",
    "            print('Input is nothing!')\n",
    "            return\n",
    "        \n",
    "        result = None\n",
    "        '''\n",
    "        N : X의 행 수\n",
    "        result의 shape : (N, k)\n",
    "        '''\n",
    "        #############################################\n",
    "        # TO DO                                     #\n",
    "        # components를 이용해 변환결과인                 #\n",
    "        # result 계산                               #\n",
    "        #############################################\n",
    "        result = self.components.dot(X.T).T\n",
    "     \n",
    "        \n",
    "        #############################################\n",
    "        # END CODE                                  #\n",
    "        #############################################       \n",
    "        return result\n",
    "    \n",
    "    def fit_transform(self,X=None):\n",
    "        if X is None:\n",
    "            print('Input is nothing!')\n",
    "            return\n",
    "        self.fit(X)\n",
    "        return self.transform(X)"
   ]
  },
  {
   "cell_type": "code",
   "execution_count": 24,
   "metadata": {},
   "outputs": [],
   "source": [
    "def hit_cheek(self, num_of_hitting, name):\n",
    "        Ing_Ba = self.Ing_Ba\n",
    "        Gyu_Ba = self.Gyu_Ba\n",
    "        \n",
    "        if name == 'Ing':\n",
    "            print(\"{} 대만 맞자, 알겠지?.. 아 아니다 {}대 맞자\".\n",
    "                 format(num_of_hitting,num_of_hitting*Ing_Ba))\n",
    "            \n",
    "        if name == 'Gyu':\n",
    "            print(\"{} 대만 맞자, 알겠지?.. 아 아니다 {}대 맞자\".\n",
    "                 format(num_of_hitting,num_of_hitting*Gyu_Ba))"
   ]
  },
  {
   "cell_type": "code",
   "execution_count": null,
   "metadata": {},
   "outputs": [],
   "source": []
  }
 ],
 "metadata": {
  "kernelspec": {
   "display_name": "Python [conda env:anaconda3]",
   "language": "python",
   "name": "conda-env-anaconda3-py"
  },
  "language_info": {
   "codemirror_mode": {
    "name": "ipython",
    "version": 3
   },
   "file_extension": ".py",
   "mimetype": "text/x-python",
   "name": "python",
   "nbconvert_exporter": "python",
   "pygments_lexer": "ipython3",
   "version": "3.6.4"
  }
 },
 "nbformat": 4,
 "nbformat_minor": 2
}
