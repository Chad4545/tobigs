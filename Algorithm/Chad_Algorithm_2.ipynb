{
 "cells": [
  {
   "cell_type": "markdown",
   "metadata": {},
   "source": [
    "## 1. 영문 대소문자로 이루어진 문자열을 입력하였을 때, 문자열 내에 몇 개의 단어가 있는지 구하는 알고리즘\n",
    "## (중복된 단어는 제외)\n",
    "\n",
    " - input : Loving can heal, loving can mend your soul\n",
    " \n",
    " - output : 6\n",
    " \n",
    " - loving, can 이 중복되었다."
   ]
  },
  {
   "cell_type": "code",
   "execution_count": 1,
   "metadata": {},
   "outputs": [],
   "source": [
    "import re"
   ]
  },
  {
   "cell_type": "code",
   "execution_count": 2,
   "metadata": {},
   "outputs": [],
   "source": [
    "def count_word(sentence):\n",
    "    \n",
    "    sentence = sentence.lower()\n",
    "    sentence = re.sub('[^A-Za-z]+',' ',sentence)\n",
    "    \n",
    "    check=[]\n",
    "    for word in sentence.split():\n",
    "\n",
    "        if word not in check:\n",
    "            check.append(word)\n",
    "\n",
    "        else:\n",
    "            pass\n",
    "    return check, len(check)\n"
   ]
  },
  {
   "cell_type": "code",
   "execution_count": 3,
   "metadata": {},
   "outputs": [
    {
     "data": {
      "text/plain": [
       "(['loving', 'can', 'heal', 'mend', 'your', 'soul'], 6)"
      ]
     },
     "execution_count": 3,
     "metadata": {},
     "output_type": "execute_result"
    }
   ],
   "source": [
    "count_word('Loving can heal, loving can mend your soul')"
   ]
  },
  {
   "cell_type": "code",
   "execution_count": null,
   "metadata": {},
   "outputs": [],
   "source": []
  },
  {
   "cell_type": "code",
   "execution_count": null,
   "metadata": {},
   "outputs": [],
   "source": []
  },
  {
   "cell_type": "code",
   "execution_count": null,
   "metadata": {},
   "outputs": [],
   "source": []
  },
  {
   "cell_type": "code",
   "execution_count": null,
   "metadata": {},
   "outputs": [],
   "source": []
  },
  {
   "cell_type": "code",
   "execution_count": null,
   "metadata": {},
   "outputs": [],
   "source": []
  },
  {
   "cell_type": "code",
   "execution_count": null,
   "metadata": {},
   "outputs": [],
   "source": []
  },
  {
   "cell_type": "code",
   "execution_count": null,
   "metadata": {},
   "outputs": [],
   "source": []
  },
  {
   "cell_type": "code",
   "execution_count": null,
   "metadata": {},
   "outputs": [],
   "source": []
  },
  {
   "cell_type": "code",
   "execution_count": null,
   "metadata": {},
   "outputs": [],
   "source": []
  },
  {
   "cell_type": "code",
   "execution_count": null,
   "metadata": {},
   "outputs": [],
   "source": []
  },
  {
   "cell_type": "markdown",
   "metadata": {},
   "source": [
    "## 2. ACKDKWLFKFKSLSSSKKDKDKD 와 같은 영어 대문자로 이루어진 문자열을 입력하였을때\n",
    "## BCA 등의 문자열이 몇 번 등장하였는가?\n",
    "\n",
    "- INPUT : ABCABCDABCABEABCDEFBCABCCA, BCA\n",
    "- OUTPUT : 3"
   ]
  },
  {
   "cell_type": "code",
   "execution_count": 4,
   "metadata": {},
   "outputs": [],
   "source": [
    "def find_pattern(sentence,pattern):\n",
    "    sentence = re.sub(pattern,' * ',sentence)\n",
    "    print(sentence)\n",
    "    count = 0\n",
    "    for word in sentence.split():\n",
    "        \n",
    "        if word == '*':\n",
    "            count +=1\n",
    "        else:\n",
    "            pass\n",
    "    return count"
   ]
  },
  {
   "cell_type": "code",
   "execution_count": 5,
   "metadata": {},
   "outputs": [
    {
     "name": "stdout",
     "output_type": "stream",
     "text": [
      "A * BCDA * BEABCDEF * BCCA\n"
     ]
    },
    {
     "data": {
      "text/plain": [
       "3"
      ]
     },
     "execution_count": 5,
     "metadata": {},
     "output_type": "execute_result"
    }
   ],
   "source": [
    "find_pattern('ABCABCDABCABEABCDEFBCABCCA','BCA')"
   ]
  },
  {
   "cell_type": "code",
   "execution_count": null,
   "metadata": {},
   "outputs": [],
   "source": []
  },
  {
   "cell_type": "code",
   "execution_count": null,
   "metadata": {},
   "outputs": [],
   "source": []
  },
  {
   "cell_type": "code",
   "execution_count": null,
   "metadata": {},
   "outputs": [],
   "source": []
  },
  {
   "cell_type": "code",
   "execution_count": null,
   "metadata": {},
   "outputs": [],
   "source": []
  },
  {
   "cell_type": "code",
   "execution_count": null,
   "metadata": {},
   "outputs": [],
   "source": []
  },
  {
   "cell_type": "code",
   "execution_count": null,
   "metadata": {},
   "outputs": [],
   "source": []
  },
  {
   "cell_type": "code",
   "execution_count": null,
   "metadata": {},
   "outputs": [],
   "source": []
  },
  {
   "cell_type": "code",
   "execution_count": null,
   "metadata": {},
   "outputs": [],
   "source": []
  },
  {
   "cell_type": "code",
   "execution_count": null,
   "metadata": {},
   "outputs": [],
   "source": []
  },
  {
   "cell_type": "markdown",
   "metadata": {},
   "source": [
    "## 3. uncompress 함수는 숫자와 알파벳으로 구성된 문자열을 입력받아서\n",
    "## 숫자만큼 알파벳을 반복시켜 반환하는 함수이다.\n",
    "## 이때 1~9 사이의 숫자 뒤에 알파벳이 하나 나오는데 패턴이 반복된다.\n",
    "## uncompress(s)를 작성하시오\n",
    "\n",
    "- EX) : uncompress('2a5b1c') -> aabbbbbc"
   ]
  },
  {
   "cell_type": "code",
   "execution_count": 6,
   "metadata": {},
   "outputs": [],
   "source": [
    "def uncompress(sentence):\n",
    "    number=[]\n",
    "    char=[]\n",
    "    for check in sentence:\n",
    "        if check.isdigit():\n",
    "            number.append(check)\n",
    "        else:\n",
    "            char.append(check)\n",
    "    \n",
    "    result=''\n",
    "    \n",
    "    for idx, char in enumerate(char):\n",
    "        result += char*int(number[idx])\n",
    "    \n",
    "    return result"
   ]
  },
  {
   "cell_type": "code",
   "execution_count": 7,
   "metadata": {},
   "outputs": [
    {
     "data": {
      "text/plain": [
       "'aabbbbbc'"
      ]
     },
     "execution_count": 7,
     "metadata": {},
     "output_type": "execute_result"
    }
   ],
   "source": [
    "uncompress('2a5b1c')"
   ]
  },
  {
   "cell_type": "code",
   "execution_count": null,
   "metadata": {},
   "outputs": [],
   "source": []
  },
  {
   "cell_type": "code",
   "execution_count": null,
   "metadata": {},
   "outputs": [],
   "source": []
  },
  {
   "cell_type": "code",
   "execution_count": null,
   "metadata": {},
   "outputs": [],
   "source": []
  },
  {
   "cell_type": "code",
   "execution_count": null,
   "metadata": {},
   "outputs": [],
   "source": []
  },
  {
   "cell_type": "code",
   "execution_count": null,
   "metadata": {},
   "outputs": [],
   "source": []
  },
  {
   "cell_type": "code",
   "execution_count": null,
   "metadata": {},
   "outputs": [],
   "source": []
  },
  {
   "cell_type": "code",
   "execution_count": null,
   "metadata": {},
   "outputs": [],
   "source": []
  },
  {
   "cell_type": "markdown",
   "metadata": {},
   "source": [
    "## 4. 하나의 단어를 입력받아서, 그 단어에 들어 있는 모음('a','e','i','o','u')의 개수를 각각 출력하는 알고리즘\n",
    "## 반드시 dictionary와 for문을 사용\n",
    "\n",
    "- EX) ENTER ONE WORD : temporary\n",
    "\n",
    "- output -  a : 1 , e : 1, i : 0 , o : 1 , u : 0"
   ]
  },
  {
   "cell_type": "code",
   "execution_count": 8,
   "metadata": {},
   "outputs": [],
   "source": [
    "def count_vowel(word):\n",
    "    vowel_dict = {'a':0, 'e':0, 'i':0, 'o':0, 'u':0}\n",
    "    \n",
    "    for char in word:\n",
    "        if char in vowel_dict:\n",
    "            vowel_dict[char] += 1\n",
    "            \n",
    "        else:\n",
    "            pass\n",
    "    return vowel_dict\n",
    "        "
   ]
  },
  {
   "cell_type": "code",
   "execution_count": 9,
   "metadata": {},
   "outputs": [
    {
     "data": {
      "text/plain": [
       "{'a': 1, 'e': 1, 'i': 0, 'o': 1, 'u': 0}"
      ]
     },
     "execution_count": 9,
     "metadata": {},
     "output_type": "execute_result"
    }
   ],
   "source": [
    "count_vowel('temporary')"
   ]
  },
  {
   "cell_type": "code",
   "execution_count": null,
   "metadata": {},
   "outputs": [],
   "source": []
  },
  {
   "cell_type": "code",
   "execution_count": null,
   "metadata": {},
   "outputs": [],
   "source": []
  },
  {
   "cell_type": "code",
   "execution_count": null,
   "metadata": {},
   "outputs": [],
   "source": []
  },
  {
   "cell_type": "code",
   "execution_count": null,
   "metadata": {},
   "outputs": [],
   "source": []
  },
  {
   "cell_type": "code",
   "execution_count": null,
   "metadata": {},
   "outputs": [],
   "source": []
  },
  {
   "cell_type": "code",
   "execution_count": null,
   "metadata": {},
   "outputs": [],
   "source": []
  },
  {
   "cell_type": "markdown",
   "metadata": {},
   "source": [
    "## 5. anagram은 같은 구성요소를 가진 문자열을 말한다. \n",
    "## 예를들어, 'man'문자열의 anagram은 'man', 'mna', 'amn', 'anm', 'nma', 'nam' 으로 구성된 문자열 들이다.\n",
    "\n",
    "## 하나의 문자열을 받아 그 문자열의 anagram 관계를 가지는 문자열을 출력하고  총 몇개인지도 출력하여라.\n",
    "\n",
    "- EX) INPUT : 'pen'\n",
    "\n",
    "- OUTPUT : 'pen', 'pne', 'npe', 'nep', 'epn', 'enp' / '6'"
   ]
  },
  {
   "cell_type": "code",
   "execution_count": 21,
   "metadata": {},
   "outputs": [],
   "source": [
    "from math import factorial\n",
    "import random\n",
    "def make_anagram(word):\n",
    "    char_dict ={}\n",
    "    for idx, char  in enumerate(word):\n",
    "        if char not in char_dict:\n",
    "            char_dict[char] = idx\n",
    "#    print(char_dict)\n",
    "    \n",
    "    result = []\n",
    "    count = 0\n",
    "    \n",
    "    while count < factorial(len(word)):\n",
    "\n",
    "        keys = random.sample(set(char_dict.keys()),len(char_dict))\n",
    "\n",
    "        anag_word = ''.join(keys)\n",
    "        if anag_word not in result:\n",
    "            result.append(anag_word)\n",
    "            count += 1\n",
    "            \n",
    "        \n",
    "    return(result,len(result))\n",
    "    "
   ]
  },
  {
   "cell_type": "code",
   "execution_count": 20,
   "metadata": {},
   "outputs": [
    {
     "data": {
      "text/plain": [
       "(['nkie',\n",
       "  'enik',\n",
       "  'neki',\n",
       "  'iekn',\n",
       "  'ikne',\n",
       "  'ekin',\n",
       "  'kine',\n",
       "  'inke',\n",
       "  'knei',\n",
       "  'kein',\n",
       "  'ienk',\n",
       "  'eink',\n",
       "  'nike',\n",
       "  'iken',\n",
       "  'eikn',\n",
       "  'inek',\n",
       "  'kien',\n",
       "  'enki',\n",
       "  'keni',\n",
       "  'niek',\n",
       "  'nkei',\n",
       "  'knie',\n",
       "  'ekni',\n",
       "  'neik'],\n",
       " 24)"
      ]
     },
     "execution_count": 20,
     "metadata": {},
     "output_type": "execute_result"
    }
   ],
   "source": [
    "make_anagram('nike')"
   ]
  },
  {
   "cell_type": "code",
   "execution_count": null,
   "metadata": {},
   "outputs": [],
   "source": []
  }
 ],
 "metadata": {
  "kernelspec": {
   "display_name": "Python [conda env:anaconda3]",
   "language": "python",
   "name": "conda-env-anaconda3-py"
  },
  "language_info": {
   "codemirror_mode": {
    "name": "ipython",
    "version": 3
   },
   "file_extension": ".py",
   "mimetype": "text/x-python",
   "name": "python",
   "nbconvert_exporter": "python",
   "pygments_lexer": "ipython3",
   "version": "3.6.4"
  }
 },
 "nbformat": 4,
 "nbformat_minor": 2
}
