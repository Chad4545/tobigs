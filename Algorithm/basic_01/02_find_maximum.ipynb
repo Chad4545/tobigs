{
 "cells": [
  {
   "cell_type": "markdown",
   "metadata": {},
   "source": [
    "## 최대값 찾기 - O(n)\n",
    "- input : [17, 92, 18, 33, 58, 7, 33, 42]\n",
    "\n",
    "- output : 92"
   ]
  },
  {
   "cell_type": "code",
   "execution_count": 1,
   "metadata": {},
   "outputs": [
    {
     "data": {
      "text/plain": [
       "92"
      ]
     },
     "execution_count": 1,
     "metadata": {},
     "output_type": "execute_result"
    }
   ],
   "source": [
    "def find_max(num):\n",
    "    n = len(num)\n",
    "    \n",
    "    max_v = num[0]\n",
    "    for i in range(1,n):\n",
    "        if num[i] > max_v:\n",
    "            max_v = num[i]\n",
    "    return max_v\n",
    "\n",
    "find_max([17, 92, 18, 33, 58, 7, 33, 42])"
   ]
  },
  {
   "cell_type": "markdown",
   "metadata": {},
   "source": [
    "## 최대값 찾기 응용 - O(n)\n",
    "\n",
    "- 리스트에 숫자가 n개 있을 때 가장 큰 값이 있는 위치 번호를 return\n",
    "\n",
    "- input : [17, 92, 18, 33, 58, 7, 33, 42]\n",
    "\n",
    "- output : 1 th index"
   ]
  },
  {
   "cell_type": "code",
   "execution_count": 4,
   "metadata": {},
   "outputs": [
    {
     "data": {
      "text/plain": [
       "1"
      ]
     },
     "execution_count": 4,
     "metadata": {},
     "output_type": "execute_result"
    }
   ],
   "source": [
    "def find_max_idx(num):\n",
    "    n = len(num)\n",
    "    max_idx = 0\n",
    "    \n",
    "    for i in range(1,n):\n",
    "        if num[i] > num[max_idx]:\n",
    "            max_idx = i\n",
    "    return max_idx\n",
    "\n",
    "find_max_idx([17, 92, 18, 33, 58, 7, 33, 42])\n",
    "    "
   ]
  },
  {
   "cell_type": "code",
   "execution_count": null,
   "metadata": {},
   "outputs": [],
   "source": []
  }
 ],
 "metadata": {
  "kernelspec": {
   "display_name": "Python [conda env:anaconda3]",
   "language": "python",
   "name": "conda-env-anaconda3-py"
  },
  "language_info": {
   "codemirror_mode": {
    "name": "ipython",
    "version": 3
   },
   "file_extension": ".py",
   "mimetype": "text/x-python",
   "name": "python",
   "nbconvert_exporter": "python",
   "pygments_lexer": "ipython3",
   "version": "3.6.4"
  }
 },
 "nbformat": 4,
 "nbformat_minor": 2
}
