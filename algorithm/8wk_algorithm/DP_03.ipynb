{
 "cells": [
  {
   "cell_type": "markdown",
   "metadata": {},
   "source": [
    "### 금괴찾기\n",
    "\n",
    "- 투빅이는 평면상 NxM 크기의 집에 있다. 집은 1x1 크기의 방으로 나누어져 있고, 각 방에는 금괴들이 놓여져 있다.\n",
    "\n",
    "- 집의 가장 왼쪽 윗방은 (1,1)이고, 가장 오른쪽 아랫방은 (N,M)이다.\n",
    "\n",
    "- 투빅이는 현재(1,1)에 있고, (N,M)으로 이동하려고 한다.\n",
    "\n",
    "- 투빅이가 이동할 수 있는 방향은 아래로, 오른쪽으로, 오른쪽아래대각선으로 이다.\n",
    "\n",
    "- 각 방을 방문할 때마다 방에 놓여져 있는 금괴를 모두 가져갈 수 있다.\n",
    "\n",
    "- 투빅이가 (N,M)으로 이동할 때, 가져올 수 있는 금괴 개수의 최댓값을 구하시오."
   ]
  },
  {
   "cell_type": "code",
   "execution_count": null,
   "metadata": {},
   "outputs": [],
   "source": [
    "#########################\n",
    "#     #     #     #     #\n",
    "# 시작 #     #     #     #\n",
    "#     #     #     #     #\n",
    "#########################\n",
    "#     #     #     #     #\n",
    "#     #     #     #     #\n",
    "#     #     #     #     #\n",
    "#########################\n",
    "#     #     #     #     #\n",
    "#     #     #     # 도착 # \n",
    "#     #     #     #     #\n",
    "#########################\n",
    "'''\n",
    "1. 정의 : dp[i][j] = 방(0,0)에서 방(i,j)으로 갈때 얻는 금괴의 최대갯수\n",
    "\n",
    "2. 초기화 : dp[0][0] = a[0][0]\n",
    "\n",
    "3. 점화식 : dp[i][j] = max(dp[i][j-1],dp[i-1][j]) + a[i][j]\n",
    "\n",
    "INPUT:\n",
    "입력은 첫째 줄에 집의 크기 i, j이 주어진다. 둘째\n",
    "줄부터 i개 줄에는 총 j개의 숫자가 주어지며, i번째\n",
    "줄의 j번째 수는 (i,j)에 놓여져 있는 금괴의 개수이다.\n",
    "\n",
    "'''\n"
   ]
  },
  {
   "cell_type": "code",
   "execution_count": 1,
   "metadata": {},
   "outputs": [
    {
     "name": "stdout",
     "output_type": "stream",
     "text": [
      "집의 크기를 입력하시오: 3 4\n",
      "방에 들어있는 금괴의 수를 입력하시오(1층 4개의 방) 1 1 1 1\n",
      "방에 들어있는 금괴의 수를 입력하시오(2층 4개의 방) 3 2 1 4\n",
      "방에 들어있는 금괴의 수를 입력하시오(3층 4개의 방) 3 4 9 2\n"
     ]
    },
    {
     "data": {
      "text/plain": [
       "22"
      ]
     },
     "execution_count": 1,
     "metadata": {},
     "output_type": "execute_result"
    }
   ],
   "source": [
    "def gold_bar():\n",
    "    shape = input('집의 크기를 입력하시오: ')\n",
    "    shape = shape.split(' ')\n",
    "    gold_bars = [[] for i in range(int(shape[0]))] \n",
    "    for i in range(len((gold_bars))):\n",
    "        gold_bar =input('방에 들어있는 금괴의 수를 입력하시오({}층 {}개의 방) '.format(i+1,shape[1]))\n",
    "        gold_bars[i] = [int(x) for x in gold_bar.split(' ')]\n",
    "\n",
    "\n",
    "    dp = gold_bars.copy()\n",
    "    \n",
    "    for i in range(int(shape[0])):\n",
    "        for j in range(int(shape[1])):\n",
    "            #print(int(shape[0])-1,int(shape[1])-1)\n",
    "            #print(i,j)\n",
    "            # 시작점은 제외\n",
    "            if  i > 0 or j > 0 :\n",
    "                \n",
    "                if i == 0:   # 아직 첫층이면 오른쪽으로 이동한 history만 있음 \n",
    "                    dp[i][j] += dp[i][j-1]\n",
    "                    #print('오른쪽')\n",
    "                \n",
    "                elif j == 0: # 아직 첫번째 방이면 아래로 이동한 history만 있음 \n",
    "                    dp[i][j] += dp[i-1][j]\n",
    "                    #print('아래')\n",
    "                    \n",
    "                    \n",
    "                else:\n",
    "                    dp[i][j] += max(dp[i-1][j],dp[i][j-1]) \n",
    "            #print(dp)\n",
    "    return(dp[-1][-1])\n",
    "        \n",
    "gold_bar()\n"
   ]
  },
  {
   "cell_type": "code",
   "execution_count": null,
   "metadata": {},
   "outputs": [],
   "source": []
  }
 ],
 "metadata": {
  "kernelspec": {
   "display_name": "Python [conda env:anaconda3]",
   "language": "python",
   "name": "conda-env-anaconda3-py"
  },
  "language_info": {
   "codemirror_mode": {
    "name": "ipython",
    "version": 3
   },
   "file_extension": ".py",
   "mimetype": "text/x-python",
   "name": "python",
   "nbconvert_exporter": "python",
   "pygments_lexer": "ipython3",
   "version": "3.6.4"
  }
 },
 "nbformat": 4,
 "nbformat_minor": 2
}
