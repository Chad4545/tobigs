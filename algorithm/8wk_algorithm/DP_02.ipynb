{
 "cells": [
  {
   "cell_type": "markdown",
   "metadata": {},
   "source": [
    "### 숫자삼각형\n"
   ]
  },
  {
   "cell_type": "code",
   "execution_count": 1,
   "metadata": {},
   "outputs": [],
   "source": [
    "###################################    맨 위의 숫자에서 한번에 한칸씩 아래로\n",
    "#               7                 #    내려가 맨 아래 줄 까지 닿는 경로 중\n",
    "#            /     \\              #    숫자의 합이 최대인 경로의 숫자들의\n",
    "#           3      8              #    합을 구하시오.\n",
    "#        /    \\    /  \\           #\n",
    "#       8        1      0         #\n",
    "#     /   \\   /    \\   /  \\       #\n",
    "#    2      7       4      4      #\n",
    "#  /   \\  /   \\   /   \\   /  \\    #\n",
    "# 4     5       2       6     5   #\n",
    "###################################\n",
    "\n",
    "'''\n",
    "1. 정의 : dp[i][j] = (0,0)에서 (i,j) 합이 최대인 경로의합\n",
    "\n",
    "2. 초기화 : dp[0][0] = a[0][0]\n",
    "\n",
    "3. 점화식 : dp[i][j] = max(dp[i-1][j-1],dp[i-1][j]) + a[i][j]\n",
    "'''"
   ]
  },
  {
   "cell_type": "code",
   "execution_count": 110,
   "metadata": {},
   "outputs": [
    {
     "data": {
      "text/plain": [
       "30"
      ]
     },
     "execution_count": 110,
     "metadata": {},
     "output_type": "execute_result"
    }
   ],
   "source": [
    "def num_pyramid(list):\n",
    "    #input을 copy\n",
    "    dp = list.copy()\n",
    "    \n",
    "    for i in range(len(list)):\n",
    "        for j in range(len(list[i])):\n",
    "            \n",
    "            # 1행은 pass\n",
    "            if i > 0 :\n",
    "                \n",
    "                if j == 0:\n",
    "                    dp[i][j] += dp[i-1][j]\n",
    "                elif j == i:\n",
    "                    dp[i][j] += dp[i-1][j-1]\n",
    "                else:\n",
    "                    dp[i][j] += max(dp[i-1][j-1],dp[i-1][j])\n",
    "    return max(dp[-1])\n",
    "\n",
    "tri = [[7],[3,8],[8,1,0],[2,7,4,4],[4,5,2,6,5]]\n",
    "num_pyramid(tri)    "
   ]
  }
 ],
 "metadata": {
  "kernelspec": {
   "display_name": "Python [conda env:anaconda3]",
   "language": "python",
   "name": "conda-env-anaconda3-py"
  },
  "language_info": {
   "codemirror_mode": {
    "name": "ipython",
    "version": 3
   },
   "file_extension": ".py",
   "mimetype": "text/x-python",
   "name": "python",
   "nbconvert_exporter": "python",
   "pygments_lexer": "ipython3",
   "version": "3.6.4"
  }
 },
 "nbformat": 4,
 "nbformat_minor": 2
}
