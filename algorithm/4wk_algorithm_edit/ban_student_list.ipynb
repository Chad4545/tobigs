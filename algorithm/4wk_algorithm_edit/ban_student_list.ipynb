{
 "cells": [
  {
   "cell_type": "markdown",
   "metadata": {},
   "source": [
    "- student.txt 파일의 한 줄에는 학생 한 명의 이름, 반, 학생번호가 저장되어 있다. \n",
    "\n",
    "- Student class와 Ban class을 구현하고 파일을 한 줄씩 읽어들이면서 Student instance와 Ban instance를 생성한 뒤 \n",
    "\n",
    "- 반별, 번호순으로 오름차순 정렬된 ‘이중 리스트‘ 형태의 자료 구조를 완성하고 완성한 자료구조에서 결과를 출력하는 프로그램을 작성한다. \n",
    "\n",
    "- class는 각 각의 python file에서 따로 작성하고 다른 python file에서 이들을 import해서 최종결과를 확인한다. \n",
    "\n",
    "- class 작성시 __str__, __lt__, __eq__에 대해 알아보고 pass부분을 완성하여 결과를 도출한다"
   ]
  },
  {
   "cell_type": "code",
   "execution_count": 1,
   "metadata": {},
   "outputs": [
    {
     "data": {
      "text/html": [
       "<div>\n",
       "<style scoped>\n",
       "    .dataframe tbody tr th:only-of-type {\n",
       "        vertical-align: middle;\n",
       "    }\n",
       "\n",
       "    .dataframe tbody tr th {\n",
       "        vertical-align: top;\n",
       "    }\n",
       "\n",
       "    .dataframe thead th {\n",
       "        text-align: right;\n",
       "    }\n",
       "</style>\n",
       "<table border=\"1\" class=\"dataframe\">\n",
       "  <thead>\n",
       "    <tr style=\"text-align: right;\">\n",
       "      <th></th>\n",
       "      <th>name</th>\n",
       "      <th>class</th>\n",
       "      <th>no</th>\n",
       "    </tr>\n",
       "  </thead>\n",
       "  <tbody>\n",
       "    <tr>\n",
       "      <th>0</th>\n",
       "      <td>홍길동</td>\n",
       "      <td>4</td>\n",
       "      <td>1</td>\n",
       "    </tr>\n",
       "    <tr>\n",
       "      <th>1</th>\n",
       "      <td>김정은</td>\n",
       "      <td>5</td>\n",
       "      <td>3</td>\n",
       "    </tr>\n",
       "    <tr>\n",
       "      <th>2</th>\n",
       "      <td>박영희</td>\n",
       "      <td>3</td>\n",
       "      <td>4</td>\n",
       "    </tr>\n",
       "    <tr>\n",
       "      <th>3</th>\n",
       "      <td>이정수</td>\n",
       "      <td>4</td>\n",
       "      <td>3</td>\n",
       "    </tr>\n",
       "    <tr>\n",
       "      <th>4</th>\n",
       "      <td>박미영</td>\n",
       "      <td>2</td>\n",
       "      <td>3</td>\n",
       "    </tr>\n",
       "  </tbody>\n",
       "</table>\n",
       "</div>"
      ],
      "text/plain": [
       "  name  class  no\n",
       "0  홍길동      4   1\n",
       "1  김정은      5   3\n",
       "2  박영희      3   4\n",
       "3  이정수      4   3\n",
       "4  박미영      2   3"
      ]
     },
     "execution_count": 1,
     "metadata": {},
     "output_type": "execute_result"
    }
   ],
   "source": [
    "import pandas as pd\n",
    "dataset=pd.read_csv(\"student.txt\",delimiter=\" \",names=['name','class','no'])\n",
    "dataset.head()"
   ]
  },
  {
   "cell_type": "code",
   "execution_count": 2,
   "metadata": {},
   "outputs": [],
   "source": [
    "from Ban import Ban\n",
    "from student import Student"
   ]
  },
  {
   "cell_type": "code",
   "execution_count": 15,
   "metadata": {},
   "outputs": [],
   "source": [
    "Ban_list=[]\n",
    "\n",
    "with open(\"student.txt\", \"r\") as ins:\n",
    "    for line in ins:\n",
    "        line = line.split()\n",
    "        name = line[0]  # 이름\n",
    "        #print(name)\n",
    "        \n",
    "        c_no = line[1]   # 반\n",
    "        #print(c_no)\n",
    "        \n",
    "        s_no = line[2]    # 번호\n",
    "        #print(s_no)\n",
    "        \n",
    "        class_no = Ban(c_no) # Ban 객체\n",
    "        #print(class_no)\n",
    "        \n",
    "        student_no = Student(s_no,name) # Student 객체\n",
    "    \n",
    "        # 이걸로 1~5반이 담긴 Ban_list 생성\n",
    "        if class_no not in Ban_list:\n",
    "            Ban_list.append(class_no)\n",
    "            #print(Ban_list[0].no)\n",
    "        \n",
    "        # 반리스트를 돌면서\n",
    "        for ban in Ban_list:\n",
    "            # 지금 input의 반과  반리스트 안의 원소인 ban객체의 no과 같다면\n",
    "            if c_no == ban.no:\n",
    "                \n",
    "                # 반리스트 안의 원소인 ban객체의 student_list에\n",
    "                # 지금 input으로 만든 student 객체를 넣어라\n",
    "                ban.student_list.append(student_no)\n",
    "            \n",
    "        "
   ]
  },
  {
   "cell_type": "code",
   "execution_count": null,
   "metadata": {},
   "outputs": [],
   "source": []
  },
  {
   "cell_type": "code",
   "execution_count": 16,
   "metadata": {},
   "outputs": [
    {
     "name": "stdout",
     "output_type": "stream",
     "text": [
      "---\n",
      "<4반>  3명\n",
      "---\n",
      "0 1번  홍길동\n",
      "1 3번  이정수\n",
      "2 2번  백경준\n",
      "---\n",
      "<5반>  7명\n",
      "---\n",
      "0 3번  김정은\n",
      "1 4번  장영철\n",
      "2 7번  조윤희\n",
      "3 1번  박윤경\n",
      "4 2번  이은지\n",
      "5 5번  김영준\n",
      "6 6번  장영진\n",
      "---\n",
      "<3반>  7명\n",
      "---\n",
      "0 4번  박영희\n",
      "1 1번  박현희\n",
      "2 2번  정은호\n",
      "3 7번  정재영\n",
      "4 6번  주영은\n",
      "5 3번  이미경\n",
      "6 5번  조희수\n",
      "---\n",
      "<2반>  9명\n",
      "---\n",
      "0 3번  박미영\n",
      "1 9번  조형식\n",
      "2 6번  김종현\n",
      "3 1번  박현우\n",
      "4 2번  정준우\n",
      "5 7번  김준영\n",
      "6 5번  조영민\n",
      "7 8번  박영빈\n",
      "8 4번  이지연\n",
      "---\n",
      "<1반>  9명\n",
      "---\n",
      "0 4번  임정훈\n",
      "1 3번  이윤경\n",
      "2 9번  강선우\n",
      "3 5번  오세형\n",
      "4 7번  이미영\n",
      "5 1번  박세진\n",
      "6 8번  김영은\n",
      "7 6번  정소영\n",
      "8 2번  이정훈\n"
     ]
    }
   ],
   "source": [
    "Ban_list.sort()\n",
    "\n",
    "for i ,v in enumerate(Ban_list):\n",
    "    print('---')\n",
    "    print(v)\n",
    "    v.student_list\n",
    "    #print(i,v)\n",
    "    #print(v.student_list)\n",
    "\n",
    "    print('---')\n",
    "    for j, v in enumerate(v.student_list):\n",
    "\n",
    "        print(j,v)"
   ]
  },
  {
   "cell_type": "code",
   "execution_count": 19,
   "metadata": {},
   "outputs": [
    {
     "name": "stdout",
     "output_type": "stream",
     "text": [
      "<1반>  9명\n",
      "<2반>  9명\n",
      "<3반>  7명\n",
      "<4반>  3명\n",
      "<5반>  7명\n"
     ]
    }
   ],
   "source": [
    "Ban_list.sort()\n",
    "for i in Ban_list:\n",
    "    print(i)"
   ]
  },
  {
   "cell_type": "code",
   "execution_count": 5,
   "metadata": {},
   "outputs": [
    {
     "name": "stdout",
     "output_type": "stream",
     "text": [
      "<1반>  9명\n",
      "4번  임정훈\n",
      "3번  이윤경\n",
      "9번  강선우\n",
      "5번  오세형\n",
      "7번  이미영\n",
      "1번  박세진\n",
      "8번  김영은\n",
      "6번  정소영\n",
      "2번  이정훈\n",
      "<2반>  9명\n",
      "3번  박미영\n",
      "9번  조형식\n",
      "6번  김종현\n",
      "1번  박현우\n",
      "2번  정준우\n",
      "7번  김준영\n",
      "5번  조영민\n",
      "8번  박영빈\n",
      "4번  이지연\n",
      "<3반>  7명\n",
      "4번  박영희\n",
      "1번  박현희\n",
      "2번  정은호\n",
      "7번  정재영\n",
      "6번  주영은\n",
      "3번  이미경\n",
      "5번  조희수\n",
      "<4반>  3명\n",
      "1번  홍길동\n",
      "3번  이정수\n",
      "2번  백경준\n",
      "<5반>  7명\n",
      "3번  김정은\n",
      "4번  장영철\n",
      "7번  조윤희\n",
      "1번  박윤경\n",
      "2번  이은지\n",
      "5번  김영준\n",
      "6번  장영진\n"
     ]
    }
   ],
   "source": [
    "for i in Ban_list:\n",
    "    print(i)\n",
    "    for j in i.student_list:\n",
    "        print(j)\n",
    "        "
   ]
  },
  {
   "cell_type": "code",
   "execution_count": null,
   "metadata": {},
   "outputs": [],
   "source": []
  }
 ],
 "metadata": {
  "kernelspec": {
   "display_name": "Python [conda env:anaconda3]",
   "language": "python",
   "name": "conda-env-anaconda3-py"
  },
  "language_info": {
   "codemirror_mode": {
    "name": "ipython",
    "version": 3
   },
   "file_extension": ".py",
   "mimetype": "text/x-python",
   "name": "python",
   "nbconvert_exporter": "python",
   "pygments_lexer": "ipython3",
   "version": "3.6.4"
  }
 },
 "nbformat": 4,
 "nbformat_minor": 2
}
