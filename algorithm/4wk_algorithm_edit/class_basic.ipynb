{
 "cells": [
  {
   "cell_type": "markdown",
   "metadata": {},
   "source": [
    "### 기초"
   ]
  },
  {
   "cell_type": "code",
   "execution_count": 2,
   "metadata": {},
   "outputs": [],
   "source": [
    "'''\n",
    "Class 선언하기\n",
    "'''\n",
    "\n",
    "class Bias:\n",
    "    def __init__(self):\n",
    "        self.Ing_Ba= 100\n",
    "        self.Gyu_Ba= 95\n",
    "        \n",
    "    def hit_cheek(self, num_of_hitting, name):\n",
    "        Ing_Ba = self.Ing_Ba\n",
    "        Gyu_Ba = self.Gyu_Ba\n",
    "        \n",
    "        if name == 'Ing':\n",
    "            print(\"{} 대만 맞자, 알겠지?.. 아 아니다 {}대 맞자\".\n",
    "                 format(num_of_hitting,num_of_hitting*Ing_Ba))\n",
    "            \n",
    "        if name == 'Gyu':\n",
    "            print(\"{} 대만 맞자, 알겠지?.. 아 아니다 {}대 맞자\".\n",
    "                 format(num_of_hitting,num_of_hitting*Gyu_Ba))"
   ]
  },
  {
   "cell_type": "code",
   "execution_count": 8,
   "metadata": {},
   "outputs": [
    {
     "name": "stdout",
     "output_type": "stream",
     "text": [
      "5 대만 맞자, 알겠지?.. 아 아니다 500대 맞자\n",
      "3 대만 맞자, 알겠지?.. 아 아니다 285대 맞자\n",
      "100\n",
      "95\n"
     ]
    }
   ],
   "source": [
    "'''객체 생성'''\n",
    "hit_ck = Bias()\n",
    "\n",
    "'''메서드 적용'''\n",
    "hit_ck.hit_cheek(5,'Ing')\n",
    "hit_ck.hit_cheek(3,'Gyu')\n",
    "\n",
    "'''객체의 속성(Attribute'''\n",
    "print(hit_ck.Ing_Ba)\n",
    "print(hit_ck.Gyu_Ba)"
   ]
  },
  {
   "cell_type": "code",
   "execution_count": null,
   "metadata": {},
   "outputs": [],
   "source": [
    "# class 안에서\n",
    "# 매개변수 3개\n",
    "# def hit_cheek(self, num_of_hitting, name)\n",
    "\n",
    "hit_ck = Bias()\n",
    "\n",
    "### 매개변수 2개\n",
    "hit_ck.hit_cheek(5,'Ing')\n",
    "\n",
    "'''\n",
    "Python Method의 첫 매개변수 명은 관례적으로 자기 자신을 의미하는 self를 사용\n",
    "호출 시 호출한 객체 자신이 전달됨\n",
    "첫 번째 매개변수 self를 명시적으로 구현하는 것은 Python의 독특한 특징임\n",
    "\n",
    "'''"
   ]
  },
  {
   "cell_type": "markdown",
   "metadata": {},
   "source": [
    "### 상속 - Inheritance\n",
    "\n",
    "- 방금 만든 class를 또 활용할 수는 없을까?\n",
    "\n",
    "- 기존 Class 에서 일부를 추가하거나 변경하여 새로운 Class를 생성함\n",
    "\n",
    "- 코드를 재사용(reuse)하는 방법임"
   ]
  },
  {
   "cell_type": "code",
   "execution_count": 9,
   "metadata": {},
   "outputs": [],
   "source": [
    "'''   자식Class선언   Bias 클래스 상속'''\n",
    "class SpecialBias(Bias):\n",
    "    def hit_cheek(self, num_of_hitting, name):\n",
    "        Ing_Ba = self.Ing_Ba\n",
    "        Gyu_Ba = self.Gyu_Ba\n",
    "        YJ_Ba = 10000\n",
    "        \n",
    "        if name == 'YJ':\n",
    "            print(\"{} 대만 맞자, 알겠지?.. 아 아니다 {}대 맞자\".\n",
    "                 format(num_of_hitting,num_of_hitting*YJ_Ba))\n",
    "            \n",
    "        else:\n",
    "            print(' 아 누구 없나')"
   ]
  },
  {
   "cell_type": "code",
   "execution_count": 10,
   "metadata": {},
   "outputs": [],
   "source": [
    "sb = SpecialBias()"
   ]
  },
  {
   "cell_type": "code",
   "execution_count": 11,
   "metadata": {},
   "outputs": [
    {
     "name": "stdout",
     "output_type": "stream",
     "text": [
      "4 대만 맞자, 알겠지?.. 아 아니다 40000대 맞자\n"
     ]
    }
   ],
   "source": [
    "sb.hit_cheek(4,'YJ')"
   ]
  },
  {
   "cell_type": "markdown",
   "metadata": {},
   "source": [
    "### Super: 자식 Class에서 부모 Class의 Method 호출\n",
    "\n",
    "- 자식 Class에서 __init__ Method를 새로 정의하면 부모 Class의 __init__ Method를 대체함\n",
    "\n",
    "- 따라서 부모 Class의 Method를 호출하기 위해서는 명시적으로 호출해야함 (super를)"
   ]
  },
  {
   "cell_type": "code",
   "execution_count": 21,
   "metadata": {},
   "outputs": [],
   "source": [
    "class SpecialBias(Bias):\n",
    "    def __init__(self):\n",
    "        self.power = '풀스윙'\n",
    "        \n",
    "    def ask_strength(self):\n",
    "        power = self.power\n",
    "        print(\"{}으로 간다 ㅋ\".format(power))"
   ]
  },
  {
   "cell_type": "code",
   "execution_count": 22,
   "metadata": {},
   "outputs": [
    {
     "name": "stdout",
     "output_type": "stream",
     "text": [
      "풀스윙으로 간다 ㅋ\n"
     ]
    },
    {
     "ename": "AttributeError",
     "evalue": "'SpecialBias' object has no attribute 'Ing_Ba'",
     "output_type": "error",
     "traceback": [
      "\u001b[0;31m---------------------------------------------------------------------------\u001b[0m",
      "\u001b[0;31mAttributeError\u001b[0m                            Traceback (most recent call last)",
      "\u001b[0;32m<ipython-input-22-409b53c443c3>\u001b[0m in \u001b[0;36m<module>\u001b[0;34m()\u001b[0m\n\u001b[1;32m      1\u001b[0m \u001b[0msb\u001b[0m \u001b[0;34m=\u001b[0m\u001b[0mSpecialBias\u001b[0m\u001b[0;34m(\u001b[0m\u001b[0;34m)\u001b[0m\u001b[0;34m\u001b[0m\u001b[0m\n\u001b[1;32m      2\u001b[0m \u001b[0msb\u001b[0m\u001b[0;34m.\u001b[0m\u001b[0mask_strength\u001b[0m\u001b[0;34m(\u001b[0m\u001b[0;34m)\u001b[0m\u001b[0;34m\u001b[0m\u001b[0m\n\u001b[0;32m----> 3\u001b[0;31m \u001b[0msb\u001b[0m\u001b[0;34m.\u001b[0m\u001b[0mIng_Ba\u001b[0m\u001b[0;34m\u001b[0m\u001b[0m\n\u001b[0m",
      "\u001b[0;31mAttributeError\u001b[0m: 'SpecialBias' object has no attribute 'Ing_Ba'"
     ]
    }
   ],
   "source": [
    "sb =SpecialBias()\n",
    "sb.ask_strength()\n",
    "sb.Ing_Ba"
   ]
  },
  {
   "cell_type": "code",
   "execution_count": 23,
   "metadata": {},
   "outputs": [],
   "source": [
    "class SpecialBias(Bias):\n",
    "    def __init__(self):\n",
    "        super().__init__()\n",
    "        self.power = '풀스윙'\n",
    "        \n",
    "    def ask_strength(self):\n",
    "        power = self.power\n",
    "        print(\"{}으로 간다 ㅋ\".format(power))"
   ]
  },
  {
   "cell_type": "code",
   "execution_count": 24,
   "metadata": {},
   "outputs": [
    {
     "name": "stdout",
     "output_type": "stream",
     "text": [
      "풀스윙으로 간다 ㅋ\n"
     ]
    },
    {
     "data": {
      "text/plain": [
       "100"
      ]
     },
     "execution_count": 24,
     "metadata": {},
     "output_type": "execute_result"
    }
   ],
   "source": [
    "sb =SpecialBias()\n",
    "sb.ask_strength()\n",
    "sb.Ing_Ba"
   ]
  },
  {
   "cell_type": "code",
   "execution_count": null,
   "metadata": {},
   "outputs": [],
   "source": []
  }
 ],
 "metadata": {
  "kernelspec": {
   "display_name": "Python [conda env:anaconda3]",
   "language": "python",
   "name": "conda-env-anaconda3-py"
  },
  "language_info": {
   "codemirror_mode": {
    "name": "ipython",
    "version": 3
   },
   "file_extension": ".py",
   "mimetype": "text/x-python",
   "name": "python",
   "nbconvert_exporter": "python",
   "pygments_lexer": "ipython3",
   "version": "3.6.4"
  }
 },
 "nbformat": 4,
 "nbformat_minor": 2
}
