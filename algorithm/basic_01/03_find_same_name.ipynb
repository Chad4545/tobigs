{
 "cells": [
  {
   "cell_type": "markdown",
   "metadata": {},
   "source": [
    "## 동명이인 찾기 -   O(n^2) \n",
    "\n",
    "- input : ['Tom', 'Jerry', 'Mike', 'Tom']\n",
    "\n",
    "- output: ['Tom']\n",
    "\n",
    "- input : ['Tom', 'Jerry', 'Mike', 'Tom', 'Mike']\n",
    "\n",
    "- output: ['Tom',' Mike']"
   ]
  },
  {
   "cell_type": "code",
   "execution_count": 1,
   "metadata": {},
   "outputs": [
    {
     "data": {
      "text/plain": [
       "{'Tom'}"
      ]
     },
     "execution_count": 1,
     "metadata": {},
     "output_type": "execute_result"
    }
   ],
   "source": [
    "def find_same_name(name):\n",
    "    n = len(name)\n",
    "    result = set()\n",
    "    for i in range(0, n-1):\n",
    "        for j in range(i+1, n):\n",
    "            if name[i] == name[j]:\n",
    "                result.add(name[i])\n",
    "    return result\n",
    "\n",
    "find_same_name(['Tom', 'Jerry', 'Mike', 'Tom'])\n",
    "                "
   ]
  },
  {
   "cell_type": "code",
   "execution_count": 2,
   "metadata": {},
   "outputs": [
    {
     "data": {
      "text/plain": [
       "{'Mike', 'Tom'}"
      ]
     },
     "execution_count": 2,
     "metadata": {},
     "output_type": "execute_result"
    }
   ],
   "source": [
    "find_same_name(['Tom', 'Jerry', 'Mike', 'Tom','Mike'])"
   ]
  },
  {
   "cell_type": "code",
   "execution_count": null,
   "metadata": {},
   "outputs": [],
   "source": []
  }
 ],
 "metadata": {
  "kernelspec": {
   "display_name": "Python [conda env:anaconda3]",
   "language": "python",
   "name": "conda-env-anaconda3-py"
  },
  "language_info": {
   "codemirror_mode": {
    "name": "ipython",
    "version": 3
   },
   "file_extension": ".py",
   "mimetype": "text/x-python",
   "name": "python",
   "nbconvert_exporter": "python",
   "pygments_lexer": "ipython3",
   "version": "3.6.4"
  }
 },
 "nbformat": 4,
 "nbformat_minor": 2
}
