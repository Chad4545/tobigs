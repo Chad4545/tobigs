{
 "cells": [
  {
   "cell_type": "markdown",
   "metadata": {},
   "source": [
    "## 01. 1부터 n까지 연속한 숫자의 제곱의 합을 구하는 프로그램을  for 반복문으로 만들어 보세요."
   ]
  },
  {
   "cell_type": "code",
   "execution_count": 1,
   "metadata": {},
   "outputs": [
    {
     "data": {
      "text/plain": [
       "385"
      ]
     },
     "execution_count": 1,
     "metadata": {},
     "output_type": "execute_result"
    }
   ],
   "source": [
    "def sum_square(num):\n",
    "    \n",
    "    result = 0\n",
    "    for i in range(1,num+1):\n",
    "        result += i*i\n",
    "    return result\n",
    "\n",
    "sum_square(10)\n",
    "        \n"
   ]
  },
  {
   "cell_type": "markdown",
   "metadata": {},
   "source": [
    "## 02. 숫자 n개를 리스트로 입력받아 최솟값을 구하는프로그램을 만들어 보세요"
   ]
  },
  {
   "cell_type": "code",
   "execution_count": 2,
   "metadata": {},
   "outputs": [
    {
     "data": {
      "text/plain": [
       "1"
      ]
     },
     "execution_count": 2,
     "metadata": {},
     "output_type": "execute_result"
    }
   ],
   "source": [
    "def find_minimum(numbers):\n",
    "    num = len(numbers)\n",
    "    \n",
    "    min_v = numbers[0]\n",
    "    for i in range(1,num):\n",
    "        if numbers[i] < min_v:\n",
    "            min_v = numbers[i]\n",
    "    return min_v\n",
    "\n",
    "find_minimum([12,5,3,44,34,1,55])"
   ]
  },
  {
   "cell_type": "markdown",
   "metadata": {},
   "source": [
    "## 03. n명 중 두 명을 뽑아 짝을 짓는다고 할 때 짝을 지을 수 있는 모든 조합을 출력하는 알고리즘을 만들어 보세요."
   ]
  },
  {
   "cell_type": "code",
   "execution_count": 3,
   "metadata": {},
   "outputs": [
    {
     "data": {
      "text/plain": [
       "['Chad - Mike',\n",
       " 'Chad - Aiden',\n",
       " 'Chad - Minjoo',\n",
       " 'Mike - Aiden',\n",
       " 'Mike - Minjoo',\n",
       " 'Aiden - Minjoo']"
      ]
     },
     "execution_count": 3,
     "metadata": {},
     "output_type": "execute_result"
    }
   ],
   "source": [
    "def make_pair(names):\n",
    "    n = len(names)\n",
    "    result = []\n",
    "    \n",
    "    for i in range(0, n-1):\n",
    "        for j in range(i + 1, n):\n",
    "            if names[i] != names[j]:\n",
    "                result.append(names[i]+' - '+names[j])\n",
    "                \n",
    "    return result\n",
    "make_pair(['Chad','Mike','Aiden','Minjoo'])"
   ]
  },
  {
   "cell_type": "code",
   "execution_count": null,
   "metadata": {},
   "outputs": [],
   "source": []
  }
 ],
 "metadata": {
  "kernelspec": {
   "display_name": "Python [conda env:anaconda3]",
   "language": "python",
   "name": "conda-env-anaconda3-py"
  },
  "language_info": {
   "codemirror_mode": {
    "name": "ipython",
    "version": 3
   },
   "file_extension": ".py",
   "mimetype": "text/x-python",
   "name": "python",
   "nbconvert_exporter": "python",
   "pygments_lexer": "ipython3",
   "version": "3.6.4"
  }
 },
 "nbformat": 4,
 "nbformat_minor": 2
}
