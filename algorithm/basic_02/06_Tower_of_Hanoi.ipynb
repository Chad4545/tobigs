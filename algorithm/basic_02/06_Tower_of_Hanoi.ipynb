{
 "cells": [
  {
   "cell_type": "markdown",
   "metadata": {},
   "source": [
    "### 하노이의 탑\n",
    "\n",
    "- 크기가 다른 원반 n개를 출발점 기둥에서 도착점 기둥으로 전부 옮겨야 함 \n",
    "\n",
    "- 원반은 한 번에 한 개씩만 옮길 수 있음\n",
    "\n",
    "- 원반을 옮길 때는 한 기둥의 맨위 원반을 뽑아, 다른 기둥의 맨 위로만 옮길 수 있음\n",
    "\n",
    "- 원반을 옮기는 과정에서 큰 원반을 작은 원반 위로 올릴 수 없음"
   ]
  },
  {
   "cell_type": "code",
   "execution_count": 7,
   "metadata": {},
   "outputs": [],
   "source": [
    "'''\n",
    "input -\n",
    "    n: 원반갯수\n",
    "    from_pos: 옮길 원반이  현재 있는 출발점 기둥\n",
    "    to_pos: 원반을 옮길 도착점 기둥\n",
    "    aux_pos: 옮기는 과정에서 사용할 보조 기둥\n",
    "\n",
    "output -\n",
    "    원반을 옮기는 순서\n",
    "'''\n",
    "\n",
    "# Tower of Hanoi\n",
    "def hanoi(n, from_pos, to_pos, aux_pos):\n",
    "\n",
    "    #원반 한개라면 그냥 옮기면 됨 \n",
    "    if n == 1:\n",
    "        print(from_pos,'-->',to_pos)\n",
    "        return\n",
    "    \n",
    "    #원반이 하나 이상이라면\n",
    "    else:\n",
    "        #n-1개를 일단 보조 기둥으로 옮김\n",
    "        hanoi(n-1, from_pos, aux_pos, to_pos)\n",
    "            \n",
    "        #가장 밑에 있는 원반을 목적지로 이동\n",
    "        print(from_pos,'-->',to_pos)\n",
    "        \n",
    "        #aux_pos에 있는 원반 n-1개를 목적지로 이동\n",
    "        hanoi(n-1,aux_pos,to_pos,from_pos)\n",
    "    "
   ]
  },
  {
   "cell_type": "code",
   "execution_count": 8,
   "metadata": {},
   "outputs": [
    {
     "name": "stdout",
     "output_type": "stream",
     "text": [
      "n=1\n",
      "1 --> 3\n"
     ]
    }
   ],
   "source": [
    "print('n=1')\n",
    "hanoi(1,1,3,2) # 원반 1개를 1번기둥에서 3번기둥으로 (2번을 보조기둥)"
   ]
  },
  {
   "cell_type": "code",
   "execution_count": 9,
   "metadata": {},
   "outputs": [
    {
     "name": "stdout",
     "output_type": "stream",
     "text": [
      "n=2\n",
      "1 --> 2\n",
      "1 --> 3\n",
      "2 --> 3\n"
     ]
    }
   ],
   "source": [
    "print('n=2')\n",
    "hanoi(2,1,3,2) # 원반 2개를 1번기둥에서 3번기둥으로 (2번을 보조기둥)"
   ]
  },
  {
   "cell_type": "code",
   "execution_count": 10,
   "metadata": {},
   "outputs": [
    {
     "name": "stdout",
     "output_type": "stream",
     "text": [
      "n=3\n",
      "1 --> 3\n",
      "1 --> 2\n",
      "3 --> 2\n",
      "1 --> 3\n",
      "2 --> 1\n",
      "2 --> 3\n",
      "1 --> 3\n"
     ]
    }
   ],
   "source": [
    "print('n=3')\n",
    "hanoi(3,1,3,2) # 원반 3개를 1번기둥에서 3번기둥으로 (2번을 보조기둥)"
   ]
  },
  {
   "cell_type": "code",
   "execution_count": 11,
   "metadata": {},
   "outputs": [
    {
     "name": "stdout",
     "output_type": "stream",
     "text": [
      "n=4\n",
      "1 --> 2\n",
      "1 --> 3\n",
      "2 --> 3\n",
      "1 --> 2\n",
      "3 --> 1\n",
      "3 --> 2\n",
      "1 --> 2\n",
      "1 --> 3\n",
      "2 --> 3\n",
      "2 --> 1\n",
      "3 --> 1\n",
      "2 --> 3\n",
      "1 --> 2\n",
      "1 --> 3\n",
      "2 --> 3\n"
     ]
    }
   ],
   "source": [
    "print('n=4')\n",
    "hanoi(4,1,3,2) # 원반 4개를 1번기둥에서 3번기둥으로 (2번을 보조기둥)"
   ]
  },
  {
   "cell_type": "code",
   "execution_count": null,
   "metadata": {},
   "outputs": [],
   "source": []
  }
 ],
 "metadata": {
  "kernelspec": {
   "display_name": "Python [conda env:anaconda3]",
   "language": "python",
   "name": "conda-env-anaconda3-py"
  },
  "language_info": {
   "codemirror_mode": {
    "name": "ipython",
    "version": 3
   },
   "file_extension": ".py",
   "mimetype": "text/x-python",
   "name": "python",
   "nbconvert_exporter": "python",
   "pygments_lexer": "ipython3",
   "version": "3.6.4"
  }
 },
 "nbformat": 4,
 "nbformat_minor": 2
}
