{
 "cells": [
  {
   "cell_type": "markdown",
   "metadata": {},
   "source": [
    "## Intro: 전처리 과정과 분석방법 설명"
   ]
  },
  {
   "cell_type": "markdown",
   "metadata": {},
   "source": [
    "1. 총 통화 횟수를 기준으로 상위 10명의 hash값 추출  \n",
    "  \n",
    "  \n",
    "2. 10명 중 한 명이라도 참여한 통화내역을 important_call 에 저장\n",
    "    * _분석에 사용된 통화내역 : 67794건_\n",
    "    * _통화내역에 참여한 사람 : 11898명_   \n",
    "    \n",
    "    \n",
    "3. important_call 에 저장된 사람들간의 네트워크 형성 \n",
    "    * 1번 통화내역 (참여자 3, 참여자 10, 참여자 12)\n",
    "    * 2번 통화내역 (참여자 3, 참여자 10) 이 있을시 \n",
    "    * 대칭행령 co-occurance mtx.의 \n",
    "        * _3행 10열의 값은 2_ \n",
    "        * _3행 12열의 값은 1_\n",
    "        * _10행 12열의 값은 1_  \n",
    "        \n",
    "        \n",
    "        \n",
    "4. co-occurance mtx. 를 이용하여 참여자는 마디, 통화횟수는 선으로 갖는 그래프 형성 "
   ]
  },
  {
   "cell_type": "markdown",
   "metadata": {},
   "source": [
    "# Result:"
   ]
  },
  {
   "cell_type": "markdown",
   "metadata": {},
   "source": [
    "![result](result.png)"
   ]
  },
  {
   "cell_type": "markdown",
   "metadata": {},
   "source": [
    "## Legend \n",
    "(Reference: https://neo4j.com/docs/graph-algorithms/current/algorithms/community/)\n",
    "* 라벨 크기 : Degree (통화 참여 횟수)\n",
    "* 원 크기 : Hub (함께 이어진 마디의 중요도 := 중요한 사람과 얼마나 통화하는지에 대한 정보) \n",
    "* 원 색깔 : Community Detection 을 이용한 Modularity  \n"
   ]
  },
  {
   "cell_type": "markdown",
   "metadata": {},
   "source": [
    "## Keypoint"
   ]
  },
  {
   "cell_type": "markdown",
   "metadata": {},
   "source": [
    "* 네트워크 구조 단순화를 위해 함께 통화한 횟수가 10회 이상인 것에 대해서만 네트워크를 형성했습니다.  \n",
    "  \n",
    "  \n",
    "* 예상했던 것과 같이 총 통화 횟수로 정렬한 important_id 에 있었던 10명의 참여자들의 단어 크기가 두드러집니다.   \n",
    "    \n",
    "    \n",
    "* important_id 에 있었던 참여자들을 중심으로 5개의 커뮤니티가 형성 되었으며, \n",
    "    - 보라색은 418, 468\n",
    "    - 주황색은 415, 414, 416, 413\n",
    "    - 연초록색은 10\n",
    "    - 파란색은 19\n",
    "    - 진초록색은 아무도 없습니다.  \n",
    "      \n",
    "      \n",
    "      \n",
    "* 가장 작은 진한 초록 커뮤니티는 important_id 에 있었던 상위 10명과는 두루두루 통화하며 자기들끼리 강한 관계를 유지했다고 유추할 수 있습니다.   \n",
    "  \n",
    "  \n",
    "* 아울러 참여자 418번은 important_id 중 가장 큰 원 크기 (hub 값) 을 가지고 있으며, 이는 중요한 사람과 가장 많이 연결되었다는 것을 뜻합니다. 따라서 자기가 속한 커뮤니티뿐만 아니라 다른 커뮤니티의 마디와도 많이 연결되어 있을 것입니다. 아래에서 결과를 확인해 볼 수 있습니다."
   ]
  },
  {
   "cell_type": "markdown",
   "metadata": {},
   "source": [
    "<img src=\"418_ego.png\" alt=\"Drawing\" style=\"width: 400px;\"/>"
   ]
  },
  {
   "cell_type": "markdown",
   "metadata": {},
   "source": [
    "- 또한, degree (라벨 크기) 는 크지 않으면서 hub (원의 크기) 는 값이 큰 마디들 (e.g. 539번, 863번)은 중요한 참여자들과 많이 이어진 마디들임을 알 수 있습니다."
   ]
  },
  {
   "cell_type": "markdown",
   "metadata": {},
   "source": [
    "<img src=\"hub_ex.png\" alt=\"Drawing\" style=\"width: 300px;\"/>\n",
    "<img src=\"hub_ex2.png\" alt=\"Drawing\" style=\"width: 300px;\"/>"
   ]
  },
  {
   "cell_type": "markdown",
   "metadata": {},
   "source": [
    "* 이들의 통화횟수는 많지 않지만, 중요한 사람들과 많이 통화하는 것으로 보아 매개를 해주는 사람일 것으로 예상되며, \n",
    "* 이러한 매개 마디들이 보라색 또는 주황색에 유난히 많은 것으로 보아 보라색 커뮤니티와 주황색 커뮤니티는 활발히 교류가 이뤄지고 있음을 알 수 있습니다."
   ]
  },
  {
   "cell_type": "markdown",
   "metadata": {},
   "source": [
    "## Conclusion:"
   ]
  },
  {
   "cell_type": "markdown",
   "metadata": {},
   "source": [
    "- 그래프 분석을 통해 통화참여 횟수가 많은 사람들을 중점으로 커뮤니티가 형성되었음을 알 수 있었고 그 중, 교류가 활발한 커뮤니티를 파악할 수 있었습니다. \n",
    "\n",
    "  \n",
    "- 그래프 구조 단순화를 위해 통화횟수 상위 10명만 선정했고, 아울러 참여자간 통화횟수가 10회 이상이여야지 그래프를 시각화했습니다. 따라서 본 네트워크에서는 커뮤니티가 두드러지게 보였지만 실제로는 더욱 복잡한 형태의 정보가 오고갈 수 있습니다. "
   ]
  }
 ],
 "metadata": {
  "kernelspec": {
   "display_name": "Python [default]",
   "language": "python",
   "name": "python3"
  },
  "language_info": {
   "codemirror_mode": {
    "name": "ipython",
    "version": 3
   },
   "file_extension": ".py",
   "mimetype": "text/x-python",
   "name": "python",
   "nbconvert_exporter": "python",
   "pygments_lexer": "ipython3",
   "version": "3.6.4"
  }
 },
 "nbformat": 4,
 "nbformat_minor": 2
}
