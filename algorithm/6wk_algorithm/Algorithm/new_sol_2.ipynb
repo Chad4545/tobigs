{
 "cells": [
  {
   "cell_type": "code",
   "execution_count": 1,
   "metadata": {},
   "outputs": [],
   "source": [
    "import numpy as np\n",
    "import pandas as pd\n",
    "from tqdm import trange \n",
    "import time\n",
    "import os"
   ]
  },
  {
   "cell_type": "code",
   "execution_count": 2,
   "metadata": {},
   "outputs": [
    {
     "data": {
      "text/html": [
       "<div>\n",
       "<style scoped>\n",
       "    .dataframe tbody tr th:only-of-type {\n",
       "        vertical-align: middle;\n",
       "    }\n",
       "\n",
       "    .dataframe tbody tr th {\n",
       "        vertical-align: top;\n",
       "    }\n",
       "\n",
       "    .dataframe thead th {\n",
       "        text-align: right;\n",
       "    }\n",
       "</style>\n",
       "<table border=\"1\" class=\"dataframe\">\n",
       "  <thead>\n",
       "    <tr style=\"text-align: right;\">\n",
       "      <th></th>\n",
       "      <th>call_start_day</th>\n",
       "      <th>call_start_time</th>\n",
       "      <th>call_end_day</th>\n",
       "      <th>call_end_time</th>\n",
       "      <th>hashed</th>\n",
       "    </tr>\n",
       "  </thead>\n",
       "  <tbody>\n",
       "    <tr>\n",
       "      <th>0</th>\n",
       "      <td>1</td>\n",
       "      <td>09:14:58.558</td>\n",
       "      <td>1</td>\n",
       "      <td>09:41:30.200</td>\n",
       "      <td>967393e81d99ce8e577ee130b7ce8e4fd45e3e9cecb560...</td>\n",
       "    </tr>\n",
       "    <tr>\n",
       "      <th>1</th>\n",
       "      <td>17</td>\n",
       "      <td>11:05:05.176</td>\n",
       "      <td>17</td>\n",
       "      <td>13:07:42.515</td>\n",
       "      <td>02181a0c962f34f019bc9d5b582fb0ec79b1441f96aa4d...</td>\n",
       "    </tr>\n",
       "    <tr>\n",
       "      <th>2</th>\n",
       "      <td>20</td>\n",
       "      <td>02:18:43.172</td>\n",
       "      <td>20</td>\n",
       "      <td>02:28:58.177</td>\n",
       "      <td>86022904c5cf72a54978479c94041f4256d6c3c2a1f71c...</td>\n",
       "    </tr>\n",
       "    <tr>\n",
       "      <th>3</th>\n",
       "      <td>22</td>\n",
       "      <td>09:22:01.936</td>\n",
       "      <td>22</td>\n",
       "      <td>09:47:40.192</td>\n",
       "      <td>aafb40d212fe18ff4eafb82fdcf3b53f2161cb3ce59de4...</td>\n",
       "    </tr>\n",
       "    <tr>\n",
       "      <th>4</th>\n",
       "      <td>26</td>\n",
       "      <td>06:29:21.182</td>\n",
       "      <td>26</td>\n",
       "      <td>06:50:55.004</td>\n",
       "      <td>c87c2fad141edf323f3787335b54be22945a02fe052448...</td>\n",
       "    </tr>\n",
       "  </tbody>\n",
       "</table>\n",
       "</div>"
      ],
      "text/plain": [
       "   call_start_day call_start_time  call_end_day call_end_time  \\\n",
       "0               1    09:14:58.558             1  09:41:30.200   \n",
       "1              17    11:05:05.176            17  13:07:42.515   \n",
       "2              20    02:18:43.172            20  02:28:58.177   \n",
       "3              22    09:22:01.936            22  09:47:40.192   \n",
       "4              26    06:29:21.182            26  06:50:55.004   \n",
       "\n",
       "                                              hashed  \n",
       "0  967393e81d99ce8e577ee130b7ce8e4fd45e3e9cecb560...  \n",
       "1  02181a0c962f34f019bc9d5b582fb0ec79b1441f96aa4d...  \n",
       "2  86022904c5cf72a54978479c94041f4256d6c3c2a1f71c...  \n",
       "3  aafb40d212fe18ff4eafb82fdcf3b53f2161cb3ce59de4...  \n",
       "4  c87c2fad141edf323f3787335b54be22945a02fe052448...  "
      ]
     },
     "execution_count": 2,
     "metadata": {},
     "output_type": "execute_result"
    }
   ],
   "source": [
    "df = pd.read_csv('group_call_HMS.csv')\n",
    "df.head()"
   ]
  },
  {
   "cell_type": "markdown",
   "metadata": {},
   "source": [
    "### 피쳐설명\n",
    "\n",
    "- Call start day : 전화 시작 날짜\n",
    "- Call end day : 전화 끝 날짜\n",
    "\n",
    "- Call start time : 전화 시작 시간\n",
    "- Call end time : 전화 시작 시간\n",
    "\n",
    "- hashed : 그룹 전화 참여원 목록 \n",
    "\n",
    "### 로드맵\n",
    "\n",
    "- day, time 변수를 이용하여 총 통화시간 구하기\n",
    "- hashed 에 묶여있는 참여원 각각 기준으로 총 통화시간과 횟수 구하기\n",
    "- 참여원 목록을 통해 누가 누구와 통화하였는지 Communication mapping "
   ]
  },
  {
   "cell_type": "markdown",
   "metadata": {},
   "source": [
    "## Processing\n",
    "\n",
    "### 1. 총 통화시간 구하기 -> real_call_time(list)"
   ]
  },
  {
   "cell_type": "code",
   "execution_count": 5,
   "metadata": {},
   "outputs": [],
   "source": [
    "def change_to_second(x):\n",
    "    hour = int(x[:2])\n",
    "    minute = int(x[3:5])\n",
    "    second = float(x[6:])\n",
    "    return 3600*hour + 60*minute + second"
   ]
  },
  {
   "cell_type": "code",
   "execution_count": 8,
   "metadata": {},
   "outputs": [
    {
     "name": "stderr",
     "output_type": "stream",
     "text": [
      "100%|██████████| 6962341/6962341 [00:32<00:00, 212635.14it/s]\n"
     ]
    }
   ],
   "source": [
    "## 시간관련\n",
    "start_time = (i for i in df['call_start_time'])\n",
    "end_time = (i for i in df['call_end_time'])\n",
    "start_day = (i for i in df['call_start_day'])\n",
    "end_day = (i for i in df['call_end_day'])\n",
    "\n",
    "real_call_time=[]\n",
    "\n",
    "for i in trange(len(df)):\n",
    "    temp_start_time = next(start_time)\n",
    "    temp_end_time = next(end_time)\n",
    "    second_start = change_to_second(temp_start_time)\n",
    "    second_end = change_to_second(temp_end_time)\n",
    "    real_call_time.append(3600*24*(next(end_day)-next(start_day))+ second_end - second_start)\n",
    " "
   ]
  },
  {
   "cell_type": "code",
   "execution_count": 10,
   "metadata": {},
   "outputs": [
    {
     "data": {
      "text/html": [
       "<div>\n",
       "<style scoped>\n",
       "    .dataframe tbody tr th:only-of-type {\n",
       "        vertical-align: middle;\n",
       "    }\n",
       "\n",
       "    .dataframe tbody tr th {\n",
       "        vertical-align: top;\n",
       "    }\n",
       "\n",
       "    .dataframe thead th {\n",
       "        text-align: right;\n",
       "    }\n",
       "</style>\n",
       "<table border=\"1\" class=\"dataframe\">\n",
       "  <thead>\n",
       "    <tr style=\"text-align: right;\">\n",
       "      <th></th>\n",
       "      <th>hashed</th>\n",
       "      <th>call_time</th>\n",
       "    </tr>\n",
       "  </thead>\n",
       "  <tbody>\n",
       "    <tr>\n",
       "      <th>0</th>\n",
       "      <td>967393e81d99ce8e577ee130b7ce8e4fd45e3e9cecb560...</td>\n",
       "      <td>1591.642</td>\n",
       "    </tr>\n",
       "    <tr>\n",
       "      <th>1</th>\n",
       "      <td>02181a0c962f34f019bc9d5b582fb0ec79b1441f96aa4d...</td>\n",
       "      <td>7357.339</td>\n",
       "    </tr>\n",
       "    <tr>\n",
       "      <th>2</th>\n",
       "      <td>86022904c5cf72a54978479c94041f4256d6c3c2a1f71c...</td>\n",
       "      <td>615.005</td>\n",
       "    </tr>\n",
       "    <tr>\n",
       "      <th>3</th>\n",
       "      <td>aafb40d212fe18ff4eafb82fdcf3b53f2161cb3ce59de4...</td>\n",
       "      <td>1538.256</td>\n",
       "    </tr>\n",
       "    <tr>\n",
       "      <th>4</th>\n",
       "      <td>c87c2fad141edf323f3787335b54be22945a02fe052448...</td>\n",
       "      <td>1293.822</td>\n",
       "    </tr>\n",
       "  </tbody>\n",
       "</table>\n",
       "</div>"
      ],
      "text/plain": [
       "                                              hashed  call_time\n",
       "0  967393e81d99ce8e577ee130b7ce8e4fd45e3e9cecb560...   1591.642\n",
       "1  02181a0c962f34f019bc9d5b582fb0ec79b1441f96aa4d...   7357.339\n",
       "2  86022904c5cf72a54978479c94041f4256d6c3c2a1f71c...    615.005\n",
       "3  aafb40d212fe18ff4eafb82fdcf3b53f2161cb3ce59de4...   1538.256\n",
       "4  c87c2fad141edf323f3787335b54be22945a02fe052448...   1293.822"
      ]
     },
     "execution_count": 10,
     "metadata": {},
     "output_type": "execute_result"
    }
   ],
   "source": [
    "df['call_time'] = real_call_time\n",
    "del df['call_start_day']\n",
    "del df['call_end_day']\n",
    "del df['call_start_time']\n",
    "del df['call_end_time']\n",
    "df.head()"
   ]
  },
  {
   "cell_type": "markdown",
   "metadata": {},
   "source": [
    "## 2. hashed 안의 각각 hash 별로 총통화시간, 총통화횟수 구하기  -> new_data1"
   ]
  },
  {
   "cell_type": "code",
   "execution_count": 12,
   "metadata": {},
   "outputs": [
    {
     "name": "stderr",
     "output_type": "stream",
     "text": [
      "100%|██████████| 6962341/6962341 [01:22<00:00, 84499.80it/s]\n"
     ]
    }
   ],
   "source": [
    "sum_time =[{},{}]\n",
    "temp_hash = (i for i in df['hashed'])\n",
    "temp_call_time = (i for i in df['call_time'])\n",
    "\n",
    "\n",
    "# next로 주소값 불러오기 \n",
    "for i in trange(len(df)):\n",
    "    call_time = next(temp_call_time) # 첫번째 그룹의 call time\n",
    "    t_h = next(temp_hash) # 첫번째 그룹\n",
    "    split_hash = t_h.split(',') # [a,b,c,d]\n",
    "    \n",
    "    \n",
    "    temp_split_hash = (user for user in split_hash) #  제너레이터 [a,b,c,d]\n",
    "    \n",
    "    for j in range(len(split_hash)):\n",
    "        user_id = next(temp_split_hash) # 첫번째 그룹의 사람한명\n",
    "        \n",
    "        if user_id in sum_time[0].keys():\n",
    "            sum_time[0][user_id] += call_time\n",
    "            \n",
    "        else:\n",
    "            sum_time[0][user_id] = call_time\n",
    "            \n",
    "        if user_id in sum_time[1].keys():\n",
    "            sum_time[1][user_id] += 1\n",
    "            \n",
    "        else:\n",
    "            sum_time[1][user_id] = 1\n",
    "        \n",
    "            \n",
    "        "
   ]
  },
  {
   "cell_type": "code",
   "execution_count": 20,
   "metadata": {},
   "outputs": [],
   "source": [
    "new_data1 = pd.DataFrame(list(sum_time[0].items()),columns=['ID','TIME'])\n",
    "new_data2 = pd.DataFrame(list(sum_time[1].items()),columns=['ID','COUNT'])"
   ]
  },
  {
   "cell_type": "code",
   "execution_count": 21,
   "metadata": {},
   "outputs": [
    {
     "data": {
      "text/html": [
       "<div>\n",
       "<style scoped>\n",
       "    .dataframe tbody tr th:only-of-type {\n",
       "        vertical-align: middle;\n",
       "    }\n",
       "\n",
       "    .dataframe tbody tr th {\n",
       "        vertical-align: top;\n",
       "    }\n",
       "\n",
       "    .dataframe thead th {\n",
       "        text-align: right;\n",
       "    }\n",
       "</style>\n",
       "<table border=\"1\" class=\"dataframe\">\n",
       "  <thead>\n",
       "    <tr style=\"text-align: right;\">\n",
       "      <th></th>\n",
       "      <th>ID</th>\n",
       "      <th>TIME</th>\n",
       "      <th>COUNT</th>\n",
       "    </tr>\n",
       "  </thead>\n",
       "  <tbody>\n",
       "    <tr>\n",
       "      <th>0</th>\n",
       "      <td>967393e81d99ce8e577ee130b7ce8e4fd45e3e9cecb560...</td>\n",
       "      <td>354761.827</td>\n",
       "      <td>129</td>\n",
       "    </tr>\n",
       "    <tr>\n",
       "      <th>1</th>\n",
       "      <td>a0b6ecbec654b18fe36ebe6230e25a653fb12125733583...</td>\n",
       "      <td>78372.345</td>\n",
       "      <td>110</td>\n",
       "    </tr>\n",
       "    <tr>\n",
       "      <th>2</th>\n",
       "      <td>3193ab18168bcadbcb8342c06c4a35fa0d6e58d9619fe8...</td>\n",
       "      <td>448051.062</td>\n",
       "      <td>479</td>\n",
       "    </tr>\n",
       "    <tr>\n",
       "      <th>3</th>\n",
       "      <td>02181a0c962f34f019bc9d5b582fb0ec79b1441f96aa4d...</td>\n",
       "      <td>855458.296</td>\n",
       "      <td>267</td>\n",
       "    </tr>\n",
       "    <tr>\n",
       "      <th>4</th>\n",
       "      <td>769f00750d87fa59f8b6083aae62fb394e165101796fe5...</td>\n",
       "      <td>774491.333</td>\n",
       "      <td>290</td>\n",
       "    </tr>\n",
       "  </tbody>\n",
       "</table>\n",
       "</div>"
      ],
      "text/plain": [
       "                                                  ID        TIME  COUNT\n",
       "0  967393e81d99ce8e577ee130b7ce8e4fd45e3e9cecb560...  354761.827    129\n",
       "1  a0b6ecbec654b18fe36ebe6230e25a653fb12125733583...   78372.345    110\n",
       "2  3193ab18168bcadbcb8342c06c4a35fa0d6e58d9619fe8...  448051.062    479\n",
       "3  02181a0c962f34f019bc9d5b582fb0ec79b1441f96aa4d...  855458.296    267\n",
       "4  769f00750d87fa59f8b6083aae62fb394e165101796fe5...  774491.333    290"
      ]
     },
     "execution_count": 21,
     "metadata": {},
     "output_type": "execute_result"
    }
   ],
   "source": [
    "new_data1 = pd.merge(new_data1,new_data2,on='ID')\n",
    "new_data1.head()"
   ]
  },
  {
   "cell_type": "markdown",
   "metadata": {},
   "source": [
    "## 3. hash 별 통화시간, 통화건수에 대한 자료분석\n"
   ]
  },
  {
   "cell_type": "code",
   "execution_count": 23,
   "metadata": {},
   "outputs": [
    {
     "data": {
      "text/html": [
       "<div>\n",
       "<style scoped>\n",
       "    .dataframe tbody tr th:only-of-type {\n",
       "        vertical-align: middle;\n",
       "    }\n",
       "\n",
       "    .dataframe tbody tr th {\n",
       "        vertical-align: top;\n",
       "    }\n",
       "\n",
       "    .dataframe thead th {\n",
       "        text-align: right;\n",
       "    }\n",
       "</style>\n",
       "<table border=\"1\" class=\"dataframe\">\n",
       "  <thead>\n",
       "    <tr style=\"text-align: right;\">\n",
       "      <th></th>\n",
       "      <th>TIME</th>\n",
       "      <th>COUNT</th>\n",
       "    </tr>\n",
       "  </thead>\n",
       "  <tbody>\n",
       "    <tr>\n",
       "      <th>count</th>\n",
       "      <td>2.681480e+05</td>\n",
       "      <td>268148.000000</td>\n",
       "    </tr>\n",
       "    <tr>\n",
       "      <th>mean</th>\n",
       "      <td>1.986305e+05</td>\n",
       "      <td>127.855818</td>\n",
       "    </tr>\n",
       "    <tr>\n",
       "      <th>std</th>\n",
       "      <td>4.243052e+05</td>\n",
       "      <td>257.100419</td>\n",
       "    </tr>\n",
       "    <tr>\n",
       "      <th>min</th>\n",
       "      <td>0.000000e+00</td>\n",
       "      <td>1.000000</td>\n",
       "    </tr>\n",
       "    <tr>\n",
       "      <th>25%</th>\n",
       "      <td>2.132517e+03</td>\n",
       "      <td>3.000000</td>\n",
       "    </tr>\n",
       "    <tr>\n",
       "      <th>50%</th>\n",
       "      <td>2.607863e+04</td>\n",
       "      <td>24.000000</td>\n",
       "    </tr>\n",
       "    <tr>\n",
       "      <th>75%</th>\n",
       "      <td>2.077883e+05</td>\n",
       "      <td>143.000000</td>\n",
       "    </tr>\n",
       "    <tr>\n",
       "      <th>max</th>\n",
       "      <td>5.138354e+07</td>\n",
       "      <td>31498.000000</td>\n",
       "    </tr>\n",
       "  </tbody>\n",
       "</table>\n",
       "</div>"
      ],
      "text/plain": [
       "               TIME          COUNT\n",
       "count  2.681480e+05  268148.000000\n",
       "mean   1.986305e+05     127.855818\n",
       "std    4.243052e+05     257.100419\n",
       "min    0.000000e+00       1.000000\n",
       "25%    2.132517e+03       3.000000\n",
       "50%    2.607863e+04      24.000000\n",
       "75%    2.077883e+05     143.000000\n",
       "max    5.138354e+07   31498.000000"
      ]
     },
     "metadata": {},
     "output_type": "display_data"
    }
   ],
   "source": [
    "display(new_data1.describe())"
   ]
  },
  {
   "cell_type": "code",
   "execution_count": 25,
   "metadata": {},
   "outputs": [
    {
     "name": "stdout",
     "output_type": "stream",
     "text": [
      "<class 'pandas.core.frame.DataFrame'>\n",
      "Int64Index: 268148 entries, 0 to 268147\n",
      "Data columns (total 3 columns):\n",
      "ID       268148 non-null object\n",
      "TIME     268148 non-null float64\n",
      "COUNT    268148 non-null int64\n",
      "dtypes: float64(1), int64(1), object(1)\n",
      "memory usage: 8.2+ MB\n"
     ]
    }
   ],
   "source": [
    "new_data1.info()"
   ]
  },
  {
   "cell_type": "code",
   "execution_count": 31,
   "metadata": {},
   "outputs": [
    {
     "data": {
      "image/png": "[encoded data removed]",
      "text/plain": [
       "<matplotlib.figure.Figure at 0x194e859e8>"
      ]
     },
     "metadata": {},
     "output_type": "display_data"
    }
   ],
   "source": [
    "import matplotlib.pyplot as plt\n",
    "import seaborn as sns\n",
    "%matplotlib inline\n",
    "\n",
    "fig, ax = plt.subplots(1, 1, figsize=(8, 8))\n",
    "g = sns.distplot(new_data1['TIME'], color='b', label='Skewness : {:.2f}'.format(new_data1['TIME'].skew()), ax=ax)\n",
    "g = g.legend(loc='best')"
   ]
  },
  {
   "cell_type": "code",
   "execution_count": 32,
   "metadata": {},
   "outputs": [
    {
     "data": {
      "image/png": "[encoded data removed]",
      "text/plain": [
       "<matplotlib.figure.Figure at 0x194f109b0>"
      ]
     },
     "metadata": {},
     "output_type": "display_data"
    }
   ],
   "source": [
    "%matplotlib inline\n",
    "\n",
    "fig, ax = plt.subplots(1, 1, figsize=(8, 8))\n",
    "g = sns.distplot(new_data1['COUNT'], color='b', label='Skewness : {:.2f}'.format(new_data1['COUNT'].skew()), ax=ax)\n",
    "g = g.legend(loc='best')"
   ]
  },
  {
   "cell_type": "code",
   "execution_count": 50,
   "metadata": {},
   "outputs": [
    {
     "data": {
      "text/plain": [
       "64841"
      ]
     },
     "execution_count": 50,
     "metadata": {},
     "output_type": "execute_result"
    }
   ],
   "source": [
    "## \n",
    "at_least_Two_call = new_data1['COUNT']<3\n",
    "at_least_Two_call.sum()\n",
    "\n",
    "#268148-203307 = 64841 <- 이 인원이 전화건수가 3건 미만 "
   ]
  },
  {
   "cell_type": "markdown",
   "metadata": {},
   "source": [
    "### 매우 Skewed 되어 있다. \n",
    "\n",
    "### 여기서 유용한 정보는 '핵인싸' 찾기로 정하자 -> COUNT 기준 상위 20명 "
   ]
  },
  {
   "cell_type": "code",
   "execution_count": 51,
   "metadata": {},
   "outputs": [
    {
     "data": {
      "text/html": [
       "<div>\n",
       "<style scoped>\n",
       "    .dataframe tbody tr th:only-of-type {\n",
       "        vertical-align: middle;\n",
       "    }\n",
       "\n",
       "    .dataframe tbody tr th {\n",
       "        vertical-align: top;\n",
       "    }\n",
       "\n",
       "    .dataframe thead th {\n",
       "        text-align: right;\n",
       "    }\n",
       "</style>\n",
       "<table border=\"1\" class=\"dataframe\">\n",
       "  <thead>\n",
       "    <tr style=\"text-align: right;\">\n",
       "      <th></th>\n",
       "      <th>ID</th>\n",
       "      <th>TIME</th>\n",
       "      <th>COUNT</th>\n",
       "    </tr>\n",
       "  </thead>\n",
       "  <tbody>\n",
       "    <tr>\n",
       "      <th>113147</th>\n",
       "      <td>a183c2b789eb249afbb85c17f7b45886ab5e9a36bc3792...</td>\n",
       "      <td>5.138354e+07</td>\n",
       "      <td>31498</td>\n",
       "    </tr>\n",
       "    <tr>\n",
       "      <th>113148</th>\n",
       "      <td>9d6c5c34e7443b4ca86d47c05bee7116fb032e89a1c178...</td>\n",
       "      <td>4.759796e+07</td>\n",
       "      <td>29335</td>\n",
       "    </tr>\n",
       "    <tr>\n",
       "      <th>113146</th>\n",
       "      <td>e7c75ecc843536c63aa2e11cd2c3b58eac270428ab53d5...</td>\n",
       "      <td>4.784716e+07</td>\n",
       "      <td>28971</td>\n",
       "    </tr>\n",
       "    <tr>\n",
       "      <th>113180</th>\n",
       "      <td>8dafd5d19cfcd044348a6a7ec91745a1293bde2fedda59...</td>\n",
       "      <td>4.475763e+07</td>\n",
       "      <td>28808</td>\n",
       "    </tr>\n",
       "    <tr>\n",
       "      <th>113178</th>\n",
       "      <td>3e48bcfcf37498565ec7639fe71feb05b7db71583f6141...</td>\n",
       "      <td>3.990107e+07</td>\n",
       "      <td>26119</td>\n",
       "    </tr>\n",
       "  </tbody>\n",
       "</table>\n",
       "</div>"
      ],
      "text/plain": [
       "                                                       ID          TIME  COUNT\n",
       "113147  a183c2b789eb249afbb85c17f7b45886ab5e9a36bc3792...  5.138354e+07  31498\n",
       "113148  9d6c5c34e7443b4ca86d47c05bee7116fb032e89a1c178...  4.759796e+07  29335\n",
       "113146  e7c75ecc843536c63aa2e11cd2c3b58eac270428ab53d5...  4.784716e+07  28971\n",
       "113180  8dafd5d19cfcd044348a6a7ec91745a1293bde2fedda59...  4.475763e+07  28808\n",
       "113178  3e48bcfcf37498565ec7639fe71feb05b7db71583f6141...  3.990107e+07  26119"
      ]
     },
     "execution_count": 51,
     "metadata": {},
     "output_type": "execute_result"
    }
   ],
   "source": [
    "new_data1.sort_values(by=['COUNT'],inplace=True,ascending=False)\n",
    "new_data1.head() "
   ]
  },
  {
   "cell_type": "code",
   "execution_count": 53,
   "metadata": {},
   "outputs": [],
   "source": [
    "insider = new_data1.iloc[:50]"
   ]
  },
  {
   "cell_type": "code",
   "execution_count": null,
   "metadata": {},
   "outputs": [],
   "source": []
  }
 ],
 "metadata": {
  "kernelspec": {
   "display_name": "Python [conda env:anaconda3]",
   "language": "python",
   "name": "conda-env-anaconda3-py"
  },
  "language_info": {
   "codemirror_mode": {
    "name": "ipython",
    "version": 3
   },
   "file_extension": ".py",
   "mimetype": "text/x-python",
   "name": "python",
   "nbconvert_exporter": "python",
   "pygments_lexer": "ipython3",
   "version": "3.6.4"
  }
 },
 "nbformat": 4,
 "nbformat_minor": 2
}
