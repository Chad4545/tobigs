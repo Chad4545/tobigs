{
 "cells": [
  {
   "cell_type": "code",
   "execution_count": 1,
   "metadata": {},
   "outputs": [],
   "source": [
    "import numpy as np\n",
    "import pandas as pd\n",
    "from tqdm import trange \n",
    "import time\n",
    "import os\n",
    "directory = %pwd\n",
    "#if not 'Algorithm' in directory:\n",
    "#    os.chdir('./11th_act/0227/Algorithm')"
   ]
  },
  {
   "cell_type": "code",
   "execution_count": 3,
   "metadata": {},
   "outputs": [
    {
     "data": {
      "text/html": [
       "<div>\n",
       "<style scoped>\n",
       "    .dataframe tbody tr th:only-of-type {\n",
       "        vertical-align: middle;\n",
       "    }\n",
       "\n",
       "    .dataframe tbody tr th {\n",
       "        vertical-align: top;\n",
       "    }\n",
       "\n",
       "    .dataframe thead th {\n",
       "        text-align: right;\n",
       "    }\n",
       "</style>\n",
       "<table border=\"1\" class=\"dataframe\">\n",
       "  <thead>\n",
       "    <tr style=\"text-align: right;\">\n",
       "      <th></th>\n",
       "      <th>call_start_day</th>\n",
       "      <th>call_start_time</th>\n",
       "      <th>call_end_day</th>\n",
       "      <th>call_end_time</th>\n",
       "      <th>hashed</th>\n",
       "    </tr>\n",
       "  </thead>\n",
       "  <tbody>\n",
       "    <tr>\n",
       "      <th>0</th>\n",
       "      <td>1</td>\n",
       "      <td>09:14:58.558</td>\n",
       "      <td>1</td>\n",
       "      <td>09:41:30.200</td>\n",
       "      <td>967393e81d99ce8e577ee130b7ce8e4fd45e3e9cecb560...</td>\n",
       "    </tr>\n",
       "    <tr>\n",
       "      <th>1</th>\n",
       "      <td>17</td>\n",
       "      <td>11:05:05.176</td>\n",
       "      <td>17</td>\n",
       "      <td>13:07:42.515</td>\n",
       "      <td>02181a0c962f34f019bc9d5b582fb0ec79b1441f96aa4d...</td>\n",
       "    </tr>\n",
       "    <tr>\n",
       "      <th>2</th>\n",
       "      <td>20</td>\n",
       "      <td>02:18:43.172</td>\n",
       "      <td>20</td>\n",
       "      <td>02:28:58.177</td>\n",
       "      <td>86022904c5cf72a54978479c94041f4256d6c3c2a1f71c...</td>\n",
       "    </tr>\n",
       "    <tr>\n",
       "      <th>3</th>\n",
       "      <td>22</td>\n",
       "      <td>09:22:01.936</td>\n",
       "      <td>22</td>\n",
       "      <td>09:47:40.192</td>\n",
       "      <td>aafb40d212fe18ff4eafb82fdcf3b53f2161cb3ce59de4...</td>\n",
       "    </tr>\n",
       "    <tr>\n",
       "      <th>4</th>\n",
       "      <td>26</td>\n",
       "      <td>06:29:21.182</td>\n",
       "      <td>26</td>\n",
       "      <td>06:50:55.004</td>\n",
       "      <td>c87c2fad141edf323f3787335b54be22945a02fe052448...</td>\n",
       "    </tr>\n",
       "  </tbody>\n",
       "</table>\n",
       "</div>"
      ],
      "text/plain": [
       "   call_start_day call_start_time  call_end_day call_end_time  \\\n",
       "0               1    09:14:58.558             1  09:41:30.200   \n",
       "1              17    11:05:05.176            17  13:07:42.515   \n",
       "2              20    02:18:43.172            20  02:28:58.177   \n",
       "3              22    09:22:01.936            22  09:47:40.192   \n",
       "4              26    06:29:21.182            26  06:50:55.004   \n",
       "\n",
       "                                              hashed  \n",
       "0  967393e81d99ce8e577ee130b7ce8e4fd45e3e9cecb560...  \n",
       "1  02181a0c962f34f019bc9d5b582fb0ec79b1441f96aa4d...  \n",
       "2  86022904c5cf72a54978479c94041f4256d6c3c2a1f71c...  \n",
       "3  aafb40d212fe18ff4eafb82fdcf3b53f2161cb3ce59de4...  \n",
       "4  c87c2fad141edf323f3787335b54be22945a02fe052448...  "
      ]
     },
     "execution_count": 3,
     "metadata": {},
     "output_type": "execute_result"
    }
   ],
   "source": [
    "df = pd.read_csv('group_call_HMS.csv')\n",
    "df.head()"
   ]
  },
  {
   "cell_type": "code",
   "execution_count": 14,
   "metadata": {},
   "outputs": [
    {
     "data": {
      "text/plain": [
       "'967393e81d99ce8e577ee130b7ce8e4fd45e3e9cecb560de427ede6ea49e024f,a0b6ecbec654b18fe36ebe6230e25a653fb12125733583d012741572134447f4,3193ab18168bcadbcb8342c06c4a35fa0d6e58d9619fe805fb811fc4e6562fef'"
      ]
     },
     "execution_count": 14,
     "metadata": {},
     "output_type": "execute_result"
    }
   ],
   "source": [
    "df['hashed'][0]"
   ]
  },
  {
   "cell_type": "code",
   "execution_count": 15,
   "metadata": {},
   "outputs": [
    {
     "data": {
      "text/plain": [
       "0          [967393e81d99ce8e577ee130b7ce8e4fd45e3e9cecb56...\n",
       "1          [02181a0c962f34f019bc9d5b582fb0ec79b1441f96aa4...\n",
       "2          [86022904c5cf72a54978479c94041f4256d6c3c2a1f71...\n",
       "3          [aafb40d212fe18ff4eafb82fdcf3b53f2161cb3ce59de...\n",
       "4          [c87c2fad141edf323f3787335b54be22945a02fe05244...\n",
       "5          [f31a5e8feee0aedfa66378cc35f1663623634563f2d97...\n",
       "6          [52f4a6a555803e8b239e8b69288d4787d39dd40c2a126...\n",
       "7          [d4843247de5b8a0f34d04b418b55bbde84fe7d31dc219...\n",
       "8          [e2e030d3c933fde97b5484aad91969aa5479540f5b27b...\n",
       "9          [f16d8b891f4d1d52f4c298d20c4a4fb4e63fd9d024629...\n",
       "10         [10f7603d9151d0a2a6349fe779736c94785156bcd72f3...\n",
       "11         [611a097b8ab11182303c9dc9994299e277b5d0f873956...\n",
       "12         [2f6dcf4ba9707f246447061b55f8c1bdeaaaf90006b89...\n",
       "13         [ba8565e53b33a081d75fc936a12df7045a0195084e768...\n",
       "14         [78e35f388c15cebc177f61518e4ad2fc876606210ed73...\n",
       "15         [48e9ff0ae36615868b8c10a5d5c340149bb09999060d8...\n",
       "16         [c9032b570ebf1ba66c7deaa0feffd46566f377f63ca79...\n",
       "17         [439aeb5dd2096f6793e82469d9713024fb9b5dab37989...\n",
       "18         [f9e032d3b057b4875fd2e57a2ece03a700f5db9c19182...\n",
       "19         [f21e55ad921a24aabd52bdf935ec51bc60946584fd635...\n",
       "20         [ab7dcf76671817aac3fc6be3c2bf333eb0703ef1c0d02...\n",
       "21         [1e250c277b2fc989d804debc6d35da3a80dc3325c1b54...\n",
       "22         [3b6eb0ac4f55c1c389c72a7873316515afa77c58a49a3...\n",
       "23         [a51a94edae58e1780ce6f5bfcd2145b60fa13eec25a7f...\n",
       "24         [7feccf2c7027f8ae86939f0faca3a87891d5bc50fab5a...\n",
       "25         [8c0770705055309db97f14c73b1c59139b490ed48bcd1...\n",
       "26         [ecb1e5a1cad6f8db0bf718ff81642d2fb8080bd05e612...\n",
       "27         [a37d234fa65bc9b92aef1035dc80d4543729aa1c9ff88...\n",
       "28         [f4dbfe88168c18f49b9b488398ee5bc1a482a5eac71d1...\n",
       "29         [3007ca5294ae9e693b7a0a0c565e6b17c04a10b475d94...\n",
       "                                 ...                        \n",
       "6962311    [32779c0db47043bec0d16ff376a34acf1604b5bc121b8...\n",
       "6962312    [286fbcee7d1c9c7cf6ad8b03892c1277baaf1b663f3f3...\n",
       "6962313    [0a4efa2775543695a8071663c080e590b5650400c40fc...\n",
       "6962314    [eb58b5d8c28b19b6bf35489aec4cd0283213a88a06903...\n",
       "6962315    [62c6ca9dee30721b762e931563acb20bb4a99613d0229...\n",
       "6962316    [df590b910c9bbba2879ba10d5d9d5bd28aa0eec00a90d...\n",
       "6962317    [22f366abbfd312cfa4062c661a85079ec925fd6f96977...\n",
       "6962318    [b11fc0798a83de35c6c62d4cd661880e6a833d199e18b...\n",
       "6962319    [3b456e423e44c67e1a2d9c5a15738b2b963e3da037bfb...\n",
       "6962320    [4d370c0853a614858efa9b93eb032aa9e2daf42fbe58b...\n",
       "6962321    [7a9f5ee034ee7aea9540c67e46a9df316fdac0f07d45d...\n",
       "6962322    [99e31d50347f81a18de176f00f6a21ea9cdfab8938609...\n",
       "6962323    [c6f1fdabcdb93db537395011ca60c410ea72b466d5339...\n",
       "6962324    [2c0d64ced4c446904a690732cb9c360ff3241b74a343a...\n",
       "6962325    [7f5d46884b7436bd4e179eec32f81d765830146fc47e3...\n",
       "6962326    [8a126a151dbe248260e69ddb03671b42ba3d475555014...\n",
       "6962327    [472079ea941f16247d539983931682e6dd3b059923f09...\n",
       "6962328    [3e48bcfcf37498565ec7639fe71feb05b7db71583f614...\n",
       "6962329    [bb8e63d2d3ee44f87e59985d3b76cc1693cf57c8f2bbd...\n",
       "6962330    [4567a9d62ff62da41fdb2ecd6dbd39a941a6245649ede...\n",
       "6962331    [37d8c7e0212f1af017330a1ac452ed1eee5ee8e7fd035...\n",
       "6962332    [603ee11e78413e478b4c6a59362f06f1e918e4207bab2...\n",
       "6962333    [0b050fb529044f342c674d6e728dff00c42ded893363f...\n",
       "6962334    [a284744f3707f84daf525d5040191fda9a46db4c368fe...\n",
       "6962335    [4b33f0b6969e591bb19d7ea939af5e45e08c6799ef18e...\n",
       "6962336    [a4b6aea6cb58e43911e7cb7d6c0497197db7c4ed16e1c...\n",
       "6962337    [4ec597c569b92bd0e1bae4e2a06e13b9657fb81795e19...\n",
       "6962338    [8092e194a750aae539862ed4405f67a6dd5b492e7e57e...\n",
       "6962339    [7176c1516207692857535c30a4650b8e8e586af1fed0f...\n",
       "6962340    [11fc85879e5ac9d5c83bfba10d73c4c84c154b9f4d9e1...\n",
       "Name: hashed, Length: 6962341, dtype: object"
      ]
     },
     "execution_count": 15,
     "metadata": {},
     "output_type": "execute_result"
    }
   ],
   "source": [
    "df['hashed'].apply(lambda x : x.split(','))"
   ]
  },
  {
   "cell_type": "code",
   "execution_count": 4,
   "metadata": {},
   "outputs": [],
   "source": [
    "def gen(a):\n",
    "    n=0\n",
    "    while n <= a:\n",
    "        yield n\n",
    "        n += 1"
   ]
  },
  {
   "cell_type": "code",
   "execution_count": 5,
   "metadata": {},
   "outputs": [
    {
     "data": {
      "text/plain": [
       "<generator object gen at 0x10db21678>"
      ]
     },
     "execution_count": 5,
     "metadata": {},
     "output_type": "execute_result"
    }
   ],
   "source": [
    "gen(5)"
   ]
  },
  {
   "cell_type": "code",
   "execution_count": 6,
   "metadata": {},
   "outputs": [],
   "source": [
    "temp = gen(5)"
   ]
  },
  {
   "cell_type": "code",
   "execution_count": 12,
   "metadata": {},
   "outputs": [
    {
     "data": {
      "text/plain": [
       "5"
      ]
     },
     "execution_count": 12,
     "metadata": {},
     "output_type": "execute_result"
    }
   ],
   "source": [
    "next(temp)"
   ]
  },
  {
   "cell_type": "code",
   "execution_count": 13,
   "metadata": {},
   "outputs": [
    {
     "name": "stdout",
     "output_type": "stream",
     "text": [
      "0\n",
      "1\n",
      "2\n",
      "3\n",
      "4\n",
      "5\n"
     ]
    }
   ],
   "source": [
    "for i in gen(5):\n",
    "    print(i)\n",
    "    time.sleep(0.01)"
   ]
  },
  {
   "cell_type": "code",
   "execution_count": 17,
   "metadata": {},
   "outputs": [
    {
     "name": "stdout",
     "output_type": "stream",
     "text": [
      "<generator object <genexpr> at 0x10db21728>\n"
     ]
    }
   ],
   "source": [
    "# List Comprehension 과 유사한 방식으로 쓸 수 있으며, Generator Expression 이라고 부른다.\n",
    "temp_hash = (i for i in df['hashed'])\n",
    "print(temp_hash)"
   ]
  },
  {
   "cell_type": "code",
   "execution_count": 19,
   "metadata": {},
   "outputs": [
    {
     "name": "stdout",
     "output_type": "stream",
     "text": [
      "10f7603d9151d0a2a6349fe779736c94785156bcd72f3bdc15e7ff672bdbbd8a,6fa7647390460b1a6359efcd0b4efde30ccb0b205080ad83b692bd0d6b8a082f,c52e5cab3668ee2536403c3cc6bea8cd9367c0f9e4a3a05cb317c663eea31b9b,f66e9dc81e0b243949a5613fe84033b8d4536d6c333d52b0c2578bccd0de68f4,1614d2cebe0b67e4268d2f90303890ac6c90e7b224c0e3a186389d7f264be484,d9853fee2e764aadd89b9b9f24fd7b46fc63858df3356e34bbdb86435ffe261e \n",
      "\n",
      "611a097b8ab11182303c9dc9994299e277b5d0f8739563c55b8dc41307ae607d,674b4c17d64daa5166a60072784e9b15e9482785eb8179fd7799cd3576f519fb \n",
      "\n",
      "2f6dcf4ba9707f246447061b55f8c1bdeaaaf90006b8994d25d975f6cb5dd820,c1bcb5f16cf1ee5b9eef59955599932c9bf73a19c8e35d1714992c9c8ec76ebd,8312431ca2a618e3851cdef5c7539c575016331bb173b278c9e75249db90e09c,74573d2935f643b01113700449aeff0d9fdce850b231f9f1d83bc5df826c79de,0b0929274415a152cb24644e6cafbf4c39a0fb8aa93d21e0943993bcf643b053,96d855777e3dcc24b82e5bb79b8f95782574a8b5f85eb6e25482ab76a3e6fa5c \n",
      "\n",
      "ba8565e53b33a081d75fc936a12df7045a0195084e7689b810759b0c866b89bb,899f5aa92f94159c16cc572ff95687bd60292a36dbbd0989bedfb6f71d1e5b8b,3321a155331d8b73e19b8c9ab1768ce1235ba862e659e6359204165def8fd756,f4b3ec0f711c770c65bafb40684a61566c0c0a95b6fb4d383f9478b776d57949,7d12108a8e59f78382647d889b898e1c4326a4ea4ad0faf1f4704b5e8dbb7416,b861efb711bace930f0f326c8d3aa173df2606a4cec1ce3eff02c3c6933e62f4,a5e2883537500e1eafe789916a256c3d6e436f6ca0d1a6ab430ff15573c01097,b7b5af288d6109456faf4ac8b2ace1f9c36ceb06995315c72a3e4ddb0b3cc9d1,5c2b8f8b0f50c75e0035458fa9bedc5f1564a4195de287384c26238c60ca328f,ef9e7b2f02113d48e0c4b556aff540edba60e90f8d35a1b6d75bdf5c12009438,0938b9bc0f5fc6c56a66056a4ddcc92538681d71d0e9ea28ac3da05277f6ac2a,c8b91526d59fa86307f25c2accaba597f76be9cae36a5206bc10f387743230d6,a4c43c065578c0d2493f348492f5ad8bf9274a4c94bb900d4c2a550dd6eae3da,09f417796779ea60f999ff2a60e111ebd8e42023a61a76a4c3bffdd30b3e0269,fa5312b25cb1cb40dccb65ffa811e352e9bf8410bf815a1c157d91d9ea8930bd,d89aacd61ed2f71275fde262135a68a9e7d276ea29fb54b4e927ac04d46eb332,e4c4ed3364555cf97f380c614993551aef94129b1b15ded06e36ef1262ba8cc3,a16da23d7aabdb3f71f53673e5246ed52b97435c202396d73508b2e2ccccfedc,8ffe8db3de5de378e98aa69dd025e057e1c553f7ca160e5ee184c6829960f5c2,cb9173f5464e7feaf6c8128d53fdccf698bb6f6565fa1b5a7c6c0c7b2ace080d,4df7d9bee42fcf863074ed617af47da462bf867c76626e7a0b660a3f210f0153,6ce2994acf4b8034b98610742cc23679ae1087b90a738c40f7d0f0bea126c642 \n",
      "\n",
      "78e35f388c15cebc177f61518e4ad2fc876606210ed737f709937250353b8dbd,4398bd3677d6b42f287e7166361452cae5310df0dc7790a7b8889d057da90f68,f4f7651a6240ffa30fc0937a4b475ea99806d4cdc797c2785287d56820e4fe23,167c002ff3389d2c4561586b83815c58823cc56da675d7c700a20a6a6ad58841,5e83c7ae50caabb79ebfbc4cdbc49cf7c582ebd33d5e7e101b1649eaacfe9d1a,9562a707631cb27125f4656b455227cd69e617d80740475edeb52a01fbdc8b53 \n",
      "\n",
      "48e9ff0ae36615868b8c10a5d5c340149bb09999060d86cb480b2f5d38253263,6bdb57caf5ccc846927de9849b477b264baa01d47c523c8312e6cf14c59579a8,55156e07261b15c50452910d6428ab76205af1c978afd3d054fa1f0097975608 \n",
      "\n",
      "c9032b570ebf1ba66c7deaa0feffd46566f377f63ca7947f6f7cd43f339d8447,8088d3f6857d68554021c5919b4f2dc0f570724165b67857528f3e837b32dc94,62e47d71d31486e47b6dd85b5bb36cffbe6a51e54a7c84306cde717e81654920,2eb0bfeaa13fc3a6f2b6e42a79e639cb9f38ce3ccc8dcbae340475e44291e2c0,6904f16214053da3bbf7fc29ad109fbc50c225b6b4d577794222ae1b4ccb7e48,a9dfc20b466bc080f4e28e13f175d500bc6dd236b08676a9a393fb33ef69e07a \n",
      "\n",
      "439aeb5dd2096f6793e82469d9713024fb9b5dab379898df3052fa7893d43343,6a03631e12ca70e62f488219123f6ac87c2ea29b91bee96c8e6e0208cdbd002e,533767b644575665b86ed905886d9a6382c9a92c863331c6b2fa7296f5bed70b,76c6a421922d4aaa01b080becacbf0b6b8ca59bf8abc241cf5dee1205a2f51f7,117d543ddef964f33df533270e4795b3254b15d3c0936bc1f2d8da678906a998,afe69a2cc7b0b889c35586b2e24f34a69429719628e17f56e09ada53ff8aa489 \n",
      "\n",
      "f9e032d3b057b4875fd2e57a2ece03a700f5db9c191828e0fba494fd570cd3bd,ce96c942d16c5e2741497b5026d4ebf97093b80392ac2eead3daa9b51522679c,276285a1b5fc1e8d28945415b5470523107d900ec331aa525c6a60945df2bb19,e162d47a9d2ce79062969347fcfc8c366962004d75d934ef2be75d291c4c3f8e,2567e7b59b73f422095b2db127dd6168f0c998e563be2bff0c33a2b0800f49ea \n",
      "\n",
      "f21e55ad921a24aabd52bdf935ec51bc60946584fd63503d3f250a6b6c3b3ecb,30b29a49613c6a8b7bdbf4108874833e377a0f5e4a3f263c2997ec65e9927806,7968c76e1566e17af587fc815291d81114c2bbaccd5394abb5d2bfc5473f2435,793582916470da96291aa6e8cf42008946b1b8400e49be5b088b221e9ed024ae,849923a26f832eb3d075af02c45fe1810b7d1c804f3337ec0ea17edb61498618,6f1d7b662b0f338cb36346ab30fee816901394954d3cf6633f9d45ff1151e534 \n",
      "\n"
     ]
    }
   ],
   "source": [
    "for i in range(10):\n",
    "    t_h = next(temp_hash)\n",
    "    print(t_h, '\\n')\n",
    "    time.sleep(0.1)"
   ]
  },
  {
   "cell_type": "code",
   "execution_count": 20,
   "metadata": {},
   "outputs": [],
   "source": [
    "temp_hash = (i for i in df['hashed'])"
   ]
  },
  {
   "cell_type": "code",
   "execution_count": null,
   "metadata": {},
   "outputs": [
    {
     "name": "stderr",
     "output_type": "stream",
     "text": [
      " 13%|█▎        | 888756/6962341 [00:03<00:17, 339460.34it/s]"
     ]
    }
   ],
   "source": [
    "hashed = []\n",
    "for i in trange(len(df)):\n",
    "    t_h = next(temp_hash)\n",
    "    split_hash = t_h.split(',')\n",
    "    hashed.append(split_hash)"
   ]
  },
  {
   "cell_type": "code",
   "execution_count": 12,
   "metadata": {
    "collapsed": true
   },
   "outputs": [
    {
     "data": {
      "text/plain": [
       "[['967393e81d99ce8e577ee130b7ce8e4fd45e3e9cecb560de427ede6ea49e024f',\n",
       "  'a0b6ecbec654b18fe36ebe6230e25a653fb12125733583d012741572134447f4',\n",
       "  '3193ab18168bcadbcb8342c06c4a35fa0d6e58d9619fe805fb811fc4e6562fef'],\n",
       " ['02181a0c962f34f019bc9d5b582fb0ec79b1441f96aa4d500800502e72476ec4',\n",
       "  '769f00750d87fa59f8b6083aae62fb394e165101796fe5bd5202144060518134',\n",
       "  '3893d4da8854ada5484099d8017c1504d62d98cf11fb2ad2c76b3cde5280bab7',\n",
       "  '039f09f2d5c1206d51c9299a774fe2041db91dcf60b487e7f671613194883949',\n",
       "  '2a8053c8632f8116fa8a8319709d73c09f3cf409d56afb27abb392148dabc7e7'],\n",
       " ['86022904c5cf72a54978479c94041f4256d6c3c2a1f71cc39dfc7cdf62c938ac',\n",
       "  'f162a83e66241e8aa41b4a80aa2a7bfc4f37f5ed2a004a9b5a7d5f6718b38c90',\n",
       "  '8657cb79d60cf11c28a786b6ff515d3eaf1a16ff7279a3801747256263cf9067'],\n",
       " ['aafb40d212fe18ff4eafb82fdcf3b53f2161cb3ce59de4c466fae9609a6c79e7',\n",
       "  '8344732017554ce3fae8351a77977bb5ed8827d851d297773fe7827c28cc7412',\n",
       "  'c7bfc83b0b2406d4d5999a152001d19940ca80799e99b5ca462a0f81a126a145',\n",
       "  '316ca19d808a0506328993ee4e5c02c668b9e70f9f1dc02e01097335f4995b55',\n",
       "  '3f6c0340fa7c75bf5548f154924126bbdbd30d18fd367006aed2ae1f72c49ae5',\n",
       "  'ba41822003161235ccdb6a2733316dcec400148c8138807f62f1604cbf594edf'],\n",
       " ['c87c2fad141edf323f3787335b54be22945a02fe052448839954d6530811f98d',\n",
       "  '00174fac0a9c4ab70320cf7339dcc8613ee777b85c2ebb8b7b16c239d1e3ad54',\n",
       "  'cfaaaf1ae518c4f1a514e54253f9c54c32bded9cf1f61ca47aee40d7f1d04d9c',\n",
       "  '5f00b39a38f9b3cf0ccea50fc5d252ac49e890391090ff7d67ca815f4379ffda',\n",
       "  '42d3be5ec3618c4dc4ae72c323fc4c58e588c59d05594e04d0e61bb0e29b5a0c',\n",
       "  '0292b2dd1a9ca45ede9915a0c677158af16cc97bccc1c071c680734ac3ca8224']]"
      ]
     },
     "execution_count": 12,
     "metadata": {},
     "output_type": "execute_result"
    }
   ],
   "source": [
    "hashed[0:5]"
   ]
  },
  {
   "cell_type": "code",
   "execution_count": 3,
   "metadata": {},
   "outputs": [],
   "source": [
    "import multiprocessing\n",
    "from func import *\n",
    "# 연산보다 IO가 많이 일어나는 Case\n",
    "temp_hash = (i for i in df['hashed'])\n",
    "def main_(data_list):\n",
    "    start_time = time.time()\n",
    "    pool = multiprocessing.Pool(processes=4, initializer=print_initial_msg)\n",
    "    result = pool.map(worker, data_list)\n",
    "    pool.close()\n",
    "    pool.join()\n",
    "    print(\"Time : %f\" % (time.time()-start_time))\n",
    "    return result"
   ]
  },
  {
   "cell_type": "code",
   "execution_count": 4,
   "metadata": {},
   "outputs": [
    {
     "name": "stdout",
     "output_type": "stream",
     "text": [
      "Time : 35.223585\n"
     ]
    }
   ],
   "source": [
    "result1 = main_(df['hashed'])\n",
    "print(result1[0:5])"
   ]
  },
  {
   "cell_type": "code",
   "execution_count": 5,
   "metadata": {},
   "outputs": [
    {
     "name": "stdout",
     "output_type": "stream",
     "text": [
      "Time : 34.323277\n",
      "[['967393e81d99ce8e577ee130b7ce8e4fd45e3e9cecb560de427ede6ea49e024f', 'a0b6ecbec654b18fe36ebe6230e25a653fb12125733583d012741572134447f4', '3193ab18168bcadbcb8342c06c4a35fa0d6e58d9619fe805fb811fc4e6562fef'], ['02181a0c962f34f019bc9d5b582fb0ec79b1441f96aa4d500800502e72476ec4', '769f00750d87fa59f8b6083aae62fb394e165101796fe5bd5202144060518134', '3893d4da8854ada5484099d8017c1504d62d98cf11fb2ad2c76b3cde5280bab7', '039f09f2d5c1206d51c9299a774fe2041db91dcf60b487e7f671613194883949', '2a8053c8632f8116fa8a8319709d73c09f3cf409d56afb27abb392148dabc7e7'], ['86022904c5cf72a54978479c94041f4256d6c3c2a1f71cc39dfc7cdf62c938ac', 'f162a83e66241e8aa41b4a80aa2a7bfc4f37f5ed2a004a9b5a7d5f6718b38c90', '8657cb79d60cf11c28a786b6ff515d3eaf1a16ff7279a3801747256263cf9067'], ['aafb40d212fe18ff4eafb82fdcf3b53f2161cb3ce59de4c466fae9609a6c79e7', '8344732017554ce3fae8351a77977bb5ed8827d851d297773fe7827c28cc7412', 'c7bfc83b0b2406d4d5999a152001d19940ca80799e99b5ca462a0f81a126a145', '316ca19d808a0506328993ee4e5c02c668b9e70f9f1dc02e01097335f4995b55', '3f6c0340fa7c75bf5548f154924126bbdbd30d18fd367006aed2ae1f72c49ae5', 'ba41822003161235ccdb6a2733316dcec400148c8138807f62f1604cbf594edf'], ['c87c2fad141edf323f3787335b54be22945a02fe052448839954d6530811f98d', '00174fac0a9c4ab70320cf7339dcc8613ee777b85c2ebb8b7b16c239d1e3ad54', 'cfaaaf1ae518c4f1a514e54253f9c54c32bded9cf1f61ca47aee40d7f1d04d9c', '5f00b39a38f9b3cf0ccea50fc5d252ac49e890391090ff7d67ca815f4379ffda', '42d3be5ec3618c4dc4ae72c323fc4c58e588c59d05594e04d0e61bb0e29b5a0c', '0292b2dd1a9ca45ede9915a0c677158af16cc97bccc1c071c680734ac3ca8224']]\n"
     ]
    }
   ],
   "source": [
    "result2 = main_(temp_hash)\n",
    "print(result2[0:5])"
   ]
  }
 ],
 "metadata": {
  "kernelspec": {
   "display_name": "Python [conda env:anaconda3]",
   "language": "python",
   "name": "conda-env-anaconda3-py"
  },
  "language_info": {
   "codemirror_mode": {
    "name": "ipython",
    "version": 3
   },
   "file_extension": ".py",
   "mimetype": "text/x-python",
   "name": "python",
   "nbconvert_exporter": "python",
   "pygments_lexer": "ipython3",
   "version": "3.6.4"
  }
 },
 "nbformat": 4,
 "nbformat_minor": 1
}
