{
 "cells": [
  {
   "cell_type": "code",
   "execution_count": 1,
   "metadata": {},
   "outputs": [
    {
     "data": {
      "text/html": [
       "<div>\n",
       "<style scoped>\n",
       "    .dataframe tbody tr th:only-of-type {\n",
       "        vertical-align: middle;\n",
       "    }\n",
       "\n",
       "    .dataframe tbody tr th {\n",
       "        vertical-align: top;\n",
       "    }\n",
       "\n",
       "    .dataframe thead th {\n",
       "        text-align: right;\n",
       "    }\n",
       "</style>\n",
       "<table border=\"1\" class=\"dataframe\">\n",
       "  <thead>\n",
       "    <tr style=\"text-align: right;\">\n",
       "      <th></th>\n",
       "      <th>call_start_day</th>\n",
       "      <th>call_start_time</th>\n",
       "      <th>call_end_day</th>\n",
       "      <th>call_end_time</th>\n",
       "      <th>hashed</th>\n",
       "    </tr>\n",
       "  </thead>\n",
       "  <tbody>\n",
       "    <tr>\n",
       "      <th>0</th>\n",
       "      <td>1</td>\n",
       "      <td>09:14:58.558</td>\n",
       "      <td>1</td>\n",
       "      <td>09:41:30.200</td>\n",
       "      <td>967393e81d99ce8e577ee130b7ce8e4fd45e3e9cecb560...</td>\n",
       "    </tr>\n",
       "    <tr>\n",
       "      <th>1</th>\n",
       "      <td>17</td>\n",
       "      <td>11:05:05.176</td>\n",
       "      <td>17</td>\n",
       "      <td>13:07:42.515</td>\n",
       "      <td>02181a0c962f34f019bc9d5b582fb0ec79b1441f96aa4d...</td>\n",
       "    </tr>\n",
       "    <tr>\n",
       "      <th>2</th>\n",
       "      <td>20</td>\n",
       "      <td>02:18:43.172</td>\n",
       "      <td>20</td>\n",
       "      <td>02:28:58.177</td>\n",
       "      <td>86022904c5cf72a54978479c94041f4256d6c3c2a1f71c...</td>\n",
       "    </tr>\n",
       "    <tr>\n",
       "      <th>3</th>\n",
       "      <td>22</td>\n",
       "      <td>09:22:01.936</td>\n",
       "      <td>22</td>\n",
       "      <td>09:47:40.192</td>\n",
       "      <td>aafb40d212fe18ff4eafb82fdcf3b53f2161cb3ce59de4...</td>\n",
       "    </tr>\n",
       "    <tr>\n",
       "      <th>4</th>\n",
       "      <td>26</td>\n",
       "      <td>06:29:21.182</td>\n",
       "      <td>26</td>\n",
       "      <td>06:50:55.004</td>\n",
       "      <td>c87c2fad141edf323f3787335b54be22945a02fe052448...</td>\n",
       "    </tr>\n",
       "  </tbody>\n",
       "</table>\n",
       "</div>"
      ],
      "text/plain": [
       "   call_start_day call_start_time  call_end_day call_end_time  \\\n",
       "0               1    09:14:58.558             1  09:41:30.200   \n",
       "1              17    11:05:05.176            17  13:07:42.515   \n",
       "2              20    02:18:43.172            20  02:28:58.177   \n",
       "3              22    09:22:01.936            22  09:47:40.192   \n",
       "4              26    06:29:21.182            26  06:50:55.004   \n",
       "\n",
       "                                              hashed  \n",
       "0  967393e81d99ce8e577ee130b7ce8e4fd45e3e9cecb560...  \n",
       "1  02181a0c962f34f019bc9d5b582fb0ec79b1441f96aa4d...  \n",
       "2  86022904c5cf72a54978479c94041f4256d6c3c2a1f71c...  \n",
       "3  aafb40d212fe18ff4eafb82fdcf3b53f2161cb3ce59de4...  \n",
       "4  c87c2fad141edf323f3787335b54be22945a02fe052448...  "
      ]
     },
     "execution_count": 1,
     "metadata": {},
     "output_type": "execute_result"
    }
   ],
   "source": [
    "import pandas as pd\n",
    "raw_data = pd.read_csv('group_call_HMS.csv')\n",
    "raw_data.head()"
   ]
  },
  {
   "cell_type": "code",
   "execution_count": 2,
   "metadata": {},
   "outputs": [],
   "source": [
    "def change_to_second(x):\n",
    "    hour = int(x[:2])\n",
    "    minute = int(x[3:5])\n",
    "    second = float(x[6:])\n",
    "    return 3600*hour + 60*minute + second"
   ]
  },
  {
   "cell_type": "code",
   "execution_count": 3,
   "metadata": {},
   "outputs": [
    {
     "name": "stderr",
     "output_type": "stream",
     "text": [
      "100%|██████████| 6962341/6962341 [00:33<00:00, 209318.33it/s]\n"
     ]
    }
   ],
   "source": [
    "import tqdm\n",
    "\n",
    "start_time = (i for i in raw_data['call_start_time'])\n",
    "end_time = (i for i in raw_data['call_end_time'])\n",
    "start_day = (i for i in raw_data['call_start_day'])\n",
    "end_day = (i for i in raw_data['call_end_day'])\n",
    "\n",
    "real_call_time=[]\n",
    "for i in tqdm.trange(len(raw_data)):\n",
    "    temp_start_time = next(start_time)\n",
    "    temp_end_time = next(end_time)\n",
    "    second_start = change_to_second(temp_start_time)\n",
    "    second_end = change_to_second(temp_end_time)\n",
    "    real_call_time.append(3600*24*(next(end_day)-next(start_day))+ second_end - second_start)\n",
    " "
   ]
  },
  {
   "cell_type": "code",
   "execution_count": 4,
   "metadata": {},
   "outputs": [
    {
     "data": {
      "text/html": [
       "<div>\n",
       "<style scoped>\n",
       "    .dataframe tbody tr th:only-of-type {\n",
       "        vertical-align: middle;\n",
       "    }\n",
       "\n",
       "    .dataframe tbody tr th {\n",
       "        vertical-align: top;\n",
       "    }\n",
       "\n",
       "    .dataframe thead th {\n",
       "        text-align: right;\n",
       "    }\n",
       "</style>\n",
       "<table border=\"1\" class=\"dataframe\">\n",
       "  <thead>\n",
       "    <tr style=\"text-align: right;\">\n",
       "      <th></th>\n",
       "      <th>hashed</th>\n",
       "      <th>call_time</th>\n",
       "    </tr>\n",
       "  </thead>\n",
       "  <tbody>\n",
       "    <tr>\n",
       "      <th>0</th>\n",
       "      <td>967393e81d99ce8e577ee130b7ce8e4fd45e3e9cecb560...</td>\n",
       "      <td>1591.642</td>\n",
       "    </tr>\n",
       "    <tr>\n",
       "      <th>1</th>\n",
       "      <td>02181a0c962f34f019bc9d5b582fb0ec79b1441f96aa4d...</td>\n",
       "      <td>7357.339</td>\n",
       "    </tr>\n",
       "    <tr>\n",
       "      <th>2</th>\n",
       "      <td>86022904c5cf72a54978479c94041f4256d6c3c2a1f71c...</td>\n",
       "      <td>615.005</td>\n",
       "    </tr>\n",
       "    <tr>\n",
       "      <th>3</th>\n",
       "      <td>aafb40d212fe18ff4eafb82fdcf3b53f2161cb3ce59de4...</td>\n",
       "      <td>1538.256</td>\n",
       "    </tr>\n",
       "    <tr>\n",
       "      <th>4</th>\n",
       "      <td>c87c2fad141edf323f3787335b54be22945a02fe052448...</td>\n",
       "      <td>1293.822</td>\n",
       "    </tr>\n",
       "  </tbody>\n",
       "</table>\n",
       "</div>"
      ],
      "text/plain": [
       "                                              hashed  call_time\n",
       "0  967393e81d99ce8e577ee130b7ce8e4fd45e3e9cecb560...   1591.642\n",
       "1  02181a0c962f34f019bc9d5b582fb0ec79b1441f96aa4d...   7357.339\n",
       "2  86022904c5cf72a54978479c94041f4256d6c3c2a1f71c...    615.005\n",
       "3  aafb40d212fe18ff4eafb82fdcf3b53f2161cb3ce59de4...   1538.256\n",
       "4  c87c2fad141edf323f3787335b54be22945a02fe052448...   1293.822"
      ]
     },
     "execution_count": 4,
     "metadata": {},
     "output_type": "execute_result"
    }
   ],
   "source": [
    "raw_data['call_time'] = real_call_time\n",
    "del raw_data['call_start_day']\n",
    "del raw_data['call_end_day']\n",
    "del raw_data['call_start_time']\n",
    "del raw_data['call_end_time']\n",
    "raw_data.head()"
   ]
  },
  {
   "cell_type": "code",
   "execution_count": 5,
   "metadata": {},
   "outputs": [
    {
     "name": "stderr",
     "output_type": "stream",
     "text": [
      "100%|██████████| 6962341/6962341 [01:20<00:00, 86979.75it/s]\n"
     ]
    }
   ],
   "source": [
    "sum_time =[{},{}]\n",
    "temp_hash = (i for i in raw_data['hashed'])\n",
    "temp_call_time = (i for i in raw_data['call_time'])\n",
    "\n",
    "\n",
    "# next로 주소값 불러오기 \n",
    "for i in tqdm.trange(len(raw_data)):\n",
    "    call_time = next(temp_call_time) # 첫번째 그룹의 call time\n",
    "    t_h = next(temp_hash) # 첫번째 그룹\n",
    "    split_hash = t_h.split(',') # [a,b,c,d]\n",
    "    \n",
    "    \n",
    "    temp_split_hash = (user for user in split_hash) #  제너레이터 [a,b,c,d]\n",
    "    \n",
    "    for j in range(len(split_hash)):\n",
    "        user_id = next(temp_split_hash) # 첫번째 그룹의 사람한명\n",
    "        \n",
    "        if user_id in sum_time[0].keys():\n",
    "            sum_time[0][user_id] += call_time\n",
    "            \n",
    "        else:\n",
    "            sum_time[0][user_id] = call_time\n",
    "            \n",
    "        if user_id in sum_time[1].keys():\n",
    "            sum_time[1][user_id] += 1\n",
    "            \n",
    "        else:\n",
    "            sum_time[1][user_id] = 1\n",
    "        \n",
    "            \n",
    "        "
   ]
  },
  {
   "cell_type": "code",
   "execution_count": 1,
   "metadata": {},
   "outputs": [
    {
     "ename": "NameError",
     "evalue": "name 'pd' is not defined",
     "output_type": "error",
     "traceback": [
      "\u001b[0;31m---------------------------------------------------------------------------\u001b[0m",
      "\u001b[0;31mNameError\u001b[0m                                 Traceback (most recent call last)",
      "\u001b[0;32m<ipython-input-1-1609d186064a>\u001b[0m in \u001b[0;36m<module>\u001b[0;34m()\u001b[0m\n\u001b[0;32m----> 1\u001b[0;31m \u001b[0mnew_data1\u001b[0m \u001b[0;34m=\u001b[0m \u001b[0mpd\u001b[0m\u001b[0;34m.\u001b[0m\u001b[0mDataFrame\u001b[0m\u001b[0;34m(\u001b[0m\u001b[0mlist\u001b[0m\u001b[0;34m(\u001b[0m\u001b[0msum_time\u001b[0m\u001b[0;34m[\u001b[0m\u001b[0;36m0\u001b[0m\u001b[0;34m]\u001b[0m\u001b[0;34m.\u001b[0m\u001b[0mitems\u001b[0m\u001b[0;34m(\u001b[0m\u001b[0;34m)\u001b[0m\u001b[0;34m)\u001b[0m\u001b[0;34m,\u001b[0m\u001b[0mcolumns\u001b[0m\u001b[0;34m=\u001b[0m\u001b[0;34m[\u001b[0m\u001b[0;34m'ID'\u001b[0m\u001b[0;34m,\u001b[0m\u001b[0;34m'TIME'\u001b[0m\u001b[0;34m]\u001b[0m\u001b[0;34m)\u001b[0m\u001b[0;34m\u001b[0m\u001b[0m\n\u001b[0m\u001b[1;32m      2\u001b[0m \u001b[0mnew_data2\u001b[0m \u001b[0;34m=\u001b[0m \u001b[0mpd\u001b[0m\u001b[0;34m.\u001b[0m\u001b[0mDataFrame\u001b[0m\u001b[0;34m(\u001b[0m\u001b[0mlist\u001b[0m\u001b[0;34m(\u001b[0m\u001b[0msum_time\u001b[0m\u001b[0;34m[\u001b[0m\u001b[0;36m1\u001b[0m\u001b[0;34m]\u001b[0m\u001b[0;34m.\u001b[0m\u001b[0mitems\u001b[0m\u001b[0;34m(\u001b[0m\u001b[0;34m)\u001b[0m\u001b[0;34m)\u001b[0m\u001b[0;34m,\u001b[0m\u001b[0mcolumns\u001b[0m\u001b[0;34m=\u001b[0m\u001b[0;34m[\u001b[0m\u001b[0;34m'ID'\u001b[0m\u001b[0;34m,\u001b[0m\u001b[0;34m'COUNT'\u001b[0m\u001b[0;34m]\u001b[0m\u001b[0;34m)\u001b[0m\u001b[0;34m\u001b[0m\u001b[0m\n",
      "\u001b[0;31mNameError\u001b[0m: name 'pd' is not defined"
     ]
    }
   ],
   "source": [
    "new_data1 = pd.DataFrame(list(sum_time[0].items()),columns=['ID','TIME'])\n",
    "new_data2 = pd.DataFrame(list(sum_time[1].items()),columns=['ID','COUNT'])"
   ]
  },
  {
   "cell_type": "code",
   "execution_count": 7,
   "metadata": {},
   "outputs": [
    {
     "data": {
      "text/html": [
       "<div>\n",
       "<style scoped>\n",
       "    .dataframe tbody tr th:only-of-type {\n",
       "        vertical-align: middle;\n",
       "    }\n",
       "\n",
       "    .dataframe tbody tr th {\n",
       "        vertical-align: top;\n",
       "    }\n",
       "\n",
       "    .dataframe thead th {\n",
       "        text-align: right;\n",
       "    }\n",
       "</style>\n",
       "<table border=\"1\" class=\"dataframe\">\n",
       "  <thead>\n",
       "    <tr style=\"text-align: right;\">\n",
       "      <th></th>\n",
       "      <th>ID</th>\n",
       "      <th>TIME</th>\n",
       "    </tr>\n",
       "  </thead>\n",
       "  <tbody>\n",
       "    <tr>\n",
       "      <th>0</th>\n",
       "      <td>967393e81d99ce8e577ee130b7ce8e4fd45e3e9cecb560...</td>\n",
       "      <td>354761.827</td>\n",
       "    </tr>\n",
       "    <tr>\n",
       "      <th>1</th>\n",
       "      <td>a0b6ecbec654b18fe36ebe6230e25a653fb12125733583...</td>\n",
       "      <td>78372.345</td>\n",
       "    </tr>\n",
       "    <tr>\n",
       "      <th>2</th>\n",
       "      <td>3193ab18168bcadbcb8342c06c4a35fa0d6e58d9619fe8...</td>\n",
       "      <td>448051.062</td>\n",
       "    </tr>\n",
       "    <tr>\n",
       "      <th>3</th>\n",
       "      <td>02181a0c962f34f019bc9d5b582fb0ec79b1441f96aa4d...</td>\n",
       "      <td>855458.296</td>\n",
       "    </tr>\n",
       "    <tr>\n",
       "      <th>4</th>\n",
       "      <td>769f00750d87fa59f8b6083aae62fb394e165101796fe5...</td>\n",
       "      <td>774491.333</td>\n",
       "    </tr>\n",
       "  </tbody>\n",
       "</table>\n",
       "</div>"
      ],
      "text/plain": [
       "                                                  ID        TIME\n",
       "0  967393e81d99ce8e577ee130b7ce8e4fd45e3e9cecb560...  354761.827\n",
       "1  a0b6ecbec654b18fe36ebe6230e25a653fb12125733583...   78372.345\n",
       "2  3193ab18168bcadbcb8342c06c4a35fa0d6e58d9619fe8...  448051.062\n",
       "3  02181a0c962f34f019bc9d5b582fb0ec79b1441f96aa4d...  855458.296\n",
       "4  769f00750d87fa59f8b6083aae62fb394e165101796fe5...  774491.333"
      ]
     },
     "execution_count": 7,
     "metadata": {},
     "output_type": "execute_result"
    }
   ],
   "source": [
    "new_data1.head()"
   ]
  },
  {
   "cell_type": "code",
   "execution_count": 8,
   "metadata": {},
   "outputs": [
    {
     "data": {
      "text/html": [
       "<div>\n",
       "<style scoped>\n",
       "    .dataframe tbody tr th:only-of-type {\n",
       "        vertical-align: middle;\n",
       "    }\n",
       "\n",
       "    .dataframe tbody tr th {\n",
       "        vertical-align: top;\n",
       "    }\n",
       "\n",
       "    .dataframe thead th {\n",
       "        text-align: right;\n",
       "    }\n",
       "</style>\n",
       "<table border=\"1\" class=\"dataframe\">\n",
       "  <thead>\n",
       "    <tr style=\"text-align: right;\">\n",
       "      <th></th>\n",
       "      <th>ID</th>\n",
       "      <th>COUNT</th>\n",
       "    </tr>\n",
       "  </thead>\n",
       "  <tbody>\n",
       "    <tr>\n",
       "      <th>0</th>\n",
       "      <td>967393e81d99ce8e577ee130b7ce8e4fd45e3e9cecb560...</td>\n",
       "      <td>129</td>\n",
       "    </tr>\n",
       "    <tr>\n",
       "      <th>1</th>\n",
       "      <td>a0b6ecbec654b18fe36ebe6230e25a653fb12125733583...</td>\n",
       "      <td>110</td>\n",
       "    </tr>\n",
       "    <tr>\n",
       "      <th>2</th>\n",
       "      <td>3193ab18168bcadbcb8342c06c4a35fa0d6e58d9619fe8...</td>\n",
       "      <td>479</td>\n",
       "    </tr>\n",
       "    <tr>\n",
       "      <th>3</th>\n",
       "      <td>02181a0c962f34f019bc9d5b582fb0ec79b1441f96aa4d...</td>\n",
       "      <td>267</td>\n",
       "    </tr>\n",
       "    <tr>\n",
       "      <th>4</th>\n",
       "      <td>769f00750d87fa59f8b6083aae62fb394e165101796fe5...</td>\n",
       "      <td>290</td>\n",
       "    </tr>\n",
       "  </tbody>\n",
       "</table>\n",
       "</div>"
      ],
      "text/plain": [
       "                                                  ID  COUNT\n",
       "0  967393e81d99ce8e577ee130b7ce8e4fd45e3e9cecb560...    129\n",
       "1  a0b6ecbec654b18fe36ebe6230e25a653fb12125733583...    110\n",
       "2  3193ab18168bcadbcb8342c06c4a35fa0d6e58d9619fe8...    479\n",
       "3  02181a0c962f34f019bc9d5b582fb0ec79b1441f96aa4d...    267\n",
       "4  769f00750d87fa59f8b6083aae62fb394e165101796fe5...    290"
      ]
     },
     "execution_count": 8,
     "metadata": {},
     "output_type": "execute_result"
    }
   ],
   "source": [
    "new_data2.head()"
   ]
  },
  {
   "cell_type": "code",
   "execution_count": 9,
   "metadata": {},
   "outputs": [
    {
     "data": {
      "text/html": [
       "<div>\n",
       "<style scoped>\n",
       "    .dataframe tbody tr th:only-of-type {\n",
       "        vertical-align: middle;\n",
       "    }\n",
       "\n",
       "    .dataframe tbody tr th {\n",
       "        vertical-align: top;\n",
       "    }\n",
       "\n",
       "    .dataframe thead th {\n",
       "        text-align: right;\n",
       "    }\n",
       "</style>\n",
       "<table border=\"1\" class=\"dataframe\">\n",
       "  <thead>\n",
       "    <tr style=\"text-align: right;\">\n",
       "      <th></th>\n",
       "      <th>ID</th>\n",
       "      <th>TIME</th>\n",
       "      <th>COUNT</th>\n",
       "    </tr>\n",
       "  </thead>\n",
       "  <tbody>\n",
       "    <tr>\n",
       "      <th>0</th>\n",
       "      <td>967393e81d99ce8e577ee130b7ce8e4fd45e3e9cecb560...</td>\n",
       "      <td>354761.827</td>\n",
       "      <td>129</td>\n",
       "    </tr>\n",
       "    <tr>\n",
       "      <th>1</th>\n",
       "      <td>a0b6ecbec654b18fe36ebe6230e25a653fb12125733583...</td>\n",
       "      <td>78372.345</td>\n",
       "      <td>110</td>\n",
       "    </tr>\n",
       "    <tr>\n",
       "      <th>2</th>\n",
       "      <td>3193ab18168bcadbcb8342c06c4a35fa0d6e58d9619fe8...</td>\n",
       "      <td>448051.062</td>\n",
       "      <td>479</td>\n",
       "    </tr>\n",
       "    <tr>\n",
       "      <th>3</th>\n",
       "      <td>02181a0c962f34f019bc9d5b582fb0ec79b1441f96aa4d...</td>\n",
       "      <td>855458.296</td>\n",
       "      <td>267</td>\n",
       "    </tr>\n",
       "    <tr>\n",
       "      <th>4</th>\n",
       "      <td>769f00750d87fa59f8b6083aae62fb394e165101796fe5...</td>\n",
       "      <td>774491.333</td>\n",
       "      <td>290</td>\n",
       "    </tr>\n",
       "  </tbody>\n",
       "</table>\n",
       "</div>"
      ],
      "text/plain": [
       "                                                  ID        TIME  COUNT\n",
       "0  967393e81d99ce8e577ee130b7ce8e4fd45e3e9cecb560...  354761.827    129\n",
       "1  a0b6ecbec654b18fe36ebe6230e25a653fb12125733583...   78372.345    110\n",
       "2  3193ab18168bcadbcb8342c06c4a35fa0d6e58d9619fe8...  448051.062    479\n",
       "3  02181a0c962f34f019bc9d5b582fb0ec79b1441f96aa4d...  855458.296    267\n",
       "4  769f00750d87fa59f8b6083aae62fb394e165101796fe5...  774491.333    290"
      ]
     },
     "execution_count": 9,
     "metadata": {},
     "output_type": "execute_result"
    }
   ],
   "source": [
    "new_data1 = pd.merge(new_data1,new_data2,on='ID')\n",
    "new_data1.head()"
   ]
  },
  {
   "cell_type": "code",
   "execution_count": null,
   "metadata": {},
   "outputs": [],
   "source": []
  }
 ],
 "metadata": {
  "kernelspec": {
   "display_name": "Python [conda env:anaconda3]",
   "language": "python",
   "name": "conda-env-anaconda3-py"
  },
  "language_info": {
   "codemirror_mode": {
    "name": "ipython",
    "version": 3
   },
   "file_extension": ".py",
   "mimetype": "text/x-python",
   "name": "python",
   "nbconvert_exporter": "python",
   "pygments_lexer": "ipython3",
   "version": "3.6.4"
  }
 },
 "nbformat": 4,
 "nbformat_minor": 2
}
